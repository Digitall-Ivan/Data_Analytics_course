{
  "cells": [
    {
      "cell_type": "markdown",
      "metadata": {
        "id": "view-in-github",
        "colab_type": "text"
      },
      "source": [
        "<a href=\"https://colab.research.google.com/github/Digitall-Ivan/Data_Analytics_course/blob/main/ivan_zakorchevnyi_hw_17__clear_code.ipynb\" target=\"_parent\"><img src=\"https://colab.research.google.com/assets/colab-badge.svg\" alt=\"Open In Colab\"/></a>"
      ]
    },
    {
      "cell_type": "markdown",
      "id": "aed503f1",
      "metadata": {
        "ExecuteTime": {
          "end_time": "2023-07-27T20:14:32.871852Z",
          "start_time": "2023-07-27T20:14:31.036121Z"
        },
        "id": "aed503f1"
      },
      "source": [
        "У завданнях 1-4. Вам наданий простий код на Python, який не відповідає вказівкам PEP8. Ваше завдання — відредагувати код так, аби він відповідав PEP8. Напишіть після редагуванню коду, дотримання яких правил з pep8 ви досягли в відредагованій версі, наприклад\n",
        "```\n",
        "- додала пробіли навколо бінарного оператора\n",
        "- додала два порожні рядки між визначеннями функцій\n",
        "і тд\n",
        "```\n",
        "Також можна зазанчити використані правила коментарями по коду, а не окремим повідомленням.\n",
        "\n",
        "Відредагований код має виконувати весь той самий функціонал, але бути написаний відповідно до вимог до гарного коду на Python! Не забудьте запустити відредагований код, він має бути робочим."
      ]
    },
    {
      "cell_type": "markdown",
      "id": "e7fea147",
      "metadata": {
        "id": "e7fea147"
      },
      "source": [
        "Завдання 1."
      ]
    },
    {
      "cell_type": "code",
      "execution_count": null,
      "id": "f63d84d7",
      "metadata": {
        "ExecuteTime": {
          "end_time": "2023-07-29T17:02:37.075783Z",
          "start_time": "2023-07-29T17:02:37.035259Z"
        },
        "id": "f63d84d7"
      },
      "outputs": [],
      "source": [
        "def greet(name):print(f\"Hello, {name}\")\n",
        "def add(n1,n2):return n1+n2\n",
        "\n",
        "x = 5;y = 3\n",
        "display(greet(\"John\"),add(x,y))\n"
      ]
    },
    {
      "cell_type": "code",
      "execution_count": null,
      "id": "41b7e672",
      "metadata": {
        "id": "41b7e672",
        "colab": {
          "base_uri": "https://localhost:8080/"
        },
        "outputId": "67423833-25e3-45af-9dda-84e612dddfc5"
      },
      "outputs": [
        {
          "output_type": "stream",
          "name": "stdout",
          "text": [
            "Hello, John\n",
            "8\n"
          ]
        }
      ],
      "source": [
        "# Відформатував код відповідно до PEP8:\n",
        "# Додав два порожні рядки між визначеннями функцій\n",
        "# Додав пробіли після ком і навколо операторів =\n",
        "# Розбив код на кілька рядків для кращої читабельності\n",
        "# Використано функцію print замість display (оскільки display немає у стандартному Python)\n",
        "\n",
        "def greet(name):\n",
        "    \"\"\"Повертає рядок-привітання з ім'ям\"\"\"\n",
        "    return f\"Hello, {name}\"\n",
        "\n",
        "\n",
        "def add(n1, n2):\n",
        "    \"\"\"Повертає суму двох чисел\"\"\"\n",
        "    return n1 + n2\n",
        "\n",
        "\n",
        "x = 5\n",
        "y = 3\n",
        "\n",
        "print(greet(\"John\"))\n",
        "print(add(x, y))\n"
      ]
    },
    {
      "cell_type": "markdown",
      "id": "cea88baf",
      "metadata": {
        "id": "cea88baf"
      },
      "source": [
        "Завдання 2."
      ]
    },
    {
      "cell_type": "code",
      "execution_count": null,
      "id": "dfb6d2b5",
      "metadata": {
        "ExecuteTime": {
          "end_time": "2023-07-29T17:05:49.706098Z",
          "start_time": "2023-07-29T17:05:49.688255Z"
        },
        "id": "dfb6d2b5"
      },
      "outputs": [],
      "source": [
        "from math import *\n",
        "def calcArea(r):return pi*r**2\n",
        "def calcCircumference(r):return 2*pi*r\n",
        "\n",
        "radius=5\n",
        "print(\"Area:\",calcArea(radius),\"Circumference:\",calcCircumference(radius))"
      ]
    },
    {
      "cell_type": "code",
      "execution_count": null,
      "id": "df263672",
      "metadata": {
        "id": "df263672",
        "colab": {
          "base_uri": "https://localhost:8080/"
        },
        "outputId": "21ee1d45-38f8-43b1-eb36-712a76184fa2"
      },
      "outputs": [
        {
          "output_type": "stream",
          "name": "stdout",
          "text": [
            "Area: 78.53981633974483\n",
            "Circumference: 31.41592653589793\n"
          ]
        }
      ],
      "source": [
        "# Відформатував код згідно з PEP8:\n",
        "# Імпортував тільки потрібні елементи замість \"import *\"\n",
        "# Додав 2 порожні рядки між визначеннями функцій\n",
        "# Додав пробіли після ком і навколо операторів\n",
        "# Імена функцій навів у snake_case\n",
        "# Максимальна довжина рядка дотримав < 79 символів\n",
        "\n",
        "from math import pi\n",
        "\n",
        "\n",
        "def calc_area(r):\n",
        "    \"\"\"Повертає площу кола з радіусом r.\"\"\"\n",
        "    return pi * r ** 2\n",
        "\n",
        "\n",
        "def calc_circumference(r):\n",
        "    \"\"\"Повертає довжину кола з радіусом r.\"\"\"\n",
        "    return 2 * pi * r\n",
        "\n",
        "\n",
        "radius = 5\n",
        "\n",
        "print(\"Area:\", calc_area(radius))\n",
        "print(\"Circumference:\", calc_circumference(radius))\n"
      ]
    },
    {
      "cell_type": "markdown",
      "id": "1fd691b7",
      "metadata": {
        "id": "1fd691b7"
      },
      "source": [
        "Завдання 3."
      ]
    },
    {
      "cell_type": "code",
      "execution_count": null,
      "id": "1d5acb2d",
      "metadata": {
        "ExecuteTime": {
          "end_time": "2023-07-29T17:06:18.612622Z",
          "start_time": "2023-07-29T17:06:18.598477Z"
        },
        "id": "1d5acb2d"
      },
      "outputs": [],
      "source": [
        "class animal: pass\n",
        "class dog(animal):\n",
        "    def __init__(self,name):\n",
        "        self.name=name\n",
        "        self.type='Dog'"
      ]
    },
    {
      "cell_type": "code",
      "execution_count": null,
      "id": "0d4b2b8a",
      "metadata": {
        "id": "0d4b2b8a"
      },
      "outputs": [],
      "source": [
        "# Відформатував код згідно з PEP8:\n",
        "# Імена класів навів у CamelCase\n",
        "# Додав два порожні рядки перед визначеннями класів\n",
        "# Додав пробіли після ком та навколо =\n",
        "# Вирівняв відступи у 4 пробіли\n",
        "# Додав докстрінги для класів та методів\n",
        "\n",
        "class Animal:\n",
        "    \"\"\"Базовий клас для тварин\"\"\"\n",
        "    pass\n",
        "\n",
        "\n",
        "class Dog(Animal):\n",
        "    \"\"\"Клас для представлення собаки\"\"\"\n",
        "\n",
        "    def __init__(self, name):\n",
        "        \"\"\"Ініціалізує собаку з ім'ям та типом\"\"\"\n",
        "        self.name = name\n",
        "        self.type = \"Dog\""
      ]
    },
    {
      "cell_type": "markdown",
      "id": "7d1d4f5d",
      "metadata": {
        "id": "7d1d4f5d"
      },
      "source": [
        "Завдання 4."
      ]
    },
    {
      "cell_type": "code",
      "execution_count": null,
      "id": "a91c1cc4",
      "metadata": {
        "ExecuteTime": {
          "end_time": "2023-07-29T17:06:47.180263Z",
          "start_time": "2023-07-29T17:06:47.173617Z"
        },
        "id": "a91c1cc4"
      },
      "outputs": [],
      "source": [
        "list=[1,2,3,4,5]\n",
        "for i in range(len(list)):print(list[i])"
      ]
    },
    {
      "cell_type": "code",
      "execution_count": null,
      "id": "c0f9541a",
      "metadata": {
        "id": "c0f9541a",
        "colab": {
          "base_uri": "https://localhost:8080/"
        },
        "outputId": "33a32d95-dc14-4ab6-8c56-07fd6b3087b2"
      },
      "outputs": [
        {
          "output_type": "stream",
          "name": "stdout",
          "text": [
            "1\n",
            "2\n",
            "3\n",
            "4\n",
            "5\n"
          ]
        }
      ],
      "source": [
        "# Відформатував код згідно з PEP8:\n",
        "# Прибрав використання зарезервованого імені list як змінної\n",
        "# Додав пробіли після ком\n",
        "# Розбив код на кілька рядків для кращої читабельності\n",
        "# Використав ітерацію напряму по списку (Pythonic way)\n",
        "\n",
        "numbers = [1, 2, 3, 4, 5]\n",
        "\n",
        "for number in numbers:\n",
        "    print(number)\n"
      ]
    },
    {
      "cell_type": "markdown",
      "id": "8b0487e6",
      "metadata": {
        "id": "8b0487e6"
      },
      "source": [
        "5.У вас є DataFrame df, що представляє результати тестів студентів з математики, англійської мови та історії. Поточний код обчислює середній бал для кожного студента шляхом ітерації за рядками DataFrame за допомогою iterrows().\n",
        "\n",
        "Ваше завдання полягає в тому, щоб змінити код так, аби уникнути використання iterrows() і замість цього застосувати більш ефективне та читабельне рішення відповідно до правил, озвучених у лекції. Рефакторинг треба зробити лише частині, де рахуються середні, імпорт і визначення датафрейму лишаємо без змін."
      ]
    },
    {
      "cell_type": "code",
      "execution_count": null,
      "id": "5b3cc648",
      "metadata": {
        "ExecuteTime": {
          "end_time": "2023-07-29T17:15:55.926882Z",
          "start_time": "2023-07-29T17:15:55.686415Z"
        },
        "id": "5b3cc648"
      },
      "outputs": [],
      "source": [
        "import pandas as pd\n",
        "\n",
        "df = pd.DataFrame({\n",
        "    'student': ['Alice', 'Bob', 'Charlie', 'David'],\n",
        "    'math_score': [89, 94, 77, 85],\n",
        "    'english_score': [92, 88, 79, 85],\n",
        "    'history_score': [84, 92, 81, 89]\n",
        "})"
      ]
    },
    {
      "cell_type": "code",
      "execution_count": null,
      "id": "f5858889",
      "metadata": {
        "ExecuteTime": {
          "end_time": "2023-07-29T17:15:55.926882Z",
          "start_time": "2023-07-29T17:15:55.686415Z"
        },
        "id": "f5858889"
      },
      "outputs": [],
      "source": [
        "averages = []\n",
        "for _, row in df.iterrows():\n",
        "    averages.append((row['math_score'] + row['english_score'] + row['history_score']) / 3)\n",
        "\n",
        "df['average_score'] = averages"
      ]
    },
    {
      "cell_type": "code",
      "execution_count": null,
      "id": "74cea4fc",
      "metadata": {
        "id": "74cea4fc",
        "colab": {
          "base_uri": "https://localhost:8080/"
        },
        "outputId": "689e3b42-b94e-4cd9-fab4-8b5123882be8"
      },
      "outputs": [
        {
          "output_type": "stream",
          "name": "stdout",
          "text": [
            "   student  math_score  english_score  history_score  average_score\n",
            "0    Alice          89             92             84      88.333333\n",
            "1      Bob          94             88             92      91.333333\n",
            "2  Charlie          77             79             81      79.000000\n",
            "3    David          85             85             89      86.333333\n"
          ]
        }
      ],
      "source": [
        "# Використав векторизовані операції Pandas замість iterrows\n",
        "df = df.assign(\n",
        "    average_score=df[[\"math_score\", \"english_score\", \"history_score\"]].mean(axis=1)\n",
        ")\n",
        "\n",
        "print(df)"
      ]
    },
    {
      "cell_type": "markdown",
      "id": "34fb1db9",
      "metadata": {
        "id": "34fb1db9"
      },
      "source": [
        "6.У Вас є великий DataFrame df, що представляє транзакції продажу в магазині. Цей DataFrame містить понад 1 мільйон рядків і кілька стовпців, зокрема «product_name», «product_category», «product_price» і «transaction_date».\n",
        "\n",
        "І «product_name», і «product_category» є рядками, що представляють численні, але обмежені унікальні назви продуктів і категорії відповідно.\n",
        "\n",
        "Напишіть код для ефективного перетворення стовпців «product_name» і «product_category» на категорійний тип для ефективного використання пам’яті.\n",
        "Спробуйте вирішити це завдання, мінімізуючи використання пам'яті та зберігаючи читабельність коду. Крім того, виміряйте використання пам’яті до та після перетворення, щоб продемонструвати підвищення ефективності.\n",
        "\n",
        "Порівняйте кількість памʼяті, яку займає наданий набір даних і новий, створений Вами. В лекції був приклад. В скільки разів менше памʼяті займає новий датафрейм?"
      ]
    },
    {
      "cell_type": "code",
      "execution_count": null,
      "id": "d4926909",
      "metadata": {
        "ExecuteTime": {
          "end_time": "2023-07-29T21:19:30.009527Z",
          "start_time": "2023-07-29T21:19:29.595210Z"
        },
        "id": "d4926909"
      },
      "outputs": [],
      "source": [
        "import pandas as pd\n",
        "import numpy as np\n",
        "\n",
        "np.random.seed(0)\n",
        "\n",
        "products = ['apple', 'banana', 'cherry', 'dates', 'elderberry']\n",
        "categories = ['fruit', 'fruit', 'fruit', 'fruit', 'fruit']\n",
        "\n",
        "N_ROWS = 10**6\n",
        "df = pd.DataFrame({\n",
        "    'product_name': np.random.choice(products, N_ROWS),\n",
        "    'product_category': np.random.choice(categories, N_ROWS),\n",
        "    'product_price': np.random.uniform(1, 10, N_ROWS),\n",
        "    'transaction_date': pd.date_range(start='1/1/2000', periods=N_ROWS, freq='h')\n",
        "})"
      ]
    },
    {
      "cell_type": "code",
      "source": [
        "import pandas as pd\n",
        "import numpy as np\n",
        "\n",
        "np.random.seed(0)\n",
        "\n",
        "products = ['apple', 'banana', 'cherry', 'dates', 'elderberry']\n",
        "categories = ['fruit', 'fruit', 'fruit', 'fruit', 'fruit']\n",
        "\n",
        "N_ROWS = 10**6\n",
        "df = pd.DataFrame({\n",
        "    'product_name': np.random.choice(products, N_ROWS),\n",
        "    'product_category': np.random.choice(categories, N_ROWS),\n",
        "    'product_price': np.random.uniform(1, 10, N_ROWS),\n",
        "    'transaction_date': pd.date_range(start='1/1/2000', periods=N_ROWS, freq='h')\n",
        "})\n",
        "\n",
        "# Пам'ять до перетворення\n",
        "mem_before = df.memory_usage(deep=True).sum() / (1024 ** 2)\n",
        "print(f\"Memory usage before: {mem_before:.2f} MB\")\n",
        "\n",
        "# Перетворення рядкових колонок на категорійні\n",
        "df['product_name'] = df['product_name'].astype('category')\n",
        "df['product_category'] = df['product_category'].astype('category')\n",
        "\n",
        "# Пам'ять після перетворення\n",
        "mem_after = df.memory_usage(deep=True).sum() / (1024 ** 2)\n",
        "print(f\"Memory usage after: {mem_after:.2f} MB\")\n",
        "\n",
        "# Скільки разів менше пам'яті використовує новий DataFrame\n",
        "reduction_ratio = mem_before / mem_after\n",
        "print(f\"Memory reduction: {reduction_ratio:.2f}x\")\n"
      ],
      "metadata": {
        "colab": {
          "base_uri": "https://localhost:8080/"
        },
        "id": "Ta0JtinuWIHX",
        "outputId": "cee8e4a2-86ea-46f4-f3e7-cb51b7649e29"
      },
      "id": "Ta0JtinuWIHX",
      "execution_count": null,
      "outputs": [
        {
          "output_type": "stream",
          "name": "stdout",
          "text": [
            "Memory usage before: 119.59 MB\n",
            "Memory usage after: 17.17 MB\n",
            "Memory reduction: 6.97x\n"
          ]
        }
      ]
    },
    {
      "cell_type": "markdown",
      "source": [
        "Висновок:\n",
        "* memory_usage(deep=True) дає точну оцінку пам’яті, враховуючи рядкові дані.\n",
        "* astype('category') перетворює колонки на категорійний тип, що значно економить пам’ять, особливо якщо багато повторюваних значень.\n",
        "* показав використання пам’яті до та після, а також множник економії, що склав майже 7х.\n",
        "Для цього прикладу економія дуже суттєва, бо обидві колонки мають дуже мало унікальних значень порівняно з мільйоном рядків."
      ],
      "metadata": {
        "id": "zVrFX3bDXaAf"
      },
      "id": "zVrFX3bDXaAf"
    },
    {
      "cell_type": "markdown",
      "id": "131cc08d",
      "metadata": {
        "id": "131cc08d"
      },
      "source": [
        "7.В цьому завданні кілька пунктів. Треба виконати усі послідовно.   \n",
        "    7.1. Завантажте дані у pandas dataframe з файла `ecommerce_data.csv`. Обовʼязково при завантаженні вкажіть параметр `encoding = 'ISO-8859-1'`, без нього буде помилка.  \n",
        "    7.2. Заповніть пропущені значення в колонці CustomerID на -1 та перетворіть тип цієї колонки на str, адже зараз вона типу float, а це не правильний тип даних для ідентифікатора клієнта.  \n",
        "    7.3. З допомогою бібліотеки sweetviz побудуйте html звіт, який порівнює дані для країни \"Germany\" і країни \"France\". У Вас можуть виникнути багато попереджень (Warning), їх рекомендую вимкнути наступним шматком коду   \n",
        "    \n",
        "   \n",
        "    import warnings\n",
        "\n",
        "    with warnings.catch_warnings(record=True):\n",
        "        # your code\n",
        "    \n",
        "    \n",
        "   7.4.Напишіть 5 відмінностей для двох зазначених країн на основі побудованого звіту, без виконання додаткового аналізу іншими інструментами."
      ]
    },
    {
      "cell_type": "code",
      "source": [
        "from google.colab import drive\n",
        "drive.mount('/content/drive')"
      ],
      "metadata": {
        "colab": {
          "base_uri": "https://localhost:8080/"
        },
        "id": "JzLkE8TGZUIV",
        "outputId": "b354b94e-a2cb-48a1-9468-6c3170013e24"
      },
      "id": "JzLkE8TGZUIV",
      "execution_count": null,
      "outputs": [
        {
          "output_type": "stream",
          "name": "stdout",
          "text": [
            "Mounted at /content/drive\n"
          ]
        }
      ]
    },
    {
      "cell_type": "code",
      "execution_count": null,
      "id": "17200e77",
      "metadata": {
        "id": "17200e77",
        "colab": {
          "base_uri": "https://localhost:8080/",
          "height": 206
        },
        "outputId": "5bd0f523-b6be-43d7-82d8-b425fa874ad6"
      },
      "outputs": [
        {
          "output_type": "execute_result",
          "data": {
            "text/plain": [
              "  InvoiceNo StockCode                          Description  Quantity  \\\n",
              "0    536365    85123A   WHITE HANGING HEART T-LIGHT HOLDER         6   \n",
              "1    536365     71053                  WHITE METAL LANTERN         6   \n",
              "2    536365    84406B       CREAM CUPID HEARTS COAT HANGER         8   \n",
              "3    536365    84029G  KNITTED UNION FLAG HOT WATER BOTTLE         6   \n",
              "4    536365    84029E       RED WOOLLY HOTTIE WHITE HEART.         6   \n",
              "\n",
              "      InvoiceDate  UnitPrice  CustomerID         Country  \n",
              "0  12/1/2010 8:26       2.55     17850.0  United Kingdom  \n",
              "1  12/1/2010 8:26       3.39     17850.0  United Kingdom  \n",
              "2  12/1/2010 8:26       2.75     17850.0  United Kingdom  \n",
              "3  12/1/2010 8:26       3.39     17850.0  United Kingdom  \n",
              "4  12/1/2010 8:26       3.39     17850.0  United Kingdom  "
            ],
            "text/html": [
              "\n",
              "  <div id=\"df-f9b241e1-0a2a-4d80-b015-ac5179a68b7e\" class=\"colab-df-container\">\n",
              "    <div>\n",
              "<style scoped>\n",
              "    .dataframe tbody tr th:only-of-type {\n",
              "        vertical-align: middle;\n",
              "    }\n",
              "\n",
              "    .dataframe tbody tr th {\n",
              "        vertical-align: top;\n",
              "    }\n",
              "\n",
              "    .dataframe thead th {\n",
              "        text-align: right;\n",
              "    }\n",
              "</style>\n",
              "<table border=\"1\" class=\"dataframe\">\n",
              "  <thead>\n",
              "    <tr style=\"text-align: right;\">\n",
              "      <th></th>\n",
              "      <th>InvoiceNo</th>\n",
              "      <th>StockCode</th>\n",
              "      <th>Description</th>\n",
              "      <th>Quantity</th>\n",
              "      <th>InvoiceDate</th>\n",
              "      <th>UnitPrice</th>\n",
              "      <th>CustomerID</th>\n",
              "      <th>Country</th>\n",
              "    </tr>\n",
              "  </thead>\n",
              "  <tbody>\n",
              "    <tr>\n",
              "      <th>0</th>\n",
              "      <td>536365</td>\n",
              "      <td>85123A</td>\n",
              "      <td>WHITE HANGING HEART T-LIGHT HOLDER</td>\n",
              "      <td>6</td>\n",
              "      <td>12/1/2010 8:26</td>\n",
              "      <td>2.55</td>\n",
              "      <td>17850.0</td>\n",
              "      <td>United Kingdom</td>\n",
              "    </tr>\n",
              "    <tr>\n",
              "      <th>1</th>\n",
              "      <td>536365</td>\n",
              "      <td>71053</td>\n",
              "      <td>WHITE METAL LANTERN</td>\n",
              "      <td>6</td>\n",
              "      <td>12/1/2010 8:26</td>\n",
              "      <td>3.39</td>\n",
              "      <td>17850.0</td>\n",
              "      <td>United Kingdom</td>\n",
              "    </tr>\n",
              "    <tr>\n",
              "      <th>2</th>\n",
              "      <td>536365</td>\n",
              "      <td>84406B</td>\n",
              "      <td>CREAM CUPID HEARTS COAT HANGER</td>\n",
              "      <td>8</td>\n",
              "      <td>12/1/2010 8:26</td>\n",
              "      <td>2.75</td>\n",
              "      <td>17850.0</td>\n",
              "      <td>United Kingdom</td>\n",
              "    </tr>\n",
              "    <tr>\n",
              "      <th>3</th>\n",
              "      <td>536365</td>\n",
              "      <td>84029G</td>\n",
              "      <td>KNITTED UNION FLAG HOT WATER BOTTLE</td>\n",
              "      <td>6</td>\n",
              "      <td>12/1/2010 8:26</td>\n",
              "      <td>3.39</td>\n",
              "      <td>17850.0</td>\n",
              "      <td>United Kingdom</td>\n",
              "    </tr>\n",
              "    <tr>\n",
              "      <th>4</th>\n",
              "      <td>536365</td>\n",
              "      <td>84029E</td>\n",
              "      <td>RED WOOLLY HOTTIE WHITE HEART.</td>\n",
              "      <td>6</td>\n",
              "      <td>12/1/2010 8:26</td>\n",
              "      <td>3.39</td>\n",
              "      <td>17850.0</td>\n",
              "      <td>United Kingdom</td>\n",
              "    </tr>\n",
              "  </tbody>\n",
              "</table>\n",
              "</div>\n",
              "    <div class=\"colab-df-buttons\">\n",
              "\n",
              "  <div class=\"colab-df-container\">\n",
              "    <button class=\"colab-df-convert\" onclick=\"convertToInteractive('df-f9b241e1-0a2a-4d80-b015-ac5179a68b7e')\"\n",
              "            title=\"Convert this dataframe to an interactive table.\"\n",
              "            style=\"display:none;\">\n",
              "\n",
              "  <svg xmlns=\"http://www.w3.org/2000/svg\" height=\"24px\" viewBox=\"0 -960 960 960\">\n",
              "    <path d=\"M120-120v-720h720v720H120Zm60-500h600v-160H180v160Zm220 220h160v-160H400v160Zm0 220h160v-160H400v160ZM180-400h160v-160H180v160Zm440 0h160v-160H620v160ZM180-180h160v-160H180v160Zm440 0h160v-160H620v160Z\"/>\n",
              "  </svg>\n",
              "    </button>\n",
              "\n",
              "  <style>\n",
              "    .colab-df-container {\n",
              "      display:flex;\n",
              "      gap: 12px;\n",
              "    }\n",
              "\n",
              "    .colab-df-convert {\n",
              "      background-color: #E8F0FE;\n",
              "      border: none;\n",
              "      border-radius: 50%;\n",
              "      cursor: pointer;\n",
              "      display: none;\n",
              "      fill: #1967D2;\n",
              "      height: 32px;\n",
              "      padding: 0 0 0 0;\n",
              "      width: 32px;\n",
              "    }\n",
              "\n",
              "    .colab-df-convert:hover {\n",
              "      background-color: #E2EBFA;\n",
              "      box-shadow: 0px 1px 2px rgba(60, 64, 67, 0.3), 0px 1px 3px 1px rgba(60, 64, 67, 0.15);\n",
              "      fill: #174EA6;\n",
              "    }\n",
              "\n",
              "    .colab-df-buttons div {\n",
              "      margin-bottom: 4px;\n",
              "    }\n",
              "\n",
              "    [theme=dark] .colab-df-convert {\n",
              "      background-color: #3B4455;\n",
              "      fill: #D2E3FC;\n",
              "    }\n",
              "\n",
              "    [theme=dark] .colab-df-convert:hover {\n",
              "      background-color: #434B5C;\n",
              "      box-shadow: 0px 1px 3px 1px rgba(0, 0, 0, 0.15);\n",
              "      filter: drop-shadow(0px 1px 2px rgba(0, 0, 0, 0.3));\n",
              "      fill: #FFFFFF;\n",
              "    }\n",
              "  </style>\n",
              "\n",
              "    <script>\n",
              "      const buttonEl =\n",
              "        document.querySelector('#df-f9b241e1-0a2a-4d80-b015-ac5179a68b7e button.colab-df-convert');\n",
              "      buttonEl.style.display =\n",
              "        google.colab.kernel.accessAllowed ? 'block' : 'none';\n",
              "\n",
              "      async function convertToInteractive(key) {\n",
              "        const element = document.querySelector('#df-f9b241e1-0a2a-4d80-b015-ac5179a68b7e');\n",
              "        const dataTable =\n",
              "          await google.colab.kernel.invokeFunction('convertToInteractive',\n",
              "                                                    [key], {});\n",
              "        if (!dataTable) return;\n",
              "\n",
              "        const docLinkHtml = 'Like what you see? Visit the ' +\n",
              "          '<a target=\"_blank\" href=https://colab.research.google.com/notebooks/data_table.ipynb>data table notebook</a>'\n",
              "          + ' to learn more about interactive tables.';\n",
              "        element.innerHTML = '';\n",
              "        dataTable['output_type'] = 'display_data';\n",
              "        await google.colab.output.renderOutput(dataTable, element);\n",
              "        const docLink = document.createElement('div');\n",
              "        docLink.innerHTML = docLinkHtml;\n",
              "        element.appendChild(docLink);\n",
              "      }\n",
              "    </script>\n",
              "  </div>\n",
              "\n",
              "\n",
              "    <div id=\"df-3e764b7d-f418-438d-a538-8222adacb655\">\n",
              "      <button class=\"colab-df-quickchart\" onclick=\"quickchart('df-3e764b7d-f418-438d-a538-8222adacb655')\"\n",
              "                title=\"Suggest charts\"\n",
              "                style=\"display:none;\">\n",
              "\n",
              "<svg xmlns=\"http://www.w3.org/2000/svg\" height=\"24px\"viewBox=\"0 0 24 24\"\n",
              "     width=\"24px\">\n",
              "    <g>\n",
              "        <path d=\"M19 3H5c-1.1 0-2 .9-2 2v14c0 1.1.9 2 2 2h14c1.1 0 2-.9 2-2V5c0-1.1-.9-2-2-2zM9 17H7v-7h2v7zm4 0h-2V7h2v10zm4 0h-2v-4h2v4z\"/>\n",
              "    </g>\n",
              "</svg>\n",
              "      </button>\n",
              "\n",
              "<style>\n",
              "  .colab-df-quickchart {\n",
              "      --bg-color: #E8F0FE;\n",
              "      --fill-color: #1967D2;\n",
              "      --hover-bg-color: #E2EBFA;\n",
              "      --hover-fill-color: #174EA6;\n",
              "      --disabled-fill-color: #AAA;\n",
              "      --disabled-bg-color: #DDD;\n",
              "  }\n",
              "\n",
              "  [theme=dark] .colab-df-quickchart {\n",
              "      --bg-color: #3B4455;\n",
              "      --fill-color: #D2E3FC;\n",
              "      --hover-bg-color: #434B5C;\n",
              "      --hover-fill-color: #FFFFFF;\n",
              "      --disabled-bg-color: #3B4455;\n",
              "      --disabled-fill-color: #666;\n",
              "  }\n",
              "\n",
              "  .colab-df-quickchart {\n",
              "    background-color: var(--bg-color);\n",
              "    border: none;\n",
              "    border-radius: 50%;\n",
              "    cursor: pointer;\n",
              "    display: none;\n",
              "    fill: var(--fill-color);\n",
              "    height: 32px;\n",
              "    padding: 0;\n",
              "    width: 32px;\n",
              "  }\n",
              "\n",
              "  .colab-df-quickchart:hover {\n",
              "    background-color: var(--hover-bg-color);\n",
              "    box-shadow: 0 1px 2px rgba(60, 64, 67, 0.3), 0 1px 3px 1px rgba(60, 64, 67, 0.15);\n",
              "    fill: var(--button-hover-fill-color);\n",
              "  }\n",
              "\n",
              "  .colab-df-quickchart-complete:disabled,\n",
              "  .colab-df-quickchart-complete:disabled:hover {\n",
              "    background-color: var(--disabled-bg-color);\n",
              "    fill: var(--disabled-fill-color);\n",
              "    box-shadow: none;\n",
              "  }\n",
              "\n",
              "  .colab-df-spinner {\n",
              "    border: 2px solid var(--fill-color);\n",
              "    border-color: transparent;\n",
              "    border-bottom-color: var(--fill-color);\n",
              "    animation:\n",
              "      spin 1s steps(1) infinite;\n",
              "  }\n",
              "\n",
              "  @keyframes spin {\n",
              "    0% {\n",
              "      border-color: transparent;\n",
              "      border-bottom-color: var(--fill-color);\n",
              "      border-left-color: var(--fill-color);\n",
              "    }\n",
              "    20% {\n",
              "      border-color: transparent;\n",
              "      border-left-color: var(--fill-color);\n",
              "      border-top-color: var(--fill-color);\n",
              "    }\n",
              "    30% {\n",
              "      border-color: transparent;\n",
              "      border-left-color: var(--fill-color);\n",
              "      border-top-color: var(--fill-color);\n",
              "      border-right-color: var(--fill-color);\n",
              "    }\n",
              "    40% {\n",
              "      border-color: transparent;\n",
              "      border-right-color: var(--fill-color);\n",
              "      border-top-color: var(--fill-color);\n",
              "    }\n",
              "    60% {\n",
              "      border-color: transparent;\n",
              "      border-right-color: var(--fill-color);\n",
              "    }\n",
              "    80% {\n",
              "      border-color: transparent;\n",
              "      border-right-color: var(--fill-color);\n",
              "      border-bottom-color: var(--fill-color);\n",
              "    }\n",
              "    90% {\n",
              "      border-color: transparent;\n",
              "      border-bottom-color: var(--fill-color);\n",
              "    }\n",
              "  }\n",
              "</style>\n",
              "\n",
              "      <script>\n",
              "        async function quickchart(key) {\n",
              "          const quickchartButtonEl =\n",
              "            document.querySelector('#' + key + ' button');\n",
              "          quickchartButtonEl.disabled = true;  // To prevent multiple clicks.\n",
              "          quickchartButtonEl.classList.add('colab-df-spinner');\n",
              "          try {\n",
              "            const charts = await google.colab.kernel.invokeFunction(\n",
              "                'suggestCharts', [key], {});\n",
              "          } catch (error) {\n",
              "            console.error('Error during call to suggestCharts:', error);\n",
              "          }\n",
              "          quickchartButtonEl.classList.remove('colab-df-spinner');\n",
              "          quickchartButtonEl.classList.add('colab-df-quickchart-complete');\n",
              "        }\n",
              "        (() => {\n",
              "          let quickchartButtonEl =\n",
              "            document.querySelector('#df-3e764b7d-f418-438d-a538-8222adacb655 button');\n",
              "          quickchartButtonEl.style.display =\n",
              "            google.colab.kernel.accessAllowed ? 'block' : 'none';\n",
              "        })();\n",
              "      </script>\n",
              "    </div>\n",
              "    </div>\n",
              "  </div>\n"
            ],
            "application/vnd.google.colaboratory.intrinsic+json": {
              "type": "dataframe",
              "variable_name": "df"
            }
          },
          "metadata": {},
          "execution_count": 14
        }
      ],
      "source": [
        "import pandas as pd\n",
        "\n",
        "# Завантажив CSV з правильним кодуванням\n",
        "df = pd.read_csv('/content/drive/MyDrive/I LOVE DATA EDU COURSE/RAWDATA/ecommerce_data.csv', encoding='ISO-8859-1')\n",
        "\n",
        "# Перевірив датафрейм по першим рядкам\n",
        "df.head()\n"
      ]
    },
    {
      "cell_type": "code",
      "source": [
        "# Заповнив пропуску та змінив тип на str\n",
        "df['CustomerID'] = df['CustomerID'].fillna(-1).astype(str)\n",
        "\n",
        "# Перевірив дані\n",
        "df['CustomerID'].dtype, df['CustomerID'].isna().sum()\n"
      ],
      "metadata": {
        "colab": {
          "base_uri": "https://localhost:8080/"
        },
        "id": "FuHJDWwtaIi0",
        "outputId": "555c49b9-31a1-479d-cc2b-8fa78f43bffa"
      },
      "id": "FuHJDWwtaIi0",
      "execution_count": null,
      "outputs": [
        {
          "output_type": "execute_result",
          "data": {
            "text/plain": [
              "(dtype('O'), np.int64(0))"
            ]
          },
          "metadata": {},
          "execution_count": 15
        }
      ]
    },
    {
      "cell_type": "code",
      "source": [
        "# Встановив sweetviz через pip\n",
        "!pip install sweetviz"
      ],
      "metadata": {
        "colab": {
          "base_uri": "https://localhost:8080/"
        },
        "id": "KN9Xl0QJbJhO",
        "outputId": "8098e452-3b61-4a60-c23f-5629f7916900"
      },
      "id": "KN9Xl0QJbJhO",
      "execution_count": null,
      "outputs": [
        {
          "output_type": "stream",
          "name": "stdout",
          "text": [
            "Collecting sweetviz\n",
            "  Downloading sweetviz-2.3.1-py3-none-any.whl.metadata (24 kB)\n",
            "Requirement already satisfied: pandas!=1.0.0,!=1.0.1,!=1.0.2,>=0.25.3 in /usr/local/lib/python3.12/dist-packages (from sweetviz) (2.2.2)\n",
            "Requirement already satisfied: numpy>=1.16.0 in /usr/local/lib/python3.12/dist-packages (from sweetviz) (2.0.2)\n",
            "Requirement already satisfied: matplotlib>=3.1.3 in /usr/local/lib/python3.12/dist-packages (from sweetviz) (3.10.0)\n",
            "Requirement already satisfied: tqdm>=4.43.0 in /usr/local/lib/python3.12/dist-packages (from sweetviz) (4.67.1)\n",
            "Requirement already satisfied: scipy>=1.3.2 in /usr/local/lib/python3.12/dist-packages (from sweetviz) (1.16.2)\n",
            "Requirement already satisfied: jinja2>=2.11.1 in /usr/local/lib/python3.12/dist-packages (from sweetviz) (3.1.6)\n",
            "Requirement already satisfied: importlib-resources>=1.2.0 in /usr/local/lib/python3.12/dist-packages (from sweetviz) (6.5.2)\n",
            "Requirement already satisfied: MarkupSafe>=2.0 in /usr/local/lib/python3.12/dist-packages (from jinja2>=2.11.1->sweetviz) (3.0.2)\n",
            "Requirement already satisfied: contourpy>=1.0.1 in /usr/local/lib/python3.12/dist-packages (from matplotlib>=3.1.3->sweetviz) (1.3.3)\n",
            "Requirement already satisfied: cycler>=0.10 in /usr/local/lib/python3.12/dist-packages (from matplotlib>=3.1.3->sweetviz) (0.12.1)\n",
            "Requirement already satisfied: fonttools>=4.22.0 in /usr/local/lib/python3.12/dist-packages (from matplotlib>=3.1.3->sweetviz) (4.60.0)\n",
            "Requirement already satisfied: kiwisolver>=1.3.1 in /usr/local/lib/python3.12/dist-packages (from matplotlib>=3.1.3->sweetviz) (1.4.9)\n",
            "Requirement already satisfied: packaging>=20.0 in /usr/local/lib/python3.12/dist-packages (from matplotlib>=3.1.3->sweetviz) (25.0)\n",
            "Requirement already satisfied: pillow>=8 in /usr/local/lib/python3.12/dist-packages (from matplotlib>=3.1.3->sweetviz) (11.3.0)\n",
            "Requirement already satisfied: pyparsing>=2.3.1 in /usr/local/lib/python3.12/dist-packages (from matplotlib>=3.1.3->sweetviz) (3.2.4)\n",
            "Requirement already satisfied: python-dateutil>=2.7 in /usr/local/lib/python3.12/dist-packages (from matplotlib>=3.1.3->sweetviz) (2.9.0.post0)\n",
            "Requirement already satisfied: pytz>=2020.1 in /usr/local/lib/python3.12/dist-packages (from pandas!=1.0.0,!=1.0.1,!=1.0.2,>=0.25.3->sweetviz) (2025.2)\n",
            "Requirement already satisfied: tzdata>=2022.7 in /usr/local/lib/python3.12/dist-packages (from pandas!=1.0.0,!=1.0.1,!=1.0.2,>=0.25.3->sweetviz) (2025.2)\n",
            "Requirement already satisfied: six>=1.5 in /usr/local/lib/python3.12/dist-packages (from python-dateutil>=2.7->matplotlib>=3.1.3->sweetviz) (1.17.0)\n",
            "Downloading sweetviz-2.3.1-py3-none-any.whl (15.1 MB)\n",
            "\u001b[2K   \u001b[90m━━━━━━━━━━━━━━━━━━━━━━━━━━━━━━━━━━━━━━━━\u001b[0m \u001b[32m15.1/15.1 MB\u001b[0m \u001b[31m110.6 MB/s\u001b[0m eta \u001b[36m0:00:00\u001b[0m\n",
            "\u001b[?25hInstalling collected packages: sweetviz\n",
            "Successfully installed sweetviz-2.3.1\n"
          ]
        }
      ]
    },
    {
      "cell_type": "code",
      "source": [
        "!pip install --upgrade sweetviz\n",
        "\n",
        "\n"
      ],
      "metadata": {
        "colab": {
          "base_uri": "https://localhost:8080/",
          "height": 396
        },
        "id": "LHmWBSzfbgTn",
        "outputId": "fc73dc05-842b-4270-c514-8914ffb4534b"
      },
      "id": "LHmWBSzfbgTn",
      "execution_count": null,
      "outputs": [
        {
          "output_type": "stream",
          "name": "stdout",
          "text": [
            "Requirement already satisfied: sweetviz in /usr/local/lib/python3.12/dist-packages (2.3.1)\n",
            "Requirement already satisfied: pandas!=1.0.0,!=1.0.1,!=1.0.2,>=0.25.3 in /usr/local/lib/python3.12/dist-packages (from sweetviz) (2.2.2)\n",
            "Requirement already satisfied: numpy>=1.16.0 in /usr/local/lib/python3.12/dist-packages (from sweetviz) (2.0.2)\n",
            "Requirement already satisfied: matplotlib>=3.1.3 in /usr/local/lib/python3.12/dist-packages (from sweetviz) (3.10.0)\n",
            "Requirement already satisfied: tqdm>=4.43.0 in /usr/local/lib/python3.12/dist-packages (from sweetviz) (4.67.1)\n",
            "Requirement already satisfied: scipy>=1.3.2 in /usr/local/lib/python3.12/dist-packages (from sweetviz) (1.16.2)\n",
            "Requirement already satisfied: jinja2>=2.11.1 in /usr/local/lib/python3.12/dist-packages (from sweetviz) (3.1.6)\n",
            "Requirement already satisfied: importlib-resources>=1.2.0 in /usr/local/lib/python3.12/dist-packages (from sweetviz) (6.5.2)\n",
            "Requirement already satisfied: MarkupSafe>=2.0 in /usr/local/lib/python3.12/dist-packages (from jinja2>=2.11.1->sweetviz) (3.0.2)\n",
            "Requirement already satisfied: contourpy>=1.0.1 in /usr/local/lib/python3.12/dist-packages (from matplotlib>=3.1.3->sweetviz) (1.3.3)\n",
            "Requirement already satisfied: cycler>=0.10 in /usr/local/lib/python3.12/dist-packages (from matplotlib>=3.1.3->sweetviz) (0.12.1)\n",
            "Requirement already satisfied: fonttools>=4.22.0 in /usr/local/lib/python3.12/dist-packages (from matplotlib>=3.1.3->sweetviz) (4.60.0)\n",
            "Requirement already satisfied: kiwisolver>=1.3.1 in /usr/local/lib/python3.12/dist-packages (from matplotlib>=3.1.3->sweetviz) (1.4.9)\n",
            "Requirement already satisfied: packaging>=20.0 in /usr/local/lib/python3.12/dist-packages (from matplotlib>=3.1.3->sweetviz) (25.0)\n",
            "Requirement already satisfied: pillow>=8 in /usr/local/lib/python3.12/dist-packages (from matplotlib>=3.1.3->sweetviz) (11.3.0)\n",
            "Requirement already satisfied: pyparsing>=2.3.1 in /usr/local/lib/python3.12/dist-packages (from matplotlib>=3.1.3->sweetviz) (3.2.4)\n",
            "Requirement already satisfied: python-dateutil>=2.7 in /usr/local/lib/python3.12/dist-packages (from matplotlib>=3.1.3->sweetviz) (2.9.0.post0)\n",
            "Requirement already satisfied: pytz>=2020.1 in /usr/local/lib/python3.12/dist-packages (from pandas!=1.0.0,!=1.0.1,!=1.0.2,>=0.25.3->sweetviz) (2025.2)\n",
            "Requirement already satisfied: tzdata>=2022.7 in /usr/local/lib/python3.12/dist-packages (from pandas!=1.0.0,!=1.0.1,!=1.0.2,>=0.25.3->sweetviz) (2025.2)\n",
            "Requirement already satisfied: six>=1.5 in /usr/local/lib/python3.12/dist-packages (from python-dateutil>=2.7->matplotlib>=3.1.3->sweetviz) (1.17.0)\n"
          ]
        }
      ]
    },
    {
      "cell_type": "code",
      "source": [
        "import pandas as pd\n",
        "import warnings\n",
        "import numpy as np\n",
        "\n",
        "# 7.1\n",
        "df = pd.read_csv('/content/drive/MyDrive/I LOVE DATA EDU COURSE/RAWDATA/ecommerce_data.csv', encoding='ISO-8859-1')\n",
        "\n",
        "# 7.2\n",
        "df['CustomerID'] = df['CustomerID'].fillna(-1).astype(int).astype(str)\n",
        "\n",
        "# Патч для сумісності NumPy ↔ sweetviz\n",
        "if not hasattr(np, 'VisibleDeprecationWarning'):\n",
        "    np.VisibleDeprecationWarning = DeprecationWarning  # тимчасове рішення\n",
        "\n",
        "# 7.3\n",
        "with warnings.catch_warnings(record=True):\n",
        "    import sweetviz as sv\n",
        "    report = sv.compare([df[df['Country']=='Germany'], 'Germany'],\n",
        "                        [df[df['Country']=='France'], 'France'])\n",
        "    report.show_html('sweetviz_report_germany_vs_france.html')\n",
        "\n"
      ],
      "metadata": {
        "colab": {
          "base_uri": "https://localhost:8080/",
          "height": 87,
          "referenced_widgets": [
            "eec40eaff5744b0f9941810883ba9145",
            "87c3c977b216459da2e61e605fd7baf1",
            "10eeb71c18a4464fbe62c27eba0de840",
            "eb5c7dfb35fd4b7b818a817c9441f2c2",
            "400443b52e5a4ecea018f5ab97813c37",
            "a698414f014f43e7b5ef578e5d5219d5",
            "fd2ab8ecfe194a378f8cd3bd3a87ed29",
            "2ec5e24e8e4146b494a504079e759726",
            "688d6d87316e457aac20627eb14b548f",
            "f54a8b189c794dcf80fb571284b24081",
            "742985d295d349fa86016fc9f5a26bc2"
          ]
        },
        "id": "d_twsXsdaz8f",
        "outputId": "eafcc7e9-0c06-4ab3-b3e6-5d4e37ba886a"
      },
      "id": "d_twsXsdaz8f",
      "execution_count": null,
      "outputs": [
        {
          "output_type": "display_data",
          "data": {
            "text/plain": [
              "                                             |          | [  0%]   00:00 -> (? left)"
            ],
            "application/vnd.jupyter.widget-view+json": {
              "version_major": 2,
              "version_minor": 0,
              "model_id": "eec40eaff5744b0f9941810883ba9145"
            }
          },
          "metadata": {}
        },
        {
          "output_type": "stream",
          "name": "stdout",
          "text": [
            "Report sweetviz_report_germany_vs_france.html was generated! NOTEBOOK/COLAB USERS: the web browser MAY not pop up, regardless, the report IS saved in your notebook/colab files.\n"
          ]
        }
      ]
    },
    {
      "cell_type": "markdown",
      "source": [
        "На жаль, виявив несумісність версій Sweetviz і NumPy, оновлення та відккат версій не дало результату. Тому використав альтернативу - тимчасовий обхід перед імпортом sweetviz створивши відсутній атрибут у NumPy, після чого запустив compare."
      ],
      "metadata": {
        "id": "vXgJnCz4cugp"
      },
      "id": "vXgJnCz4cugp"
    },
    {
      "cell_type": "code",
      "source": [
        "from google.colab import files\n",
        "files.download(\"sweetviz_report_germany_vs_france.html\")\n"
      ],
      "metadata": {
        "colab": {
          "base_uri": "https://localhost:8080/",
          "height": 17
        },
        "id": "MGbRS7oAdfRZ",
        "outputId": "865c9b07-528b-4c58-f1ed-07e29d5dc4a1"
      },
      "id": "MGbRS7oAdfRZ",
      "execution_count": null,
      "outputs": [
        {
          "output_type": "display_data",
          "data": {
            "text/plain": [
              "<IPython.core.display.Javascript object>"
            ],
            "application/javascript": [
              "\n",
              "    async function download(id, filename, size) {\n",
              "      if (!google.colab.kernel.accessAllowed) {\n",
              "        return;\n",
              "      }\n",
              "      const div = document.createElement('div');\n",
              "      const label = document.createElement('label');\n",
              "      label.textContent = `Downloading \"${filename}\": `;\n",
              "      div.appendChild(label);\n",
              "      const progress = document.createElement('progress');\n",
              "      progress.max = size;\n",
              "      div.appendChild(progress);\n",
              "      document.body.appendChild(div);\n",
              "\n",
              "      const buffers = [];\n",
              "      let downloaded = 0;\n",
              "\n",
              "      const channel = await google.colab.kernel.comms.open(id);\n",
              "      // Send a message to notify the kernel that we're ready.\n",
              "      channel.send({})\n",
              "\n",
              "      for await (const message of channel.messages) {\n",
              "        // Send a message to notify the kernel that we're ready.\n",
              "        channel.send({})\n",
              "        if (message.buffers) {\n",
              "          for (const buffer of message.buffers) {\n",
              "            buffers.push(buffer);\n",
              "            downloaded += buffer.byteLength;\n",
              "            progress.value = downloaded;\n",
              "          }\n",
              "        }\n",
              "      }\n",
              "      const blob = new Blob(buffers, {type: 'application/binary'});\n",
              "      const a = document.createElement('a');\n",
              "      a.href = window.URL.createObjectURL(blob);\n",
              "      a.download = filename;\n",
              "      div.appendChild(a);\n",
              "      a.click();\n",
              "      div.remove();\n",
              "    }\n",
              "  "
            ]
          },
          "metadata": {}
        },
        {
          "output_type": "display_data",
          "data": {
            "text/plain": [
              "<IPython.core.display.Javascript object>"
            ],
            "application/javascript": [
              "download(\"download_914ab3df-f40f-46df-b919-9161234909ec\", \"sweetviz_report_germany_vs_france.html\", 906647)"
            ]
          },
          "metadata": {}
        }
      ]
    },
    {
      "cell_type": "markdown",
      "source": [
        "Висновки:\n",
        "П’ять основних відмінностей\n",
        "Вибірка: у Germany 9 495 рядків проти 8 557 у France, тобто в даних більше транзакцій з Німеччини.\n",
        "\n",
        "Унікальні клієнти: Germany має 95 унікальних CustomerID, France - 88, що вказує на ширшу базу покупців у Німеччині в цьому наборі даних.\n",
        "\n",
        "Кількість інвойсів: у Germany 603 унікальні інвойси проти 461 у France, що узгоджується з більшою транзакційною активністю в Німеччині.\n",
        "\n",
        "Середня ціна за одиницю: середній UnitPrice нижчий у Germany (близько 3.97) ніж у France (близько 5.03), тобто французькі замовлення мають дорожчі позиції в середньому.\n",
        "\n",
        "Середня кількість одиниць: середній Quantity трохи менший у Germany ( близько 12.37) порівняно з France ( близько 12.91), що свідчить про трохи більші обсяги позицій у французьких замовленнях."
      ],
      "metadata": {
        "id": "dtlgrgSegWF0"
      },
      "id": "dtlgrgSegWF0"
    },
    {
      "cell_type": "markdown",
      "id": "07ae375a",
      "metadata": {
        "ExecuteTime": {
          "end_time": "2023-07-30T18:55:42.650457Z",
          "start_time": "2023-07-30T18:55:42.635729Z"
        },
        "id": "07ae375a"
      },
      "source": [
        "8.З допомогою ChatGPT виявіть, чи є та які помилки в наступному коді.  \n",
        "Попросіть після цього переписати код із дотриманням PEP8. Проаналізуйте результат. Чи справді ChatGPT виправив всі стилістичні помилки? Якщо ні, напишіть йому ще кілька запитів, аби код відповідав вимогам PEP8.  \n",
        "Вставте фінальну версію коду з чату у ноутбук та запустіть на заданому списку. Має вертатись 50.  \n",
        "Напишіть, які промпти (інструкції) при зверненні до ChatGPT ви застосували та додайте скріншот(-и) з промптами та відповідями чата.  \n",
        "Якщо зробили висновки при виконанні цього завдання, то діліться також :)\n",
        "\n",
        "**ЯК ВСТАВИТИ СКРІНШОТ в Jupyter Notebook** :\n",
        "1. Створіть нову Markdown клітинку\n",
        "2. В новоствореній клітинці обираєте в меню Jupyter Notebook Edit -> Insert Image\n",
        "3. Обираєте картинку\n",
        "4. В клітинці має зʼявитись текст, який містить картинку. Запустіть клітинку.\n",
        "\n",
        "Або можна просто перетягнути картинку в Markdown клітинку."
      ]
    },
    {
      "cell_type": "code",
      "execution_count": null,
      "id": "a5c010c4",
      "metadata": {
        "ExecuteTime": {
          "end_time": "2023-07-30T19:16:20.977219Z",
          "start_time": "2023-07-30T19:16:20.973688Z"
        },
        "id": "a5c010c4"
      },
      "outputs": [],
      "source": [
        "def CalculateVariance(nl):\n",
        "    sum_list = 0\n",
        "    for n in nl:\n",
        "        sum_list = sum_list + n\n",
        "    mean = sum_list / len(nl)\n",
        "    sum_squares = 0\n",
        "    for n in nl:\n",
        "        sum_squares = sum_squares + n**2\n",
        "    mean_squares = sum_squares / len(nl)\n",
        "    return mean_squares"
      ]
    },
    {
      "cell_type": "code",
      "execution_count": null,
      "id": "24bb3f81",
      "metadata": {
        "ExecuteTime": {
          "end_time": "2023-07-30T19:16:09.201841Z",
          "start_time": "2023-07-30T19:16:09.199174Z"
        },
        "id": "24bb3f81"
      },
      "outputs": [],
      "source": [
        "input_list = [75, 80, 85, 90, 95]"
      ]
    },
    {
      "cell_type": "code",
      "source": [
        "def calculate_variance(numbers):\n",
        "    \"\"\"Calculate variance of a list of numbers.\"\"\"\n",
        "    mean = sum(numbers) / len(numbers)\n",
        "    mean_squares = sum(n ** 2 for n in numbers) / len(numbers)\n",
        "    variance = mean_squares - mean ** 2\n",
        "    return variance\n",
        "\n",
        "\n",
        "input_list = [75, 80, 85, 90, 95]\n",
        "result = calculate_variance(input_list)\n",
        "print(result)\n"
      ],
      "metadata": {
        "colab": {
          "base_uri": "https://localhost:8080/"
        },
        "id": "I-8eR7rWikV9",
        "outputId": "6997fb93-d1b4-4a6d-f664-129d7b093007"
      },
      "id": "I-8eR7rWikV9",
      "execution_count": null,
      "outputs": [
        {
          "output_type": "stream",
          "name": "stdout",
          "text": [
            "50.0\n"
          ]
        }
      ]
    },
    {
      "cell_type": "markdown",
      "source": [
        "Висновки:\n",
        "* ChatGPT непогано справляється з базовими стилістичними правками та зміною назв.\n",
        "\n",
        "* Для повного дотримання PEP8 потрібно додавати башато уточнень: пробіли, довгі рядки, коментарі.\n",
        "\n",
        "* Фінальна версія коду надана ChatGPT працює правильно і повертає 50 для заданого списку.Промпт написав за методикою RTF для ефективних запитів (Role - роль, Task - завдання, Format - формат). Скріншот промпта та відповіді надаю![Screenshot ChatGPT.bmp](data:image/bmp;base64,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)"
      ],
      "metadata": {
        "id": "Sk_IS8-wkWRu"
      },
      "id": "Sk_IS8-wkWRu"
    }
  ],
  "metadata": {
    "kernelspec": {
      "display_name": "Python 3 (ipykernel)",
      "language": "python",
      "name": "python3"
    },
    "language_info": {
      "codemirror_mode": {
        "name": "ipython",
        "version": 3
      },
      "file_extension": ".py",
      "mimetype": "text/x-python",
      "name": "python",
      "nbconvert_exporter": "python",
      "pygments_lexer": "ipython3",
      "version": "3.10.4"
    },
    "toc": {
      "base_numbering": 1,
      "nav_menu": {},
      "number_sections": true,
      "sideBar": true,
      "skip_h1_title": false,
      "title_cell": "Table of Contents",
      "title_sidebar": "Contents",
      "toc_cell": false,
      "toc_position": {},
      "toc_section_display": true,
      "toc_window_display": false
    },
    "colab": {
      "provenance": [],
      "include_colab_link": true
    },
    "widgets": {
      "application/vnd.jupyter.widget-state+json": {
        "eec40eaff5744b0f9941810883ba9145": {
          "model_module": "@jupyter-widgets/controls",
          "model_name": "HBoxModel",
          "model_module_version": "1.5.0",
          "state": {
            "_dom_classes": [],
            "_model_module": "@jupyter-widgets/controls",
            "_model_module_version": "1.5.0",
            "_model_name": "HBoxModel",
            "_view_count": null,
            "_view_module": "@jupyter-widgets/controls",
            "_view_module_version": "1.5.0",
            "_view_name": "HBoxView",
            "box_style": "",
            "children": [
              "IPY_MODEL_87c3c977b216459da2e61e605fd7baf1",
              "IPY_MODEL_10eeb71c18a4464fbe62c27eba0de840",
              "IPY_MODEL_eb5c7dfb35fd4b7b818a817c9441f2c2"
            ],
            "layout": "IPY_MODEL_400443b52e5a4ecea018f5ab97813c37"
          }
        },
        "87c3c977b216459da2e61e605fd7baf1": {
          "model_module": "@jupyter-widgets/controls",
          "model_name": "HTMLModel",
          "model_module_version": "1.5.0",
          "state": {
            "_dom_classes": [],
            "_model_module": "@jupyter-widgets/controls",
            "_model_module_version": "1.5.0",
            "_model_name": "HTMLModel",
            "_view_count": null,
            "_view_module": "@jupyter-widgets/controls",
            "_view_module_version": "1.5.0",
            "_view_name": "HTMLView",
            "description": "",
            "description_tooltip": null,
            "layout": "IPY_MODEL_a698414f014f43e7b5ef578e5d5219d5",
            "placeholder": "​",
            "style": "IPY_MODEL_fd2ab8ecfe194a378f8cd3bd3a87ed29",
            "value": "Done! Use &#x27;show&#x27; commands to display/save.   "
          }
        },
        "10eeb71c18a4464fbe62c27eba0de840": {
          "model_module": "@jupyter-widgets/controls",
          "model_name": "FloatProgressModel",
          "model_module_version": "1.5.0",
          "state": {
            "_dom_classes": [],
            "_model_module": "@jupyter-widgets/controls",
            "_model_module_version": "1.5.0",
            "_model_name": "FloatProgressModel",
            "_view_count": null,
            "_view_module": "@jupyter-widgets/controls",
            "_view_module_version": "1.5.0",
            "_view_name": "ProgressView",
            "bar_style": "success",
            "description": "",
            "description_tooltip": null,
            "layout": "IPY_MODEL_2ec5e24e8e4146b494a504079e759726",
            "max": 1,
            "min": 0,
            "orientation": "horizontal",
            "style": "IPY_MODEL_688d6d87316e457aac20627eb14b548f",
            "value": 1
          }
        },
        "eb5c7dfb35fd4b7b818a817c9441f2c2": {
          "model_module": "@jupyter-widgets/controls",
          "model_name": "HTMLModel",
          "model_module_version": "1.5.0",
          "state": {
            "_dom_classes": [],
            "_model_module": "@jupyter-widgets/controls",
            "_model_module_version": "1.5.0",
            "_model_name": "HTMLModel",
            "_view_count": null,
            "_view_module": "@jupyter-widgets/controls",
            "_view_module_version": "1.5.0",
            "_view_name": "HTMLView",
            "description": "",
            "description_tooltip": null,
            "layout": "IPY_MODEL_f54a8b189c794dcf80fb571284b24081",
            "placeholder": "​",
            "style": "IPY_MODEL_742985d295d349fa86016fc9f5a26bc2",
            "value": " [100%]   00:01 -&gt; (00:00 left)"
          }
        },
        "400443b52e5a4ecea018f5ab97813c37": {
          "model_module": "@jupyter-widgets/base",
          "model_name": "LayoutModel",
          "model_module_version": "1.2.0",
          "state": {
            "_model_module": "@jupyter-widgets/base",
            "_model_module_version": "1.2.0",
            "_model_name": "LayoutModel",
            "_view_count": null,
            "_view_module": "@jupyter-widgets/base",
            "_view_module_version": "1.2.0",
            "_view_name": "LayoutView",
            "align_content": null,
            "align_items": null,
            "align_self": null,
            "border": null,
            "bottom": null,
            "display": "inline-flex",
            "flex": null,
            "flex_flow": "row wrap",
            "grid_area": null,
            "grid_auto_columns": null,
            "grid_auto_flow": null,
            "grid_auto_rows": null,
            "grid_column": null,
            "grid_gap": null,
            "grid_row": null,
            "grid_template_areas": null,
            "grid_template_columns": null,
            "grid_template_rows": null,
            "height": null,
            "justify_content": null,
            "justify_items": null,
            "left": null,
            "margin": null,
            "max_height": null,
            "max_width": null,
            "min_height": null,
            "min_width": null,
            "object_fit": null,
            "object_position": null,
            "order": null,
            "overflow": null,
            "overflow_x": null,
            "overflow_y": null,
            "padding": null,
            "right": null,
            "top": null,
            "visibility": null,
            "width": "100%"
          }
        },
        "a698414f014f43e7b5ef578e5d5219d5": {
          "model_module": "@jupyter-widgets/base",
          "model_name": "LayoutModel",
          "model_module_version": "1.2.0",
          "state": {
            "_model_module": "@jupyter-widgets/base",
            "_model_module_version": "1.2.0",
            "_model_name": "LayoutModel",
            "_view_count": null,
            "_view_module": "@jupyter-widgets/base",
            "_view_module_version": "1.2.0",
            "_view_name": "LayoutView",
            "align_content": null,
            "align_items": null,
            "align_self": null,
            "border": null,
            "bottom": null,
            "display": null,
            "flex": null,
            "flex_flow": null,
            "grid_area": null,
            "grid_auto_columns": null,
            "grid_auto_flow": null,
            "grid_auto_rows": null,
            "grid_column": null,
            "grid_gap": null,
            "grid_row": null,
            "grid_template_areas": null,
            "grid_template_columns": null,
            "grid_template_rows": null,
            "height": null,
            "justify_content": null,
            "justify_items": null,
            "left": null,
            "margin": null,
            "max_height": null,
            "max_width": null,
            "min_height": null,
            "min_width": null,
            "object_fit": null,
            "object_position": null,
            "order": null,
            "overflow": null,
            "overflow_x": null,
            "overflow_y": null,
            "padding": null,
            "right": null,
            "top": null,
            "visibility": null,
            "width": null
          }
        },
        "fd2ab8ecfe194a378f8cd3bd3a87ed29": {
          "model_module": "@jupyter-widgets/controls",
          "model_name": "DescriptionStyleModel",
          "model_module_version": "1.5.0",
          "state": {
            "_model_module": "@jupyter-widgets/controls",
            "_model_module_version": "1.5.0",
            "_model_name": "DescriptionStyleModel",
            "_view_count": null,
            "_view_module": "@jupyter-widgets/base",
            "_view_module_version": "1.2.0",
            "_view_name": "StyleView",
            "description_width": ""
          }
        },
        "2ec5e24e8e4146b494a504079e759726": {
          "model_module": "@jupyter-widgets/base",
          "model_name": "LayoutModel",
          "model_module_version": "1.2.0",
          "state": {
            "_model_module": "@jupyter-widgets/base",
            "_model_module_version": "1.2.0",
            "_model_name": "LayoutModel",
            "_view_count": null,
            "_view_module": "@jupyter-widgets/base",
            "_view_module_version": "1.2.0",
            "_view_name": "LayoutView",
            "align_content": null,
            "align_items": null,
            "align_self": null,
            "border": null,
            "bottom": null,
            "display": null,
            "flex": "2",
            "flex_flow": null,
            "grid_area": null,
            "grid_auto_columns": null,
            "grid_auto_flow": null,
            "grid_auto_rows": null,
            "grid_column": null,
            "grid_gap": null,
            "grid_row": null,
            "grid_template_areas": null,
            "grid_template_columns": null,
            "grid_template_rows": null,
            "height": null,
            "justify_content": null,
            "justify_items": null,
            "left": null,
            "margin": null,
            "max_height": null,
            "max_width": null,
            "min_height": null,
            "min_width": null,
            "object_fit": null,
            "object_position": null,
            "order": null,
            "overflow": null,
            "overflow_x": null,
            "overflow_y": null,
            "padding": null,
            "right": null,
            "top": null,
            "visibility": null,
            "width": null
          }
        },
        "688d6d87316e457aac20627eb14b548f": {
          "model_module": "@jupyter-widgets/controls",
          "model_name": "ProgressStyleModel",
          "model_module_version": "1.5.0",
          "state": {
            "_model_module": "@jupyter-widgets/controls",
            "_model_module_version": "1.5.0",
            "_model_name": "ProgressStyleModel",
            "_view_count": null,
            "_view_module": "@jupyter-widgets/base",
            "_view_module_version": "1.2.0",
            "_view_name": "StyleView",
            "bar_color": null,
            "description_width": ""
          }
        },
        "f54a8b189c794dcf80fb571284b24081": {
          "model_module": "@jupyter-widgets/base",
          "model_name": "LayoutModel",
          "model_module_version": "1.2.0",
          "state": {
            "_model_module": "@jupyter-widgets/base",
            "_model_module_version": "1.2.0",
            "_model_name": "LayoutModel",
            "_view_count": null,
            "_view_module": "@jupyter-widgets/base",
            "_view_module_version": "1.2.0",
            "_view_name": "LayoutView",
            "align_content": null,
            "align_items": null,
            "align_self": null,
            "border": null,
            "bottom": null,
            "display": null,
            "flex": null,
            "flex_flow": null,
            "grid_area": null,
            "grid_auto_columns": null,
            "grid_auto_flow": null,
            "grid_auto_rows": null,
            "grid_column": null,
            "grid_gap": null,
            "grid_row": null,
            "grid_template_areas": null,
            "grid_template_columns": null,
            "grid_template_rows": null,
            "height": null,
            "justify_content": null,
            "justify_items": null,
            "left": null,
            "margin": null,
            "max_height": null,
            "max_width": null,
            "min_height": null,
            "min_width": null,
            "object_fit": null,
            "object_position": null,
            "order": null,
            "overflow": null,
            "overflow_x": null,
            "overflow_y": null,
            "padding": null,
            "right": null,
            "top": null,
            "visibility": null,
            "width": null
          }
        },
        "742985d295d349fa86016fc9f5a26bc2": {
          "model_module": "@jupyter-widgets/controls",
          "model_name": "DescriptionStyleModel",
          "model_module_version": "1.5.0",
          "state": {
            "_model_module": "@jupyter-widgets/controls",
            "_model_module_version": "1.5.0",
            "_model_name": "DescriptionStyleModel",
            "_view_count": null,
            "_view_module": "@jupyter-widgets/base",
            "_view_module_version": "1.2.0",
            "_view_name": "StyleView",
            "description_width": ""
          }
        }
      }
    }
  },
  "nbformat": 4,
  "nbformat_minor": 5
}