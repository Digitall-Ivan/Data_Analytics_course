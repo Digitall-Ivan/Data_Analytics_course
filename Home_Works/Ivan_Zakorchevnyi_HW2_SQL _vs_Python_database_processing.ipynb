{
 "cells": [
  {
   "cell_type": "markdown",
   "metadata": {
    "id": "KRtr9pOrz8um"
   },
   "source": [
    "# Домашнє завдання: Внесення оновлень в БД і робота з транзакціями\n",
    "\n",
    "Це ДЗ передбачене під виконання на локальній машині. Виконання з Google Colab буде суттєво ускладнене.\n",
    "\n",
    "## Підготовка\n",
    "1. Переконайтесь, що у вас встановлены необхідні бібліотеки:\n",
    "   ```bash\n",
    "   pip install sqlalchemy pymysql pandas matplotlib seaborn python-dotenv\n",
    "   ```\n",
    "\n",
    "2. Створіть файл `.env` з параметрами підключення до бази даних classicmodels. Базу даних ви можете отримати через\n",
    "\n",
    "  - docker-контейнер згідно існтрукції в [документі](https://www.notion.so/hannapylieva/Docker-1eb94835849480c9b2e7f5dc22ee4df9), також відео інструкції присутні на платформі - уроки \"MySQL бази, клієнт для роботи з БД, Docker і ChatGPT для запитів\" та \"Як встановити Docker для роботи з базами даних без терміналу\"\n",
    "  - або встановивши локально цю БД - для цього перегляньте урок \"Опціонально. Встановлення MySQL та  БД Сlassicmodels локально\".\n",
    "  \n",
    "  Приклад `.env` файлу ми створювали в лекції. Ось його обовʼязкове наповнення:\n",
    "    ```\n",
    "    DB_HOST=your_host\n",
    "    DB_PORT=3306 або 3307 - той, який Ви налаштували\n",
    "    DB_USER=your_username\n",
    "    DB_PASSWORD=your_password\n",
    "    DB_NAME=classicmodels\n",
    "    ```\n",
    "  Якщо ви створили цей файл під час перегляду лекції - **новий створювати не треба**. Замініть лише назву БД, або пропишіть назву в коді створення підключення (замість отримання назви цільової БД зі змінних оточення). Але переконайтесь, що до `.env` файл лежить в тій самій папці, що і цей ноутбук.\n",
    "\n",
    "  **УВАГА!** НЕ копіюйте скрит для **створення** `.env` файлу. В лекції він наводиться для прикладу. І давалось пояснення, що в реальних проєктах ми НІКОЛИ не пишемо доступи до бази в коді. Копіювання скрипта для створення `.env` файлу сюди в ДЗ буде вважатись грубою помилкою і ми зніматимемо бали.\n",
    "\n",
    "3. Налаштуйте підключення через SQLAlchemy до БД за прикладом в лекції.\n",
    "\n",
    "Рекомендую вивести (відобразити) змінну engine після створення. Вона має бути не None! Якщо None - значить у Вас не підтягнулись налаштування з .env файла.\n",
    "\n",
    "Ви також можете налаштувати параметри підключення до БД без .env файла, просто прописавши текстом в відповідних місцях. Це - не рекомендований підхід.\n",
    "\n",
    "\n",
    "## Завдання\n",
    "\n",
    "### Завдання 1: Оновлення інформації про клієнта (2 бали)\n",
    "\n",
    "**Створіть функцію для оновлення контактної інформації клієнта** з наступними можливостями:\n",
    "- Оновлення телефону клієнта\n",
    "- Оновлення email (якщо поле існує)\n",
    "- Логування змін в окрему таблицю\n",
    "\n",
    "Використайте підхід з параметризованими запитами через `text()` та `UPDATE` оператор.\n",
    "\n",
    "Запустіть функцію і продемонструйте її роботу, запустивши SELECT, який допоможе це зробити.\n",
    "\n"
   ]
  },
  {
   "cell_type": "code",
   "execution_count": 1,
   "metadata": {
    "execution": {
     "iopub.execute_input": "2025-07-31T19:42:32.016929Z",
     "iopub.status.busy": "2025-07-31T19:42:32.014930Z",
     "iopub.status.idle": "2025-07-31T19:42:36.372051Z",
     "shell.execute_reply": "2025-07-31T19:42:36.372051Z",
     "shell.execute_reply.started": "2025-07-31T19:42:32.016929Z"
    },
    "id": "u60cWg7m2l26"
   },
   "outputs": [
    {
     "name": "stdout",
     "output_type": "stream",
     "text": [
      "  Tables_in_classicmodels\n",
      "0               customers\n",
      "1               employees\n",
      "2                 offices\n",
      "3            orderdetails\n",
      "4                  orders\n",
      "5                payments\n",
      "6            productlines\n",
      "7                products\n"
     ]
    }
   ],
   "source": [
    "from dotenv import load_dotenv\n",
    "import os\n",
    "from sqlalchemy import create_engine\n",
    "\n",
    "load_dotenv()\n",
    "\n",
    "username = os.getenv('DB_USERNAME')\n",
    "password = os.getenv('DB_PASSWORD')\n",
    "host = os.getenv('DB_HOST')\n",
    "port = os.getenv('DB_PORT')\n",
    "database = os.getenv('DB_NAME')\n",
    "\n",
    "connection_string = f'mysql+pymysql://{username}:{password}@{host}:{port}/{database}'\n",
    "engine = create_engine(connection_string, pool_recycle=3600)\n",
    "\n",
    "# Тестова перевірка\n",
    "import pandas as pd\n",
    "df = pd.read_sql('SHOW TABLES;', engine)\n",
    "print(df)"
   ]
  },
  {
   "cell_type": "code",
   "execution_count": 3,
   "metadata": {
    "execution": {
     "iopub.execute_input": "2025-07-31T19:47:35.509940Z",
     "iopub.status.busy": "2025-07-31T19:47:35.509940Z",
     "iopub.status.idle": "2025-07-31T19:47:35.587758Z",
     "shell.execute_reply": "2025-07-31T19:47:35.587230Z",
     "shell.execute_reply.started": "2025-07-31T19:47:35.509940Z"
    }
   },
   "outputs": [
    {
     "name": "stdout",
     "output_type": "stream",
     "text": [
      "Таблиця customer_updates_log успішно створена\n"
     ]
    }
   ],
   "source": [
    "create_log_table_sql = text(\"\"\"\n",
    "CREATE TABLE IF NOT EXISTS customer_updates_log (\n",
    "    log_id INT AUTO_INCREMENT PRIMARY KEY,\n",
    "    customerNumber INT,\n",
    "    oldPhone VARCHAR(50),\n",
    "    newPhone VARCHAR(50),\n",
    "    changeDate TIMESTAMP DEFAULT CURRENT_TIMESTAMP,\n",
    "    changedField VARCHAR(50)\n",
    ");\n",
    "\"\"\")\n",
    "\n",
    "# Створення таблиці для логування\n",
    "with engine.begin() as conn:\n",
    "    conn.execute(create_log_table_sql)\n",
    "\n",
    "print(\"Таблиця customer_updates_log успішно створена\")"
   ]
  },
  {
   "cell_type": "code",
   "execution_count": 8,
   "metadata": {
    "execution": {
     "iopub.execute_input": "2025-07-31T20:00:03.553143Z",
     "iopub.status.busy": "2025-07-31T20:00:03.553143Z",
     "iopub.status.idle": "2025-07-31T20:00:03.565540Z",
     "shell.execute_reply": "2025-07-31T20:00:03.564533Z",
     "shell.execute_reply.started": "2025-07-31T20:00:03.553143Z"
    }
   },
   "outputs": [],
   "source": [
    "from sqlalchemy import text\n",
    "\n",
    "def update_customer_contact(customer_id, new_phone=None, new_email=None):\n",
    "    with engine.begin() as conn:\n",
    "        # Отриматання поточного телефону\n",
    "        current = conn.execute(\n",
    "            text(\"SELECT phone FROM customers WHERE customerNumber = :id\"),\n",
    "            {\"id\": customer_id}\n",
    "        ).fetchone()\n",
    "\n",
    "        if not current:\n",
    "            print(f\"❌ Клієнт {customer_id} не знайдений.\")\n",
    "            return\n",
    "\n",
    "        old_phone = current.phone\n",
    "\n",
    "        # Оновлення телефону\n",
    "        if new_phone:\n",
    "            conn.execute(\n",
    "                text(\"UPDATE customers SET phone = :phone WHERE customerNumber = :id\"),\n",
    "                {\"phone\": new_phone, \"id\": customer_id}\n",
    "            )\n",
    "            conn.execute(\n",
    "                text(\"\"\"\n",
    "                    INSERT INTO customer_updates_log (customerNumber, oldPhone, newPhone, changedField)\n",
    "                    VALUES (:id, :old, :new, 'phone')\n",
    "                \"\"\"),\n",
    "                {\"id\": customer_id, \"old\": old_phone, \"new\": new_phone}\n",
    "            )\n",
    "            print(f\"Телефон клієнта {customer_id} оновлено.\")\n",
    "\n",
    "        # Оновлення email\n",
    "        if new_email:\n",
    "            try:\n",
    "                conn.execute(\n",
    "                    text(\"UPDATE customers SET email = :email WHERE customerNumber = :id\"),\n",
    "                    {\"email\": new_email, \"id\": customer_id}\n",
    "                )\n",
    "                print(f\"Email клієнта {customer_id} оновлено.\")\n",
    "            except Exception as e:\n",
    "                print(\"Помилка при оновленні email:\", e)"
   ]
  },
  {
   "cell_type": "code",
   "execution_count": 9,
   "metadata": {
    "execution": {
     "iopub.execute_input": "2025-07-31T20:00:15.966312Z",
     "iopub.status.busy": "2025-07-31T20:00:15.966312Z",
     "iopub.status.idle": "2025-07-31T20:00:16.059058Z",
     "shell.execute_reply": "2025-07-31T20:00:16.058505Z",
     "shell.execute_reply.started": "2025-07-31T20:00:15.966312Z"
    }
   },
   "outputs": [
    {
     "name": "stdout",
     "output_type": "stream",
     "text": [
      "Телефон клієнта 103 оновлено.\n",
      "Помилка при оновленні email: (pymysql.err.OperationalError) (1054, \"Unknown column 'email' in 'field list'\")\n",
      "[SQL: UPDATE customers SET email = %(email)s WHERE customerNumber = %(id)s]\n",
      "[parameters: {'email': 'updated@example.com', 'id': 103}]\n",
      "(Background on this error at: https://sqlalche.me/e/20/e3q8)\n"
     ]
    }
   ],
   "source": [
    "update_customer_contact(customer_id=103, new_phone='+1-555-999-8888', new_email='updated@example.com')\n"
   ]
  },
  {
   "cell_type": "code",
   "execution_count": 7,
   "metadata": {
    "execution": {
     "iopub.execute_input": "2025-07-31T19:59:47.653839Z",
     "iopub.status.busy": "2025-07-31T19:59:47.652839Z",
     "iopub.status.idle": "2025-07-31T19:59:47.750136Z",
     "shell.execute_reply": "2025-07-31T19:59:47.748607Z",
     "shell.execute_reply.started": "2025-07-31T19:59:47.653839Z"
    }
   },
   "outputs": [
    {
     "data": {
      "text/html": [
       "<div>\n",
       "<style scoped>\n",
       "    .dataframe tbody tr th:only-of-type {\n",
       "        vertical-align: middle;\n",
       "    }\n",
       "\n",
       "    .dataframe tbody tr th {\n",
       "        vertical-align: top;\n",
       "    }\n",
       "\n",
       "    .dataframe thead th {\n",
       "        text-align: right;\n",
       "    }\n",
       "</style>\n",
       "<table border=\"1\" class=\"dataframe\">\n",
       "  <thead>\n",
       "    <tr style=\"text-align: right;\">\n",
       "      <th></th>\n",
       "      <th>log_id</th>\n",
       "      <th>customerNumber</th>\n",
       "      <th>oldPhone</th>\n",
       "      <th>newPhone</th>\n",
       "      <th>changeDate</th>\n",
       "      <th>changedField</th>\n",
       "    </tr>\n",
       "  </thead>\n",
       "  <tbody>\n",
       "    <tr>\n",
       "      <th>0</th>\n",
       "      <td>1</td>\n",
       "      <td>103</td>\n",
       "      <td>40.32.2555</td>\n",
       "      <td>+1-555-999-8888</td>\n",
       "      <td>2025-07-31 19:50:01</td>\n",
       "      <td>phone</td>\n",
       "    </tr>\n",
       "  </tbody>\n",
       "</table>\n",
       "</div>"
      ],
      "text/plain": [
       "   log_id  customerNumber    oldPhone         newPhone          changeDate  \\\n",
       "0       1             103  40.32.2555  +1-555-999-8888 2025-07-31 19:50:01   \n",
       "\n",
       "  changedField  \n",
       "0        phone  "
      ]
     },
     "execution_count": 7,
     "metadata": {},
     "output_type": "execute_result"
    }
   ],
   "source": [
    "# Перевірка зміни даних клієнта\n",
    "pd.read_sql(\"SELECT customerName, phone FROM customers WHERE customerNumber = 103\", engine)\n",
    "\n",
    "# Перевірка логування\n",
    "pd.read_sql(\"SELECT * FROM customer_updates_log ORDER BY changeDate DESC LIMIT 5\", engine)\n"
   ]
  },
  {
   "cell_type": "markdown",
   "metadata": {
    "id": "equimeUA0lh5"
   },
   "source": [
    "### Завдання 2: Створення нового замовлення з транзакцією (5 балів)\n",
    "\n",
    "**Реалізуйте процес створення нового замовлення** з наступними кроками в одній транзакції:\n",
    "- Створення запису в таблиці `orders`\n",
    "- Додавання товарних позицій в `orderdetails`\n",
    "- Перевірка наявності товарів на складі\n",
    "- Зменшення кількості товарів на складі\n",
    "\n",
    "Запустіть процес з тестовими даними і продемонструйте через SELECT, що процес успішно відпрацював і були виконані необхідні операції.\n",
    "\n",
    "\n"
   ]
  },
  {
   "cell_type": "code",
   "execution_count": 13,
   "metadata": {
    "execution": {
     "iopub.execute_input": "2025-07-31T20:05:32.341419Z",
     "iopub.status.busy": "2025-07-31T20:05:32.341419Z",
     "iopub.status.idle": "2025-07-31T20:05:32.353887Z",
     "shell.execute_reply": "2025-07-31T20:05:32.352879Z",
     "shell.execute_reply.started": "2025-07-31T20:05:32.341419Z"
    },
    "id": "eo9mTVkW2mpe"
   },
   "outputs": [],
   "source": [
    "from sqlalchemy import text\n",
    "from datetime import date\n",
    "\n",
    "def create_order(customer_number, order_date, required_date, status, items):\n",
    "    \"\"\"\n",
    "    items — список словників: [{productCode: 'S18_1749', quantityOrdered: 5, priceEach: 100.0}, ...]\n",
    "    \"\"\"\n",
    "    try:\n",
    "        with engine.begin() as conn:\n",
    "            # 1. Отримання нового orderNumber\n",
    "            result = conn.execute(text(\"SELECT MAX(orderNumber) + 1 AS next_id FROM orders\"))\n",
    "            order_number = result.scalar()\n",
    "\n",
    "            # 2. Створення запису у orders\n",
    "            conn.execute(text(\"\"\"\n",
    "                INSERT INTO orders (orderNumber, orderDate, requiredDate, status, customerNumber)\n",
    "                VALUES (:orderNumber, :orderDate, :requiredDate, :status, :customerNumber)\n",
    "            \"\"\"), {\n",
    "                \"orderNumber\": order_number,\n",
    "                \"orderDate\": order_date,\n",
    "                \"requiredDate\": required_date,\n",
    "                \"status\": status,\n",
    "                \"customerNumber\": customer_number\n",
    "            })\n",
    "\n",
    "            # 3. Обробка товару\n",
    "            line_number = 1\n",
    "            for item in items:\n",
    "                # Перевірка наявності \n",
    "                stock_result = conn.execute(text(\"\"\"\n",
    "                    SELECT quantityInStock FROM products WHERE productCode = :code\n",
    "                \"\"\"), {\"code\": item['productCode']}).fetchone()\n",
    "\n",
    "                if not stock_result or stock_result.quantityInStock < item['quantityOrdered']:\n",
    "                    raise Exception(f\"❌ Недостатньо товару {item['productCode']} на складі.\")\n",
    "\n",
    "                # Додавання товарної позиції\n",
    "                conn.execute(text(\"\"\"\n",
    "                    INSERT INTO orderdetails (orderNumber, productCode, quantityOrdered, priceEach, orderLineNumber)\n",
    "                    VALUES (:orderNumber, :productCode, :quantityOrdered, :priceEach, :orderLineNumber)\n",
    "                \"\"\"), {\n",
    "                    \"orderNumber\": order_number,\n",
    "                    \"productCode\": item['productCode'],\n",
    "                    \"quantityOrdered\": item['quantityOrdered'],\n",
    "                    \"priceEach\": item['priceEach'],\n",
    "                    \"orderLineNumber\": line_number\n",
    "                })\n",
    "\n",
    "                # Зменшення кількості на складі\n",
    "                conn.execute(text(\"\"\"\n",
    "                    UPDATE products\n",
    "                    SET quantityInStock = quantityInStock - :quantity\n",
    "                    WHERE productCode = :code\n",
    "                \"\"\"), {\n",
    "                    \"quantity\": item['quantityOrdered'],\n",
    "                    \"code\": item['productCode']\n",
    "                })\n",
    "\n",
    "                line_number += 1\n",
    "\n",
    "            print(f\"Замовлення {order_number} створено\")\n",
    "            return order_number\n",
    "\n",
    "    except Exception as e:\n",
    "        print(f\"Помилка: {e}\")"
   ]
  },
  {
   "cell_type": "code",
   "execution_count": 14,
   "metadata": {
    "execution": {
     "iopub.execute_input": "2025-07-31T20:05:58.852967Z",
     "iopub.status.busy": "2025-07-31T20:05:58.852967Z",
     "iopub.status.idle": "2025-07-31T20:05:58.909206Z",
     "shell.execute_reply": "2025-07-31T20:05:58.908127Z",
     "shell.execute_reply.started": "2025-07-31T20:05:58.852967Z"
    }
   },
   "outputs": [
    {
     "name": "stdout",
     "output_type": "stream",
     "text": [
      "Замовлення 10427 створено\n"
     ]
    }
   ],
   "source": [
    "# Тестовий запуск\n",
    "test_items = [\n",
    "    {\"productCode\": \"S18_1749\", \"quantityOrdered\": 2, \"priceEach\": 136.0},\n",
    "    {\"productCode\": \"S10_1678\", \"quantityOrdered\": 1, \"priceEach\": 95.7}\n",
    "]\n",
    "\n",
    "# Створення нового замовлення\n",
    "order_id = create_order(\n",
    "    customer_number=103,\n",
    "    order_date=date.today(),\n",
    "    required_date=date(2025, 8, 15),\n",
    "    status='In Process',\n",
    "    items=test_items\n",
    ")"
   ]
  },
  {
   "cell_type": "code",
   "execution_count": 15,
   "metadata": {
    "execution": {
     "iopub.execute_input": "2025-07-31T20:06:22.780246Z",
     "iopub.status.busy": "2025-07-31T20:06:22.778810Z",
     "iopub.status.idle": "2025-07-31T20:06:22.829942Z",
     "shell.execute_reply": "2025-07-31T20:06:22.828150Z",
     "shell.execute_reply.started": "2025-07-31T20:06:22.780246Z"
    }
   },
   "outputs": [
    {
     "data": {
      "text/html": [
       "<div>\n",
       "<style scoped>\n",
       "    .dataframe tbody tr th:only-of-type {\n",
       "        vertical-align: middle;\n",
       "    }\n",
       "\n",
       "    .dataframe tbody tr th {\n",
       "        vertical-align: top;\n",
       "    }\n",
       "\n",
       "    .dataframe thead th {\n",
       "        text-align: right;\n",
       "    }\n",
       "</style>\n",
       "<table border=\"1\" class=\"dataframe\">\n",
       "  <thead>\n",
       "    <tr style=\"text-align: right;\">\n",
       "      <th></th>\n",
       "      <th>productCode</th>\n",
       "      <th>quantityInStock</th>\n",
       "    </tr>\n",
       "  </thead>\n",
       "  <tbody>\n",
       "    <tr>\n",
       "      <th>0</th>\n",
       "      <td>S10_1678</td>\n",
       "      <td>7931</td>\n",
       "    </tr>\n",
       "    <tr>\n",
       "      <th>1</th>\n",
       "      <td>S18_1749</td>\n",
       "      <td>2720</td>\n",
       "    </tr>\n",
       "  </tbody>\n",
       "</table>\n",
       "</div>"
      ],
      "text/plain": [
       "  productCode  quantityInStock\n",
       "0    S10_1678             7931\n",
       "1    S18_1749             2720"
      ]
     },
     "execution_count": 15,
     "metadata": {},
     "output_type": "execute_result"
    }
   ],
   "source": [
    "# Перевірка замовлення\n",
    "pd.read_sql(f\"SELECT * FROM orders WHERE orderNumber = {order_id}\", engine)\n",
    "\n",
    "# Перевірка товарних позицій\n",
    "pd.read_sql(f\"SELECT * FROM orderdetails WHERE orderNumber = {order_id}\", engine)\n",
    "\n",
    "# Перевірка залишків\n",
    "codes = [f\"'{item['productCode']}'\" for item in test_items]\n",
    "pd.read_sql(f\"SELECT productCode, quantityInStock FROM products WHERE productCode IN ({','.join(codes)})\", engine)\n"
   ]
  },
  {
   "cell_type": "code",
   "execution_count": null,
   "metadata": {},
   "outputs": [],
   "source": []
  }
 ],
 "metadata": {
  "colab": {
   "provenance": []
  },
  "kernelspec": {
   "display_name": "Python [conda env:base] *",
   "language": "python",
   "name": "conda-base-py"
  },
  "language_info": {
   "codemirror_mode": {
    "name": "ipython",
    "version": 3
   },
   "file_extension": ".py",
   "mimetype": "text/x-python",
   "name": "python",
   "nbconvert_exporter": "python",
   "pygments_lexer": "ipython3",
   "version": "3.12.7"
  }
 },
 "nbformat": 4,
 "nbformat_minor": 4
}
