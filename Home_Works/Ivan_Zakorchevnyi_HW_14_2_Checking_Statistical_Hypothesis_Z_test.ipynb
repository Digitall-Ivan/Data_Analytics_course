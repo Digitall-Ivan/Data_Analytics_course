{
  "cells": [
    {
      "cell_type": "markdown",
      "metadata": {
        "id": "view-in-github",
        "colab_type": "text"
      },
      "source": [
        "<a href=\"https://colab.research.google.com/github/Digitall-Ivan/Data_Analytics_course/blob/main/Ivan_Zakorchevnyi_HW_14_2_Checking_Statistical_Hypothesis_Z_test.ipynb\" target=\"_parent\"><img src=\"https://colab.research.google.com/assets/colab-badge.svg\" alt=\"Open In Colab\"/></a>"
      ]
    },
    {
      "cell_type": "markdown",
      "id": "e152f6d6",
      "metadata": {
        "ExecuteTime": {
          "end_time": "2022-12-10T14:29:24.703416Z",
          "start_time": "2022-12-10T14:29:24.688485Z"
        },
        "id": "e152f6d6"
      },
      "source": [
        "#Перевірка статиcтичних гіпотез. Z-test.\n",
        "\n"
      ]
    },
    {
      "cell_type": "markdown",
      "id": "cd404683",
      "metadata": {
        "id": "cd404683"
      },
      "source": [
        "0. Зчитайте дані з `data.csv` у змінну data, яка має тип pandas.DataFrame. Ми будемо далі працювати з цією змінною."
      ]
    },
    {
      "cell_type": "code",
      "execution_count": 7,
      "id": "b20b6ba2",
      "metadata": {
        "id": "b20b6ba2"
      },
      "outputs": [],
      "source": [
        "import pandas as pd\n",
        "import matplotlib.pyplot as plt\n",
        "import seaborn as sns\n",
        "import numpy as np\n",
        "from scipy import stats\n",
        "\n",
        "plt.rcParams['figure.figsize'] = (12,7)\n",
        "plt.rcParams['font.size'] = 12"
      ]
    },
    {
      "cell_type": "code",
      "source": [
        "from google.colab import drive\n",
        "drive.mount('/content/drive')"
      ],
      "metadata": {
        "colab": {
          "base_uri": "https://localhost:8080/"
        },
        "id": "fAmlRZ8CdRzS",
        "outputId": "eea7c33b-8306-46d7-ccf8-1a918f5f4d6d"
      },
      "id": "fAmlRZ8CdRzS",
      "execution_count": 4,
      "outputs": [
        {
          "output_type": "stream",
          "name": "stdout",
          "text": [
            "Drive already mounted at /content/drive; to attempt to forcibly remount, call drive.mount(\"/content/drive\", force_remount=True).\n"
          ]
        }
      ]
    },
    {
      "cell_type": "code",
      "source": [
        "# Завантаження даних\n",
        "data = pd.read_csv('/content/drive/MyDrive/I LOVE DATA EDU COURSE/RAWDATA/data.csv')"
      ],
      "metadata": {
        "id": "7EC7iCihd33w"
      },
      "id": "7EC7iCihd33w",
      "execution_count": 20,
      "outputs": []
    },
    {
      "cell_type": "markdown",
      "id": "3d06cbbf",
      "metadata": {
        "id": "3d06cbbf"
      },
      "source": [
        "Запустіть код нижче. Для коректної робити всіх подальших методів дані мають бути у вигляді одновимірного `numpy.ndarray` вектора та мати розмірність (100,). Така розмірність означає, що дані - одновимірні (колонка), якщо б розмірність була (100, 1), то дані сприймаються методами як двовимірні (таблиця), хоча для нас виглядати можуть так само."
      ]
    },
    {
      "cell_type": "code",
      "execution_count": 21,
      "id": "cce1632b",
      "metadata": {
        "id": "cce1632b",
        "colab": {
          "base_uri": "https://localhost:8080/"
        },
        "outputId": "4093c28b-8bd9-46c0-cf7d-61df08ee6ca9"
      },
      "outputs": [
        {
          "output_type": "execute_result",
          "data": {
            "text/plain": [
              "(100,)"
            ]
          },
          "metadata": {},
          "execution_count": 21
        }
      ],
      "source": [
        "data = data.data.values\n",
        "data.shape"
      ]
    },
    {
      "cell_type": "markdown",
      "id": "abdcef5d",
      "metadata": {
        "id": "abdcef5d"
      },
      "source": [
        "**Завдання 1**. Зчитані дані - це сума покупок в доларах наших покупців на сайті протягом липня 2025 року.\n",
        "\n",
        "До цього місяця, ми мали продажі в середньому на чек $20.\n",
        "\n",
        "Необхідно зʼясувати, чи вийшло у нас статистично значущо **підвищити** середній чек за липень 2025?\n",
        "\n",
        "Аби дати відповідь - ми проведемо z-test на рівні значущості $\\alpha=0.05$ двома способами. В цьому завданні ми будемо виконувати обчислення \"вручну\" з використанням бібліотек numpy та scipy.stats подібно до прикладу в лекції. Для цього виконайте наступні 7 кроків. Правильне виконання кожного з кроків оцінюється в 1 бал.\n",
        "\n",
        "1. Запишіть параметри задачі у змінні Python:\n",
        "    - `sample_mean` - $\\bar{x}$, середнє значення в вибірці\n",
        "    - `population_mean` - $\\mu_0$, середнє значення в популяції (тобто те, з яким ми порівнюємо середнє вибіркове значення)\n",
        "    - `population_std` - $\\sigma$, вибіркове стандартне відхилення, яке ми вважаємо, що є рівним ст. відх. популяції, адже маємо достатньо велику вибірку.\n",
        "    - `sample_size` - $n$, розмір вибірки\n",
        "    - `alpha` - $\\alpha$ рівень значущості\n",
        "    \n",
        "    **Увага!** Для обчислення стандартного відхилення маємо скористатись функцією `np.std(your_dataframe, ddof=1)`. Чому так - розбираємо в лекції про t-test.\n",
        "\n",
        "\n",
        "2. Визначте для цієї задачі:\n",
        "    - якою є гіпотеза $H_0$\n",
        "    - якою є альтернативна гіпотеза $H_a$\n",
        "    - з яким типом тесту ми маємо справу - лівосторонній, правосторонній чи двосторонній.\n",
        "\n",
        "3. Обчисліть стандартну помилку SE.\n",
        "4. Розрахуйте z-статистику.\n",
        "5. Знайдіть критичне z-значення з допомогою бібліотеки stats.\n",
        "6. Обчисліть p-value з допомогою бібліотеки stats.\n",
        "7. Прийміть рішення, чи відхиляєте ви гіпотезу $H_0$. Для прийняття рішення зробіть і порівняння z-статистики з критичним значенням, і проаналізуйте p-value."
      ]
    },
    {
      "cell_type": "code",
      "source": [
        "# Крок 1. Параметри задачі\n",
        "sample_mean = np.mean(data)         # середнє значення у вибірці\n",
        "population_mean = 20                # середнє значення у популяції (µ0 = $20)\n",
        "population_std = np.std(data, ddof=1)  # вибіркове стандартне відхилення\n",
        "sample_size = len(data)             # розмір вибірки\n",
        "alpha = 0.05                        # рівень значущості\n",
        "\n",
        "(sample_mean, population_mean, population_std, sample_size, alpha)"
      ],
      "metadata": {
        "id": "NX2XezWLdf4t",
        "colab": {
          "base_uri": "https://localhost:8080/"
        },
        "outputId": "3a27cf6f-f72a-48ee-86b5-73831e33f5b1"
      },
      "id": "NX2XezWLdf4t",
      "execution_count": 22,
      "outputs": [
        {
          "output_type": "execute_result",
          "data": {
            "text/plain": [
              "(np.float64(19.37755319670441), 20, np.float64(6.25356123240434), 100, 0.05)"
            ]
          },
          "metadata": {},
          "execution_count": 22
        }
      ]
    },
    {
      "cell_type": "markdown",
      "source": [
        "Крок 2 Формулювання гіпотез\n",
        "H₀: μ = 20 (середній чек не зріс)\n",
        "H₁: μ > 20 (середній чек зріс)\n",
        "Маємо правосторонній z-test"
      ],
      "metadata": {
        "id": "s3fk2sUIj94g"
      },
      "id": "s3fk2sUIj94g"
    },
    {
      "cell_type": "code",
      "source": [
        "# Крок 3. Стандартна помилка\n",
        "SE = population_std / np.sqrt(sample_size)\n",
        "\n",
        "# Крок 4. Z-статистика\n",
        "z_stat = (sample_mean - population_mean) / SE\n",
        "\n",
        "# Крок 5. Критичне значення (правосторонній тест)\n",
        "z_crit = stats.norm.ppf(1 - alpha)\n",
        "\n",
        "# Крок 6. p-value (правий хвіст)\n",
        "p_value = 1 - stats.norm.cdf(z_stat)\n",
        "\n",
        "# Зведемо результати\n",
        "{\n",
        "    \"sample_mean\": float(sample_mean),\n",
        "    \"population_mean\": population_mean,\n",
        "    \"population_std\": float(population_std),\n",
        "    \"sample_size\": sample_size,\n",
        "    \"alpha\": alpha,\n",
        "    \"SE\": float(SE),\n",
        "    \"z_stat\": float(z_stat),\n",
        "    \"z_crit_right\": float(z_crit),\n",
        "    \"p_value_right\": float(p_value)\n",
        "}"
      ],
      "metadata": {
        "colab": {
          "base_uri": "https://localhost:8080/"
        },
        "id": "PoTqwxgkkVSQ",
        "outputId": "268ae14c-7efb-4e5a-c45d-9ef9257dadcd"
      },
      "id": "PoTqwxgkkVSQ",
      "execution_count": 24,
      "outputs": [
        {
          "output_type": "execute_result",
          "data": {
            "text/plain": [
              "{'sample_mean': 19.37755319670441,\n",
              " 'population_mean': 20,\n",
              " 'population_std': 6.25356123240434,\n",
              " 'sample_size': 100,\n",
              " 'alpha': 0.05,\n",
              " 'SE': 0.625356123240434,\n",
              " 'z_stat': -0.995347738933505,\n",
              " 'z_crit_right': 1.6448536269514722,\n",
              " 'p_value_right': 0.8402164165464012}"
            ]
          },
          "metadata": {},
          "execution_count": 24
        }
      ]
    },
    {
      "cell_type": "markdown",
      "source": [
        "Висновок: оскільки z < z(кр) та p-value > 0.05, не відхиляємо H₀. Даних недостатньо, щоб стверджувати про статистично значуще підвищення середнього чека у липні 2025."
      ],
      "metadata": {
        "id": "G8GL1XKaj2ZK"
      },
      "id": "G8GL1XKaj2ZK"
    },
    {
      "cell_type": "markdown",
      "source": [
        "**Завдання 2.** Виконайте обчислення z-test з використанням бібліотеки statsmodels.\n",
        "\n",
        "Отримайте z-статистику та р-значення.\n",
        "\n",
        "Виведіть p-значення та зробіть висновок, чи ми маємо достатньо доказів, аби стверджувати, що середній чек зріс.\n",
        "\n",
        "Чи зійшлись значення z-статистику та р-значення в цьому завданні з попередніми обчисленнями?\n",
        "\n",
        "Завдання оцінюється в 3 бали."
      ],
      "metadata": {
        "id": "0FOBByRMXkL2"
      },
      "id": "0FOBByRMXkL2"
    },
    {
      "cell_type": "code",
      "source": [
        "import statsmodels.api as sm\n",
        "\n",
        "# Завдання 2: Використовуємо statsmodels для z-тесту\n",
        "z_stat_sm, p_value_sm = sm.stats.ztest(data, value=20, alternative=\"larger\")\n",
        "\n",
        "z_stat_sm, p_value_sm"
      ],
      "metadata": {
        "id": "f_Oa0DJhdg6v",
        "colab": {
          "base_uri": "https://localhost:8080/"
        },
        "outputId": "3e65872f-216b-4341-ec17-fcec00a96d7a"
      },
      "id": "f_Oa0DJhdg6v",
      "execution_count": 25,
      "outputs": [
        {
          "output_type": "execute_result",
          "data": {
            "text/plain": [
              "(np.float64(-0.9953477389335053), np.float64(0.8402164165464012))"
            ]
          },
          "metadata": {},
          "execution_count": 25
        }
      ]
    },
    {
      "cell_type": "markdown",
      "source": [
        "Висновок: оскільки p-value > 0.05, ми не відхиляємо H₀. Недостатньо статистичних доказів, щоб стверджувати, що середній чек у липні 2025 року зріс. Зійшлись значення z-статистики та р-значення в цьому завданні з попередніми обчисленнями."
      ],
      "metadata": {
        "id": "lqTCiSHJn69u"
      },
      "id": "lqTCiSHJn69u"
    }
  ],
  "metadata": {
    "hide_input": false,
    "kernelspec": {
      "display_name": "Python 3 (ipykernel)",
      "language": "python",
      "name": "python3"
    },
    "language_info": {
      "codemirror_mode": {
        "name": "ipython",
        "version": 3
      },
      "file_extension": ".py",
      "mimetype": "text/x-python",
      "name": "python",
      "nbconvert_exporter": "python",
      "pygments_lexer": "ipython3",
      "version": "3.11.3"
    },
    "toc": {
      "base_numbering": 1,
      "nav_menu": {},
      "number_sections": true,
      "sideBar": true,
      "skip_h1_title": false,
      "title_cell": "Table of Contents",
      "title_sidebar": "Contents",
      "toc_cell": false,
      "toc_position": {},
      "toc_section_display": true,
      "toc_window_display": false
    },
    "varInspector": {
      "cols": {
        "lenName": 16,
        "lenType": 16,
        "lenVar": 40
      },
      "kernels_config": {
        "python": {
          "delete_cmd_postfix": "",
          "delete_cmd_prefix": "del ",
          "library": "var_list.py",
          "varRefreshCmd": "print(var_dic_list())"
        },
        "r": {
          "delete_cmd_postfix": ") ",
          "delete_cmd_prefix": "rm(",
          "library": "var_list.r",
          "varRefreshCmd": "cat(var_dic_list()) "
        }
      },
      "types_to_exclude": [
        "module",
        "function",
        "builtin_function_or_method",
        "instance",
        "_Feature"
      ],
      "window_display": false
    },
    "colab": {
      "provenance": [],
      "include_colab_link": true
    }
  },
  "nbformat": 4,
  "nbformat_minor": 5
}
