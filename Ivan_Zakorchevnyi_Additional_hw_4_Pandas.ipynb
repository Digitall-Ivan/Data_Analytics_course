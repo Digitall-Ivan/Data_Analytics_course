{
  "cells": [
    {
      "cell_type": "markdown",
      "metadata": {
        "id": "view-in-github",
        "colab_type": "text"
      },
      "source": [
        "<a href=\"https://colab.research.google.com/github/Digitall-Ivan/Data_Analytics_course/blob/main/Ivan_Zakorchevnyi_Additional_hw_4_Pandas.ipynb\" target=\"_parent\"><img src=\"https://colab.research.google.com/assets/colab-badge.svg\" alt=\"Open In Colab\"/></a>"
      ]
    },
    {
      "cell_type": "markdown",
      "id": "f27af02b",
      "metadata": {
        "id": "f27af02b"
      },
      "source": [
        "# Додаткове завдання з pandas\n",
        "Вітаю! В цьому завданні будемо працювати з даними з опитування щодо зарплат ІТ спеціалістів на рексурсі DOU від грудня 2022 року. Впевнена, це буде цікаве дослідження, а заразом і практика pandas :)\n",
        "Цей аналіз може бути корисним людині, яка обирає напрям роботи в ІТ і хоче зрозуміти тенденції. За якісного виконання цього аналізу, цей проєкт можна сміливо додавати у Ваше портфоліо!"
      ]
    },
    {
      "cell_type": "markdown",
      "id": "dce4f0a0",
      "metadata": {
        "id": "dce4f0a0"
      },
      "source": [
        "1. Зчитайте дані з файлу `2022_dec_raw.csv`. Увага! Тут необхідно використати аргумент `pd.read_csv` `sep=';'`, бо розділювач в даних - крапка з комою."
      ]
    },
    {
      "cell_type": "code",
      "source": [
        "from google.colab import drive\n",
        "drive.mount('/content/drive')"
      ],
      "metadata": {
        "colab": {
          "base_uri": "https://localhost:8080/"
        },
        "id": "yfmnCoKY92-n",
        "outputId": "1a818957-e544-42ac-eaf4-4914b7a8d402"
      },
      "id": "yfmnCoKY92-n",
      "execution_count": 1,
      "outputs": [
        {
          "output_type": "stream",
          "name": "stdout",
          "text": [
            "Mounted at /content/drive\n"
          ]
        }
      ]
    },
    {
      "cell_type": "code",
      "execution_count": 20,
      "id": "a238c418",
      "metadata": {
        "id": "a238c418"
      },
      "outputs": [],
      "source": [
        "import pandas as pd\n",
        "\n",
        "file_path = \"/content/drive/MyDrive/I LOVE DATA EDU COURSE/RAWDATA/2022_dec_raw.csv\"\n",
        "df = pd.read_csv(file_path, sep=';')"
      ]
    },
    {
      "cell_type": "markdown",
      "id": "7cf480dc",
      "metadata": {
        "id": "7cf480dc"
      },
      "source": [
        "2. Які колонки мають дані?"
      ]
    },
    {
      "cell_type": "code",
      "execution_count": 5,
      "id": "3768c4d4",
      "metadata": {
        "id": "3768c4d4",
        "colab": {
          "base_uri": "https://localhost:8080/"
        },
        "outputId": "92ba27a8-d956-4af4-eb40-13aa41ea9edd"
      },
      "outputs": [
        {
          "output_type": "stream",
          "name": "stdout",
          "text": [
            "<class 'pandas.core.frame.DataFrame'>\n",
            "RangeIndex: 13315 entries, 0 to 13314\n",
            "Data columns (total 28 columns):\n",
            " #   Column                                                                      Non-Null Count  Dtype \n",
            "---  ------                                                                      --------------  ----- \n",
            " 0   Timestamp                                                                   13315 non-null  object\n",
            " 1   Ви працюєте зараз в ІТ?                                                     13315 non-null  object\n",
            " 2   Де ви зараз живете?                                                         13315 non-null  object\n",
            " 3   В якій області ви зараз живете?                                             11538 non-null  object\n",
            " 4   Зарплата у $$$ за місяць, лише ставка після сплати податків                 13288 non-null  object\n",
            " 5   Ваша стать                                                                  13315 non-null  object\n",
            " 6   Ваш вік                                                                     13315 non-null  object\n",
            " 7   Яка у вас освіта?                                                           13315 non-null  object\n",
            " 8   Чи є у вас науковий ступінь?                                                13204 non-null  object\n",
            " 9   Знання англійської мови                                                     13315 non-null  object\n",
            " 10  Оберіть вашу посаду                                                         13315 non-null  object\n",
            " 11  Ваш тайтл                                                                   13315 non-null  object\n",
            " 12  Ваша спеціалізація                                                          159 non-null    object\n",
            " 13  Вкажіть вашу спеціалізацію                                                  2364 non-null   object\n",
            " 14  Оберіть вашу спеціалізацію                                                  486 non-null    object\n",
            " 15  Ваша посада                                                                 305 non-null    object\n",
            " 16  Оберіть вашу посаду2                                                        560 non-null    object\n",
            " 17  Ваша посада3                                                                821 non-null    object\n",
            " 18  Ваша посада4                                                                485 non-null    object\n",
            " 19  Ваша посада5                                                                288 non-null    object\n",
            " 20  Ваша посада6                                                                353 non-null    object\n",
            " 21  Ваша посада7                                                                116 non-null    object\n",
            " 22  Чи використовуєте ви у своїй роботі мови програмування (одну чи декілька)?  4874 non-null   object\n",
            " 23  Основна мова програмування                                                  9060 non-null   object\n",
            " 24  Вкажіть вашу основну спеціалізацію                                          9059 non-null   object\n",
            " 25  В якій сфері працюєте?                                                      13315 non-null  object\n",
            " 26  Тип компанії                                                                13315 non-null  object\n",
            " 27  Загальний стаж роботи за спеціальністю                                      13315 non-null  object\n",
            "dtypes: object(28)\n",
            "memory usage: 2.8+ MB\n",
            "None\n"
          ]
        }
      ],
      "source": [
        "print(df.info())"
      ]
    },
    {
      "cell_type": "markdown",
      "id": "6d324476",
      "metadata": {
        "id": "6d324476"
      },
      "source": [
        "3. Скільки рядків та колонок мають дані? Скільки пропущених значень має кожна з колонок?"
      ]
    },
    {
      "cell_type": "code",
      "execution_count": 6,
      "id": "4abb52fa",
      "metadata": {
        "id": "4abb52fa",
        "colab": {
          "base_uri": "https://localhost:8080/"
        },
        "outputId": "7dccbbc0-d015-4fec-9fd1-bb673b5202c1"
      },
      "outputs": [
        {
          "output_type": "stream",
          "name": "stdout",
          "text": [
            "Кількість рядків: 13315\n",
            "Кількість колонок: 28\n",
            "\n",
            "Кількість пропущених значень у кожній колонці:\n",
            "Ваша посада7                                                                  13199\n",
            "Ваша спеціалізація                                                            13156\n",
            "Ваша посада5                                                                  13027\n",
            "Ваша посада                                                                   13010\n",
            "Ваша посада6                                                                  12962\n",
            "Ваша посада4                                                                  12830\n",
            "Оберіть вашу спеціалізацію                                                    12829\n",
            "Оберіть вашу посаду2                                                          12755\n",
            "Ваша посада3                                                                  12494\n",
            "Вкажіть вашу спеціалізацію                                                    10951\n",
            "Чи використовуєте ви у своїй роботі мови програмування (одну чи декілька)?     8441\n",
            "Вкажіть вашу основну спеціалізацію                                             4256\n",
            "Основна мова програмування                                                     4255\n",
            "В якій області ви зараз живете?                                                1777\n",
            "Чи є у вас науковий ступінь?                                                    111\n",
            "Зарплата у $$$ за місяць, лише ставка після сплати податків                      27\n",
            "Ваш тайтл                                                                         0\n",
            "Ваш вік                                                                           0\n",
            "Ви працюєте зараз в ІТ?                                                           0\n",
            "Де ви зараз живете?                                                               0\n",
            "Timestamp                                                                         0\n",
            "Оберіть вашу посаду                                                               0\n",
            "Знання англійської мови                                                           0\n",
            "Яка у вас освіта?                                                                 0\n",
            "Ваша стать                                                                        0\n",
            "В якій сфері працюєте?                                                            0\n",
            "Тип компанії                                                                      0\n",
            "Загальний стаж роботи за спеціальністю                                            0\n",
            "dtype: int64\n",
            "\n",
            "Відсоток пропущених значень (%):\n",
            "Timestamp                                                                      0.00\n",
            "Ви працюєте зараз в ІТ?                                                        0.00\n",
            "Де ви зараз живете?                                                            0.00\n",
            "В якій області ви зараз живете?                                               13.35\n",
            "Зарплата у $$$ за місяць, лише ставка після сплати податків                    0.20\n",
            "Ваша стать                                                                     0.00\n",
            "Ваш вік                                                                        0.00\n",
            "Яка у вас освіта?                                                              0.00\n",
            "Чи є у вас науковий ступінь?                                                   0.83\n",
            "Знання англійської мови                                                        0.00\n",
            "Оберіть вашу посаду                                                            0.00\n",
            "Ваш тайтл                                                                      0.00\n",
            "Ваша спеціалізація                                                            98.81\n",
            "Вкажіть вашу спеціалізацію                                                    82.25\n",
            "Оберіть вашу спеціалізацію                                                    96.35\n",
            "Ваша посада                                                                   97.71\n",
            "Оберіть вашу посаду2                                                          95.79\n",
            "Ваша посада3                                                                  93.83\n",
            "Ваша посада4                                                                  96.36\n",
            "Ваша посада5                                                                  97.84\n",
            "Ваша посада6                                                                  97.35\n",
            "Ваша посада7                                                                  99.13\n",
            "Чи використовуєте ви у своїй роботі мови програмування (одну чи декілька)?    63.39\n",
            "Основна мова програмування                                                    31.96\n",
            "Вкажіть вашу основну спеціалізацію                                            31.96\n",
            "В якій сфері працюєте?                                                         0.00\n",
            "Тип компанії                                                                   0.00\n",
            "Загальний стаж роботи за спеціальністю                                         0.00\n",
            "dtype: float64\n"
          ]
        }
      ],
      "source": [
        "# Рахую кількість рядків та колонок\n",
        "rows, cols = df.shape\n",
        "print(f\"Кількість рядків: {rows}\")\n",
        "print(f\"Кількість колонок: {cols}\")\n",
        "\n",
        "# Виводжу кількість пропущених значень у кожній колонці\n",
        "missing_values = df.isnull().sum().sort_values(ascending=False)\n",
        "print(\"\\nКількість пропущених значень у кожній колонці:\")\n",
        "print(missing_values)\n",
        "\n",
        "# Рахую частку пропусків у відсотках\n",
        "missing_percent = (df.isnull().mean() * 100).round(2)\n",
        "print(\"\\nВідсоток пропущених значень (%):\")\n",
        "print(missing_percent)"
      ]
    },
    {
      "cell_type": "markdown",
      "id": "854846c5",
      "metadata": {
        "ExecuteTime": {
          "end_time": "2023-07-06T09:12:21.537631Z",
          "start_time": "2023-07-06T09:12:21.481059Z"
        },
        "id": "854846c5"
      },
      "source": [
        "4. Які колонки мають всі значення заповненими (не мають дожного None значення)? Виведіть програмно список цих колонок."
      ]
    },
    {
      "cell_type": "code",
      "execution_count": 7,
      "id": "5de7ccb7",
      "metadata": {
        "id": "5de7ccb7",
        "colab": {
          "base_uri": "https://localhost:8080/"
        },
        "outputId": "0f7d32b7-88a9-418b-96de-813ad495addc"
      },
      "outputs": [
        {
          "output_type": "stream",
          "name": "stdout",
          "text": [
            "Колонки без жодного пропущеного значення:\n",
            "['Timestamp', 'Ви працюєте зараз в ІТ?', 'Де ви зараз живете? ', 'Ваша стать', 'Ваш вік', 'Яка у вас освіта?', 'Знання англійської мови', 'Оберіть вашу посаду', 'Ваш тайтл', 'В якій сфері працюєте?', 'Тип компанії', 'Загальний стаж роботи за спеціальністю']\n"
          ]
        }
      ],
      "source": [
        "# Визначаю колонки без пропусків\n",
        "full_columns = [col for col in df.columns if df[col].isnull().sum() == 0]\n",
        "\n",
        "# Виводжу список таких колонок\n",
        "print(\"Колонки без жодного пропущеного значення:\")\n",
        "print(full_columns)"
      ]
    },
    {
      "cell_type": "markdown",
      "id": "2e6a2867",
      "metadata": {
        "ExecuteTime": {
          "end_time": "2023-07-06T10:56:38.046761Z",
          "start_time": "2023-07-06T10:56:38.038875Z"
        },
        "id": "2e6a2867"
      },
      "source": [
        "5. Який тип мають колонки в наборі даних? Які з колонок типу object логічно на ваш погляд перетворити на числові колонки?"
      ]
    },
    {
      "cell_type": "code",
      "execution_count": 8,
      "id": "3915a5f8",
      "metadata": {
        "id": "3915a5f8",
        "colab": {
          "base_uri": "https://localhost:8080/"
        },
        "outputId": "8acd9348-42bb-48a3-8bc0-8e4b4e8727a2"
      },
      "outputs": [
        {
          "output_type": "stream",
          "name": "stdout",
          "text": [
            "Timestamp                                                                     object\n",
            "Ви працюєте зараз в ІТ?                                                       object\n",
            "Де ви зараз живете?                                                           object\n",
            "В якій області ви зараз живете?                                               object\n",
            "Зарплата у $$$ за місяць, лише ставка після сплати податків                   object\n",
            "Ваша стать                                                                    object\n",
            "Ваш вік                                                                       object\n",
            "Яка у вас освіта?                                                             object\n",
            "Чи є у вас науковий ступінь?                                                  object\n",
            "Знання англійської мови                                                       object\n",
            "Оберіть вашу посаду                                                           object\n",
            "Ваш тайтл                                                                     object\n",
            "Ваша спеціалізація                                                            object\n",
            "Вкажіть вашу спеціалізацію                                                    object\n",
            "Оберіть вашу спеціалізацію                                                    object\n",
            "Ваша посада                                                                   object\n",
            "Оберіть вашу посаду2                                                          object\n",
            "Ваша посада3                                                                  object\n",
            "Ваша посада4                                                                  object\n",
            "Ваша посада5                                                                  object\n",
            "Ваша посада6                                                                  object\n",
            "Ваша посада7                                                                  object\n",
            "Чи використовуєте ви у своїй роботі мови програмування (одну чи декілька)?    object\n",
            "Основна мова програмування                                                    object\n",
            "Вкажіть вашу основну спеціалізацію                                            object\n",
            "В якій сфері працюєте?                                                        object\n",
            "Тип компанії                                                                  object\n",
            "Загальний стаж роботи за спеціальністю                                        object\n",
            "dtype: object\n"
          ]
        }
      ],
      "source": [
        "# Переглядаю типи даних\n",
        "print(df.dtypes)\n"
      ]
    },
    {
      "cell_type": "markdown",
      "source": [
        "На мій погляд - такі колонки, які логічно мають бути числовими (int або float):\n",
        "\n",
        "Колонка \"Зарплата у $$$ за місяць, лише ставка після сплати податків\"\tЦе головний показник зарплати, числовий. Може бути float.\n",
        "Далі \"Ваш вік\"\tЦе вік респондента - має бути числовий (int).\n",
        "Також \"Загальний стаж роботи за спеціальністю\"\tЦе кількість років досвіду - числовий (int або float)."
      ],
      "metadata": {
        "id": "wF2nuF2tAjB1"
      },
      "id": "wF2nuF2tAjB1"
    },
    {
      "cell_type": "markdown",
      "id": "3da64e75",
      "metadata": {
        "id": "3da64e75"
      },
      "source": [
        "6. Трансформуйте колонки 'Ваш вік', 'Зарплата у $$$ за місяць, лише ставка після сплати податків' у тип даних float. УВАГА! Перед трансформацією подивіться, які дані містять ці колонки. Аби успішно трансформувати тип даних, треба спочатку привести рядки до того виду, який буде підходити, аби потім рядок зробити типом float."
      ]
    },
    {
      "cell_type": "code",
      "execution_count": 9,
      "id": "76173c1c",
      "metadata": {
        "id": "76173c1c",
        "colab": {
          "base_uri": "https://localhost:8080/"
        },
        "outputId": "abc5e75b-4b82-4539-e99d-33073535fbf7"
      },
      "outputs": [
        {
          "output_type": "stream",
          "name": "stdout",
          "text": [
            "Зарплата у $$$ за місяць, лише ставка після сплати податків    float64\n",
            "Ваш вік                                                        float64\n",
            "Загальний стаж роботи за спеціальністю                         float64\n",
            "dtype: object\n"
          ]
        }
      ],
      "source": [
        "# Перелік колонок, які перетворюю\n",
        "cols_to_convert = [\n",
        "    \"Зарплата у $$$ за місяць, лише ставка після сплати податків\",\n",
        "    \"Ваш вік\",\n",
        "    \"Загальний стаж роботи за спеціальністю\"\n",
        "]\n",
        "\n",
        "# Перетворюю у необхідний тип даних\n",
        "for col in cols_to_convert:\n",
        "    df[col] = pd.to_numeric(df[col], errors='coerce')\n",
        "\n",
        "# Перевіряю нові типи\n",
        "print(df[cols_to_convert].dtypes)\n"
      ]
    },
    {
      "cell_type": "markdown",
      "id": "9c4181cb",
      "metadata": {
        "ExecuteTime": {
          "end_time": "2023-07-06T11:36:23.006200Z",
          "start_time": "2023-07-06T11:36:22.975108Z"
        },
        "id": "9c4181cb"
      },
      "source": [
        "7. Це завдання з зірочкою! Нам треба транфсформувати колонку Timestamp у тип даних `datetime64[ns]`. Це не так просто як здається на першйий погляд :) Але це реальна ситуація, яка може трапитись при зборі даних в роботі аналітиком.\n",
        "Я запропоную один зі способів виконати завдання, але ви можете написати по-своєму. Головне - отримати колонку - потрібного типу.\n",
        "Пропоную наступний алгоритм дій:\n",
        "    1. Подивитись, які дані містяться в цій колонці. Виведіть перші і останні 5 записів. Чи однаковий формат цих даних? (спойлер: ні, бо інакше все було б просто :))\n",
        "    2. Нам треба враховуючи різний формат даних перетворити рядок у колонці `Timestamp` на тип `datetime64[ns]`. Як це зробити? Для перетворення рядка на `datetime64` пропоную скористатись `datetime.datetime.strptime`.\n",
        "    Для цього треба імпортувати бібліотеку `datetime`. Я пропоную написати функцію для обробки кожного окремого рядка, яка враховує довжину рядка і на основі цього застосовує різний формат даних дати.\n",
        "    Як прописувати формат даних можна переглянути [тут](https://www.w3schools.com/python/python_datetime.asp).\n",
        "    3. Коли функція для обробки кожного окремого рядка готова, застосуйте її для всіх даних з допомогою методу `apply`."
      ]
    },
    {
      "cell_type": "code",
      "source": [
        "# Перегляну перші і останні 5 записів для розуміння даних в колонках\n",
        "print(df['Timestamp'].head())\n",
        "print(df['Timestamp'].tail())"
      ],
      "metadata": {
        "colab": {
          "base_uri": "https://localhost:8080/"
        },
        "id": "k9sAtge5DKDc",
        "outputId": "b4ea4f68-90c8-4da2-9947-c4edb90ebe8e"
      },
      "id": "k9sAtge5DKDc",
      "execution_count": 23,
      "outputs": [
        {
          "output_type": "stream",
          "name": "stdout",
          "text": [
            "0   2022-11-30 10:26:37\n",
            "1   2022-11-30 10:26:39\n",
            "2   2022-11-30 10:26:58\n",
            "3   2022-11-30 10:27:31\n",
            "4   2022-11-30 10:27:34\n",
            "Name: Timestamp, dtype: datetime64[ns]\n",
            "13310   NaT\n",
            "13311   NaT\n",
            "13312   NaT\n",
            "13313   NaT\n",
            "13314   NaT\n",
            "Name: Timestamp, dtype: datetime64[ns]\n"
          ]
        }
      ]
    },
    {
      "cell_type": "code",
      "source": [
        "from datetime import datetime\n",
        "\n",
        "# конвертую колонку Timestamp\n",
        "df[\"Timestamp\"] = pd.to_datetime(df[\"Timestamp\"], format=\"%m.%d.%Y %H:%M:%S\", errors=\"coerce\")\n",
        "\n",
        "# перевіряю результат перетворення\n",
        "print(df[\"Timestamp\"].head())\n",
        "print(df[\"Timestamp\"].dtypes)\n"
      ],
      "metadata": {
        "colab": {
          "base_uri": "https://localhost:8080/"
        },
        "id": "ylPyHgnWDjEo",
        "outputId": "5e52d286-44a2-4a03-d222-1b13500956a7"
      },
      "id": "ylPyHgnWDjEo",
      "execution_count": 24,
      "outputs": [
        {
          "output_type": "stream",
          "name": "stdout",
          "text": [
            "0   2022-11-30 10:26:37\n",
            "1   2022-11-30 10:26:39\n",
            "2   2022-11-30 10:26:58\n",
            "3   2022-11-30 10:27:31\n",
            "4   2022-11-30 10:27:34\n",
            "Name: Timestamp, dtype: datetime64[ns]\n",
            "datetime64[ns]\n"
          ]
        }
      ]
    },
    {
      "cell_type": "code",
      "source": [
        "print(df['Timestamp'].tail())"
      ],
      "metadata": {
        "colab": {
          "base_uri": "https://localhost:8080/"
        },
        "id": "IKvV1lEYD_q6",
        "outputId": "43695ce3-90a5-45f4-9857-a2026aafeb65"
      },
      "id": "IKvV1lEYD_q6",
      "execution_count": 25,
      "outputs": [
        {
          "output_type": "stream",
          "name": "stdout",
          "text": [
            "13310   NaT\n",
            "13311   NaT\n",
            "13312   NaT\n",
            "13313   NaT\n",
            "13314   NaT\n",
            "Name: Timestamp, dtype: datetime64[ns]\n"
          ]
        }
      ]
    },
    {
      "cell_type": "code",
      "source": [
        "df.loc[df['Timestamp'].isna(), 'Timestamp'].head(10)\n"
      ],
      "metadata": {
        "colab": {
          "base_uri": "https://localhost:8080/",
          "height": 397
        },
        "id": "ulDpD1cmEQ0O",
        "outputId": "da5722c5-7d6f-4066-9592-1cf14b68793f"
      },
      "id": "ulDpD1cmEQ0O",
      "execution_count": 26,
      "outputs": [
        {
          "output_type": "execute_result",
          "data": {
            "text/plain": [
              "2272   NaT\n",
              "2273   NaT\n",
              "2274   NaT\n",
              "2275   NaT\n",
              "2276   NaT\n",
              "2277   NaT\n",
              "2278   NaT\n",
              "2279   NaT\n",
              "2280   NaT\n",
              "2281   NaT\n",
              "Name: Timestamp, dtype: datetime64[ns]"
            ],
            "text/html": [
              "<div>\n",
              "<style scoped>\n",
              "    .dataframe tbody tr th:only-of-type {\n",
              "        vertical-align: middle;\n",
              "    }\n",
              "\n",
              "    .dataframe tbody tr th {\n",
              "        vertical-align: top;\n",
              "    }\n",
              "\n",
              "    .dataframe thead th {\n",
              "        text-align: right;\n",
              "    }\n",
              "</style>\n",
              "<table border=\"1\" class=\"dataframe\">\n",
              "  <thead>\n",
              "    <tr style=\"text-align: right;\">\n",
              "      <th></th>\n",
              "      <th>Timestamp</th>\n",
              "    </tr>\n",
              "  </thead>\n",
              "  <tbody>\n",
              "    <tr>\n",
              "      <th>2272</th>\n",
              "      <td>NaT</td>\n",
              "    </tr>\n",
              "    <tr>\n",
              "      <th>2273</th>\n",
              "      <td>NaT</td>\n",
              "    </tr>\n",
              "    <tr>\n",
              "      <th>2274</th>\n",
              "      <td>NaT</td>\n",
              "    </tr>\n",
              "    <tr>\n",
              "      <th>2275</th>\n",
              "      <td>NaT</td>\n",
              "    </tr>\n",
              "    <tr>\n",
              "      <th>2276</th>\n",
              "      <td>NaT</td>\n",
              "    </tr>\n",
              "    <tr>\n",
              "      <th>2277</th>\n",
              "      <td>NaT</td>\n",
              "    </tr>\n",
              "    <tr>\n",
              "      <th>2278</th>\n",
              "      <td>NaT</td>\n",
              "    </tr>\n",
              "    <tr>\n",
              "      <th>2279</th>\n",
              "      <td>NaT</td>\n",
              "    </tr>\n",
              "    <tr>\n",
              "      <th>2280</th>\n",
              "      <td>NaT</td>\n",
              "    </tr>\n",
              "    <tr>\n",
              "      <th>2281</th>\n",
              "      <td>NaT</td>\n",
              "    </tr>\n",
              "  </tbody>\n",
              "</table>\n",
              "</div><br><label><b>dtype:</b> datetime64[ns]</label>"
            ]
          },
          "metadata": {},
          "execution_count": 26
        }
      ]
    },
    {
      "cell_type": "code",
      "source": [
        "df['Timestamp'] = pd.to_datetime(df['Timestamp'], errors='coerce', format='%m.%d.%Y %H:%M:%S')\n",
        "\n"
      ],
      "metadata": {
        "id": "C-_VoxLhEdZ8"
      },
      "id": "C-_VoxLhEdZ8",
      "execution_count": 28,
      "outputs": []
    },
    {
      "cell_type": "code",
      "source": [
        "print(df['Timestamp'].head())\n",
        "print(df['Timestamp'].tail())"
      ],
      "metadata": {
        "colab": {
          "base_uri": "https://localhost:8080/"
        },
        "id": "yfIOYDCFEnHc",
        "outputId": "7135984f-0d72-4ac8-8c69-723cb6f792cd"
      },
      "id": "yfIOYDCFEnHc",
      "execution_count": 29,
      "outputs": [
        {
          "output_type": "stream",
          "name": "stdout",
          "text": [
            "0   2022-11-30 10:26:37\n",
            "1   2022-11-30 10:26:39\n",
            "2   2022-11-30 10:26:58\n",
            "3   2022-11-30 10:27:31\n",
            "4   2022-11-30 10:27:34\n",
            "Name: Timestamp, dtype: datetime64[ns]\n",
            "13310   NaT\n",
            "13311   NaT\n",
            "13312   NaT\n",
            "13313   NaT\n",
            "13314   NaT\n",
            "Name: Timestamp, dtype: datetime64[ns]\n"
          ]
        }
      ]
    },
    {
      "cell_type": "markdown",
      "id": "e60cd492",
      "metadata": {
        "id": "e60cd492"
      },
      "source": [
        "8. Для колонок типу даних object (які такими лишились після всіх наших трансформацій) виведіть кількість унікальних значень."
      ]
    },
    {
      "cell_type": "code",
      "execution_count": 30,
      "id": "c729c27d",
      "metadata": {
        "id": "c729c27d",
        "colab": {
          "base_uri": "https://localhost:8080/"
        },
        "outputId": "3e78dabb-9317-4dc8-88f8-e734451d89d8"
      },
      "outputs": [
        {
          "output_type": "execute_result",
          "data": {
            "text/plain": [
              "{'Ви працюєте зараз в ІТ?': 5,\n",
              " 'Де ви зараз живете? ': 2,\n",
              " 'В якій області ви зараз живете?': 23,\n",
              " 'Зарплата у $$$ за місяць, лише ставка після сплати податків': 896,\n",
              " 'Ваша стать': 2,\n",
              " 'Ваш вік': 47,\n",
              " 'Яка у вас освіта?': 5,\n",
              " 'Чи є у вас науковий ступінь? ': 3,\n",
              " 'Знання англійської мови': 5,\n",
              " 'Оберіть вашу посаду': 22,\n",
              " 'Ваш тайтл': 10,\n",
              " 'Ваша спеціалізація': 8,\n",
              " 'Вкажіть вашу спеціалізацію': 4,\n",
              " 'Оберіть вашу спеціалізацію': 21,\n",
              " 'Ваша посада': 15,\n",
              " 'Оберіть вашу посаду2': 7,\n",
              " 'Ваша посада3': 7,\n",
              " 'Ваша посада4': 5,\n",
              " 'Ваша посада5': 6,\n",
              " 'Ваша посада6': 2,\n",
              " 'Ваша посада7': 4,\n",
              " 'Чи використовуєте ви у своїй роботі мови програмування (одну чи декілька)?': 2,\n",
              " 'Основна мова програмування': 33,\n",
              " 'Вкажіть вашу основну спеціалізацію': 12,\n",
              " 'В якій сфері працюєте?': 1768,\n",
              " 'Тип компанії': 6,\n",
              " 'Загальний стаж роботи за спеціальністю': 19}"
            ]
          },
          "metadata": {},
          "execution_count": 30
        }
      ],
      "source": [
        "# Обрав лише колонки типу object\n",
        "object_cols = df.select_dtypes(include='object').columns\n",
        "\n",
        "# для кожної такої колонки вивів кількість унікальних значень\n",
        "unique_counts = {col: df[col].nunique() for col in object_cols}\n",
        "\n",
        "# показую результат\n",
        "unique_counts\n"
      ]
    },
    {
      "cell_type": "markdown",
      "id": "03500adf",
      "metadata": {
        "id": "03500adf"
      },
      "source": [
        "9. Для колонок типу даних object виведіть топ 10 найбільш частих значень з кількістю рядків, в яких це значення зустрічається. Зробіть це для кожної колонки окремо. Наприклад, в циклі.  \n",
        "Що цікавого бачите? Які висновки можна зробити? Що особисто Вас вразило?"
      ]
    },
    {
      "cell_type": "code",
      "execution_count": 31,
      "id": "add43481",
      "metadata": {
        "id": "add43481",
        "colab": {
          "base_uri": "https://localhost:8080/"
        },
        "outputId": "5e5468dc-33c4-4965-898f-18cec3026375"
      },
      "outputs": [
        {
          "output_type": "stream",
          "name": "stdout",
          "text": [
            "--- Колонка: Ви працюєте зараз в ІТ? ---\n",
            "Ви працюєте зараз в ІТ?\n",
            "Так, працюю full-time      12643\n",
            "Ні, тимчасово не працюю      380\n",
            "Так, працюю part-time        152\n",
            "Так, я фрилансер             115\n",
            "Інше                          25\n",
            "Name: count, dtype: int64\n",
            "\n",
            "\n",
            "--- Колонка: Де ви зараз живете?  ---\n",
            "Де ви зараз живете? \n",
            "В Україні                                                      11587\n",
            "За кордоном (переїхали через війну, але планую повернутися)     1728\n",
            "Name: count, dtype: int64\n",
            "\n",
            "\n",
            "--- Колонка: В якій області ви зараз живете? ---\n",
            "В якій області ви зараз живете?\n",
            "Київ чи область                4411\n",
            "Львів чи область               2353\n",
            "Дніпро чи область               751\n",
            "Івано-Франківськ чи область     478\n",
            "Вінниця чи область              447\n",
            "Одеса чи область                443\n",
            "Харків чи область               355\n",
            "Полтава чи область              252\n",
            "Черкаси чи область              232\n",
            "Хмельницький чи область         230\n",
            "Name: count, dtype: int64\n",
            "\n",
            "\n",
            "--- Колонка: Зарплата у $$$ за місяць, лише ставка після сплати податків ---\n",
            "Зарплата у $$$ за місяць, лише ставка після сплати податків\n",
            "3000    561\n",
            "2000    468\n",
            "5000    454\n",
            "4000    450\n",
            "1000    427\n",
            "2500    401\n",
            "1500    396\n",
            "3500    378\n",
            "4500    292\n",
            "6000    281\n",
            "Name: count, dtype: int64\n",
            "\n",
            "\n",
            "--- Колонка: Ваша стать ---\n",
            "Ваша стать\n",
            "Чоловік    10221\n",
            "Жінка       3094\n",
            "Name: count, dtype: int64\n",
            "\n",
            "\n",
            "--- Колонка: Ваш вік ---\n",
            "Ваш вік\n",
            "25    929\n",
            "27    879\n",
            "28    847\n",
            "26    835\n",
            "30    820\n",
            "29    790\n",
            "24    739\n",
            "32    690\n",
            "31    686\n",
            "23    671\n",
            "Name: count, dtype: int64\n",
            "\n",
            "\n",
            "--- Колонка: Яка у вас освіта? ---\n",
            "Яка у вас освіта?\n",
            "Вища (бакалавр, спеціаліст, магістр)    10645\n",
            "Дві вищі                                 1002\n",
            "Ще студент вишу                           811\n",
            "Середня                                   447\n",
            "Середня спеціальна                        410\n",
            "Name: count, dtype: int64\n",
            "\n",
            "\n",
            "--- Колонка: Чи є у вас науковий ступінь?  ---\n",
            "Чи є у вас науковий ступінь? \n",
            "Немає                  12980\n",
            "Кандидат наук / PhD      216\n",
            "Доктор наук                8\n",
            "Name: count, dtype: int64\n",
            "\n",
            "\n",
            "--- Колонка: Знання англійської мови ---\n",
            "Знання англійської мови\n",
            "Upper-Intermediate    5538\n",
            "Intermediate          4475\n",
            "Advanced              1622\n",
            "Pre-Intermediate      1401\n",
            "Elementary             279\n",
            "Name: count, dtype: int64\n",
            "\n",
            "\n",
            "--- Колонка: Оберіть вашу посаду ---\n",
            "Оберіть вашу посаду\n",
            "Software Engineer (Junior, Middle, Senior, Team/Tech Lead, Architect)             6773\n",
            "QA Engineer (Junior, Middle, Senior, Team/Tech Lead, Manager)                     2364\n",
            "Project/Product/Program Manager, Product Owner, Scrum Master, Delivery Manager     821\n",
            "HR/Recruiter                                                                       560\n",
            "Designer / Artist (Graphic, UX/UI, Game, Artist, Sound etc.)                       486\n",
            "Analyst (Business, Data, System)                                                   485\n",
            "DevOps, SRE                                                                        353\n",
            "Marketing, SEO, Copywriter                                                         305\n",
            "Data Science, Machine Learning, Big Data                                           288\n",
            "Game Developer / Programmer                                                        160\n",
            "Name: count, dtype: int64\n",
            "\n",
            "\n",
            "--- Колонка: Ваш тайтл ---\n",
            "Ваш тайтл\n",
            "Middle            4710\n",
            "Senior            3400\n",
            "Junior            2316\n",
            "Team Lead          883\n",
            "Немає тайтлу       571\n",
            "Tech Lead          430\n",
            "Manager            375\n",
            "Head               250\n",
            "Intern/Trainee     240\n",
            "Architect          140\n",
            "Name: count, dtype: int64\n",
            "\n",
            "\n",
            "--- Колонка: Ваша спеціалізація ---\n",
            "Ваша спеціалізація\n",
            "Programmer                       89\n",
            "Gameplay Programmer              42\n",
            "Engine Programmer                 8\n",
            ".NET Programmer                   6\n",
            "Ul Programmer                     4\n",
            "Rendering/Graphics Programmer     4\n",
            "Al Programmer                     3\n",
            "Інше                              3\n",
            "Name: count, dtype: int64\n",
            "\n",
            "\n",
            "--- Колонка: Вкажіть вашу спеціалізацію ---\n",
            "Вкажіть вашу спеціалізацію\n",
            "Manual QA         1467\n",
            "Automation QA      531\n",
            "General QA         354\n",
            "Performance QA      12\n",
            "Name: count, dtype: int64\n",
            "\n",
            "\n",
            "--- Колонка: Оберіть вашу спеціалізацію ---\n",
            "Оберіть вашу спеціалізацію\n",
            "UI/UX Designer              201\n",
            "Product Designer             60\n",
            "3D Artist                    40\n",
            "2D Artist                    35\n",
            "Graphic / Video Designer     33\n",
            "Game Designer                20\n",
            "Designer                     15\n",
            "Animator                     14\n",
            "Other                        12\n",
            "Web Designer                 11\n",
            "Name: count, dtype: int64\n",
            "\n",
            "\n",
            "--- Колонка: Ваша посада ---\n",
            "Ваша посада\n",
            "Other                            44\n",
            "Marketing Manager                44\n",
            "SEO Specialist                   34\n",
            "Digital Marketing Manager        33\n",
            "Copywriter                       27\n",
            "Chief Marketing Officer (CMO)    22\n",
            "Employer Brand Manager           20\n",
            "SMM Manager                      20\n",
            "PR Manager                       16\n",
            "Product Marketing Manager        11\n",
            "Name: count, dtype: int64\n",
            "\n",
            "\n",
            "--- Колонка: Оберіть вашу посаду2 ---\n",
            "Оберіть вашу посаду2\n",
            "Recruiter                             201\n",
            "HR Manager                            131\n",
            "Talent Acquisition Manager             52\n",
            "Talent Researcher/Sourcer              51\n",
            "HR Director                            45\n",
            "HR Business Partner                    40\n",
            "People partner / Happiness manager     40\n",
            "Name: count, dtype: int64\n",
            "\n",
            "\n",
            "--- Колонка: Ваша посада3 ---\n",
            "Ваша посада3\n",
            "Project Manager     443\n",
            "Product Manager     135\n",
            "Delivery Manager     88\n",
            "Product Owner        67\n",
            "Scrum Master         42\n",
            "Program Manager      29\n",
            "Business Manager     17\n",
            "Name: count, dtype: int64\n",
            "\n",
            "\n",
            "--- Колонка: Ваша посада4 ---\n",
            "Ваша посада4\n",
            "Business Analyst    289\n",
            "Data Analyst        106\n",
            "Product Analyst      34\n",
            "System Analyst       32\n",
            "BI Analyst           24\n",
            "Name: count, dtype: int64\n",
            "\n",
            "\n",
            "--- Колонка: Ваша посада5 ---\n",
            "Ваша посада5\n",
            "Data Engineer / Big Data Engineer    104\n",
            "Data Scientist                        93\n",
            "Machine Learning Engineer             46\n",
            "Computer Vision Engineer              21\n",
            "Research Engineer                     15\n",
            "BI Engineer                            9\n",
            "Name: count, dtype: int64\n",
            "\n",
            "\n",
            "--- Колонка: Ваша посада6 ---\n",
            "Ваша посада6\n",
            "DevOps Engineer              325\n",
            "Site Reliability Engineer     28\n",
            "Name: count, dtype: int64\n",
            "\n",
            "\n",
            "--- Колонка: Ваша посада7 ---\n",
            "Ваша посада7\n",
            "CTO                        41\n",
            "Director of Engineering    33\n",
            "CEO, (co-) founder         28\n",
            "Program Director           14\n",
            "Name: count, dtype: int64\n",
            "\n",
            "\n",
            "--- Колонка: Чи використовуєте ви у своїй роботі мови програмування (одну чи декілька)? ---\n",
            "Чи використовуєте ви у своїй роботі мови програмування (одну чи декілька)?\n",
            "Ні, не використовую    2754\n",
            "Так, використовую      2120\n",
            "Name: count, dtype: int64\n",
            "\n",
            "\n",
            "--- Колонка: Основна мова програмування ---\n",
            "Основна мова програмування\n",
            "JavaScript    1695\n",
            "Java          1241\n",
            "Python        1190\n",
            "C# / .NET     1179\n",
            "TypeScript    1179\n",
            "PHP            627\n",
            "Kotlin         286\n",
            "C++            251\n",
            "Swift          221\n",
            "SQL            201\n",
            "Name: count, dtype: int64\n",
            "\n",
            "\n",
            "--- Колонка: Вкажіть вашу основну спеціалізацію ---\n",
            "Вкажіть вашу основну спеціалізацію\n",
            "Back-end  розробка               2847\n",
            "Full Stack розробка              1628\n",
            "Front-end  розробка              1628\n",
            "QA                               1079\n",
            "Mobile  розробка                  665\n",
            "Робота з даними, аналіз даних     558\n",
            "DevOps                            308\n",
            "Інше                              293\n",
            "Embedded                           49\n",
            "embedded                            2\n",
            "Name: count, dtype: int64\n",
            "\n",
            "\n",
            "--- Колонка: В якій сфері працюєте? ---\n",
            "В якій сфері працюєте?\n",
            "Інша                    1445\n",
            "E-commerce              1243\n",
            "Fintech / Banking        942\n",
            "Medtech / Healthcare     547\n",
            "GameDev                  449\n",
            "Gambling                 352\n",
            "Edtech / Education       250\n",
            "Telecom                  232\n",
            "Mobile                   200\n",
            "Adtech / Advertising     193\n",
            "Name: count, dtype: int64\n",
            "\n",
            "\n",
            "--- Колонка: Тип компанії ---\n",
            "Тип компанії\n",
            "Аутсорсингова    5593\n",
            "Продуктова       4940\n",
            "Аутстафінгова    1767\n",
            "Стартап           539\n",
            "Інша              355\n",
            "Фріланс           121\n",
            "Name: count, dtype: int64\n",
            "\n",
            "\n",
            "--- Колонка: Загальний стаж роботи за спеціальністю ---\n",
            "Загальний стаж роботи за спеціальністю\n",
            "3 роки               1608\n",
            "4 роки               1447\n",
            "2 роки               1427\n",
            "5 років              1351\n",
            "1,5 року             1056\n",
            "6 років               982\n",
            "1 рік                 922\n",
            "7 років               791\n",
            "10 років              599\n",
            "15 і більше років     586\n",
            "Name: count, dtype: int64\n",
            "\n",
            "\n"
          ]
        }
      ],
      "source": [
        "# вибираю лише колонки типу object\n",
        "object_cols = df.select_dtypes(include='object').columns\n",
        "\n",
        "# проходжу по кожній колонці\n",
        "for col in object_cols:\n",
        "    print(f\"--- Колонка: {col} ---\")\n",
        "    # виводжу топ-10 найбільш частих значень з кількістю рядків\n",
        "    print(df[col].value_counts().head(10))\n",
        "    print(\"\\n\")\n"
      ]
    },
    {
      "cell_type": "markdown",
      "source": [
        "Справило враження: велика концентрація молодих спеціалістів у великих містах, велика розбіжність у зарплатах, навіть серед тих же посад, дуже різноманітні назви посад, що ускладнює аналіз, навіть якщо посади однакові по функціоналу.\n",
        "Переважна більшість працює full-time (12643 респондентів), поєднання частково-фриланс/part-time значно менше. Тобто, більшість ІТ-фахівців в Україні працюють стабільно повний робочий день.\n",
        "Більшість в Україні, незважаючи на війну (11587), близько 1700 за кордоном. По областях найбільше ІТ-спеціалістів у Києві та Львові.\n",
        "Найпоширеніші зарплати: 3000$ (561 респондент), 2000$ (468).\n",
        "Є високі зарплати 5000-6000$, але їх менше, що свідчить про широку розбіжність у доходах.\n",
        "Чоловіки домінують: 10221 проти 3094 жінок. Вік в районі 25–30 років, тобто основна маса - молоді спеціалісти."
      ],
      "metadata": {
        "id": "QISFMVeSFau8"
      },
      "id": "QISFMVeSFau8"
    },
    {
      "cell_type": "markdown",
      "id": "35cf7d10",
      "metadata": {
        "id": "35cf7d10"
      },
      "source": [
        "10. Виведіть медіанну (медіана - це значення, менше якого є рівно 50% вибірки і більше якого є теж рівно 50% вибірки)\n",
        "ЗП (Зарплата у $$$) для кожного рівня знання англійської. Які висновки можна зробити?"
      ]
    },
    {
      "cell_type": "code",
      "execution_count": 33,
      "id": "62e17c84",
      "metadata": {
        "id": "62e17c84",
        "colab": {
          "base_uri": "https://localhost:8080/"
        },
        "outputId": "68668e84-57fd-4976-befe-275ae2e10c30"
      },
      "outputs": [
        {
          "output_type": "stream",
          "name": "stdout",
          "text": [
            "Знання англійської мови\n",
            "Advanced              3500.0\n",
            "Elementary            1155.0\n",
            "Intermediate          2125.0\n",
            "Pre-Intermediate      1408.0\n",
            "Upper-Intermediate    3300.0\n",
            "Name: Зарплата у $$$ за місяць, лише ставка після сплати податків, dtype: float64\n"
          ]
        }
      ],
      "source": [
        "# Перетворюю колонку в числовий тип для початку\n",
        "df['Зарплата у $$$ за місяць, лише ставка після сплати податків'] = pd.to_numeric(\n",
        "    df['Зарплата у $$$ за місяць, лише ставка після сплати податків'], errors='coerce'\n",
        ")\n",
        "\n",
        "# Тепер обчислюю медіану по групах знання англійської\n",
        "median_salary_by_english = df.groupby('Знання англійської мови')['Зарплата у $$$ за місяць, лише ставка після сплати податків'].median()\n",
        "\n",
        "print(median_salary_by_english)\n"
      ]
    },
    {
      "cell_type": "markdown",
      "source": [
        "Залежність від рівня англійської очевидна - профі з Advanced та Upper-Intermediate мають найвищу медіанну зарплату (3500–3300 $)\n",
        "\n",
        "Високий рівень англійської явно корелює із зарплатою, що логічно для ІТ-галузі, де багато вакансій потребують спілкування з міжнародними командами або клієнтами.\n",
        "\n",
        "Очевидно, що якщо плануєш кар’єру в ІТ та прагнеш вищої зарплати, поліпшення англійської бути мати прямий фінансовий ефект."
      ],
      "metadata": {
        "id": "JJOs-MdyGfYn"
      },
      "id": "JJOs-MdyGfYn"
    },
    {
      "cell_type": "markdown",
      "id": "0992c456",
      "metadata": {
        "ExecuteTime": {
          "end_time": "2023-07-06T11:56:25.250162Z",
          "start_time": "2023-07-06T11:56:25.244477Z"
        },
        "id": "0992c456"
      },
      "source": [
        "11. Є така штука як сортування значень категоріальної змінної. Нам це зараз стане в нагоді, адже рівні англійської можна посортувати.\n",
        "Давайте відсотруємо рівні англ. і тайтли. Просто запустіть код нижче і проаналізуйте, що він робить."
      ]
    },
    {
      "cell_type": "code",
      "execution_count": 34,
      "id": "3af67c68",
      "metadata": {
        "id": "3af67c68"
      },
      "outputs": [],
      "source": [
        "df['Знання англійської мови'] = pd.Categorical(df['Знання англійської мови'],\n",
        "                      categories=['Elementary','Pre-Intermediate','Intermediate','Upper-Intermediate','Advanced'],\n",
        "                      ordered=True)\n",
        "\n",
        "df['Ваш тайтл'] = pd.Categorical(df['Ваш тайтл'],\n",
        "                      categories=['Intern/Trainee', 'Junior', 'Немає тайтлу', 'Middle', 'Senior', 'Tech Lead', 'Team Lead', 'Architect', 'Head', 'Manager'],\n",
        "                      ordered=True)"
      ]
    },
    {
      "cell_type": "markdown",
      "source": [
        "Колонка Знання англійської мови перетворюється на категоріальну змінну з певним порядком, заданим у categories. Тепер рівні англійської мають чіткий логічний порядок: Elementary < Pre-Intermediate < Intermediate < Upper-Intermediate < Advanced"
      ],
      "metadata": {
        "id": "Y4q081oEHoRW"
      },
      "id": "Y4q081oEHoRW"
    },
    {
      "cell_type": "markdown",
      "id": "d055e149",
      "metadata": {
        "ExecuteTime": {
          "end_time": "2023-07-06T11:52:57.539571Z",
          "start_time": "2023-07-06T11:52:57.535277Z"
        },
        "id": "d055e149"
      },
      "source": [
        "12. Зробіть зводну таблицю, де стовпці - це 'Ваш тайтл', рядки - 'Знання англійської мови', а значення - медіанна ЗП. Які висновки можна зробити?\n",
        "Тут ще для зручності можна зробити градієнтне забарвлення і відформатувати значення для легшого перегляду."
      ]
    },
    {
      "cell_type": "code",
      "execution_count": 35,
      "id": "07f4702e",
      "metadata": {
        "id": "07f4702e",
        "colab": {
          "base_uri": "https://localhost:8080/",
          "height": 293
        },
        "outputId": "806d1ee0-8137-4023-a5b4-ec34994c64b1"
      },
      "outputs": [
        {
          "output_type": "stream",
          "name": "stderr",
          "text": [
            "/tmp/ipython-input-3035242464.py:4: FutureWarning: The default value of observed=False is deprecated and will change to observed=True in a future version of pandas. Specify observed=False to silence this warning and retain the current behavior\n",
            "  pivot_salary = pd.pivot_table(\n"
          ]
        },
        {
          "output_type": "execute_result",
          "data": {
            "text/plain": [
              "<pandas.io.formats.style.Styler at 0x7be6bf788c80>"
            ],
            "text/html": [
              "<style type=\"text/css\">\n",
              "#T_69e68_row0_col0, #T_69e68_row3_col1, #T_69e68_row3_col3, #T_69e68_row3_col4, #T_69e68_row4_col0, #T_69e68_row4_col1, #T_69e68_row4_col2, #T_69e68_row4_col3, #T_69e68_row4_col4, #T_69e68_row4_col5, #T_69e68_row4_col6, #T_69e68_row4_col7, #T_69e68_row4_col8, #T_69e68_row4_col9 {\n",
              "  background-color: #081d58;\n",
              "  color: #f1f1f1;\n",
              "}\n",
              "#T_69e68_row0_col1, #T_69e68_row0_col2, #T_69e68_row0_col3, #T_69e68_row0_col4, #T_69e68_row0_col6, #T_69e68_row0_col8, #T_69e68_row0_col9, #T_69e68_row1_col0, #T_69e68_row1_col5, #T_69e68_row1_col7, #T_69e68_row2_col0 {\n",
              "  background-color: #ffffd9;\n",
              "  color: #000000;\n",
              "}\n",
              "#T_69e68_row0_col5, #T_69e68_row1_col1, #T_69e68_row2_col5 {\n",
              "  background-color: #40b5c4;\n",
              "  color: #f1f1f1;\n",
              "}\n",
              "#T_69e68_row0_col7 {\n",
              "  background-color: #000000;\n",
              "  color: #f1f1f1;\n",
              "}\n",
              "#T_69e68_row1_col2 {\n",
              "  background-color: #c6e9b4;\n",
              "  color: #000000;\n",
              "}\n",
              "#T_69e68_row1_col3 {\n",
              "  background-color: #9cd8b8;\n",
              "  color: #000000;\n",
              "}\n",
              "#T_69e68_row1_col4 {\n",
              "  background-color: #5dc0c0;\n",
              "  color: #000000;\n",
              "}\n",
              "#T_69e68_row1_col6 {\n",
              "  background-color: #c2e7b4;\n",
              "  color: #000000;\n",
              "}\n",
              "#T_69e68_row1_col8 {\n",
              "  background-color: #c4e8b4;\n",
              "  color: #000000;\n",
              "}\n",
              "#T_69e68_row1_col9 {\n",
              "  background-color: #fafdce;\n",
              "  color: #000000;\n",
              "}\n",
              "#T_69e68_row2_col1 {\n",
              "  background-color: #225da8;\n",
              "  color: #f1f1f1;\n",
              "}\n",
              "#T_69e68_row2_col2 {\n",
              "  background-color: #46b8c3;\n",
              "  color: #f1f1f1;\n",
              "}\n",
              "#T_69e68_row2_col3 {\n",
              "  background-color: #2072b1;\n",
              "  color: #f1f1f1;\n",
              "}\n",
              "#T_69e68_row2_col4, #T_69e68_row3_col8 {\n",
              "  background-color: #216daf;\n",
              "  color: #f1f1f1;\n",
              "}\n",
              "#T_69e68_row2_col6 {\n",
              "  background-color: #289cc1;\n",
              "  color: #f1f1f1;\n",
              "}\n",
              "#T_69e68_row2_col7 {\n",
              "  background-color: #1d91c0;\n",
              "  color: #f1f1f1;\n",
              "}\n",
              "#T_69e68_row2_col8 {\n",
              "  background-color: #2ca1c2;\n",
              "  color: #f1f1f1;\n",
              "}\n",
              "#T_69e68_row2_col9 {\n",
              "  background-color: #92d5b9;\n",
              "  color: #000000;\n",
              "}\n",
              "#T_69e68_row3_col0 {\n",
              "  background-color: #243c98;\n",
              "  color: #f1f1f1;\n",
              "}\n",
              "#T_69e68_row3_col2 {\n",
              "  background-color: #2076b3;\n",
              "  color: #f1f1f1;\n",
              "}\n",
              "#T_69e68_row3_col5 {\n",
              "  background-color: #24449c;\n",
              "  color: #f1f1f1;\n",
              "}\n",
              "#T_69e68_row3_col6 {\n",
              "  background-color: #233390;\n",
              "  color: #f1f1f1;\n",
              "}\n",
              "#T_69e68_row3_col7 {\n",
              "  background-color: #253b97;\n",
              "  color: #f1f1f1;\n",
              "}\n",
              "#T_69e68_row3_col9 {\n",
              "  background-color: #253896;\n",
              "  color: #f1f1f1;\n",
              "}\n",
              "</style>\n",
              "<table id=\"T_69e68\" class=\"dataframe\">\n",
              "  <thead>\n",
              "    <tr>\n",
              "      <th class=\"index_name level0\" >Ваш тайтл</th>\n",
              "      <th id=\"T_69e68_level0_col0\" class=\"col_heading level0 col0\" >Intern/Trainee</th>\n",
              "      <th id=\"T_69e68_level0_col1\" class=\"col_heading level0 col1\" >Junior</th>\n",
              "      <th id=\"T_69e68_level0_col2\" class=\"col_heading level0 col2\" >Немає тайтлу</th>\n",
              "      <th id=\"T_69e68_level0_col3\" class=\"col_heading level0 col3\" >Middle</th>\n",
              "      <th id=\"T_69e68_level0_col4\" class=\"col_heading level0 col4\" >Senior</th>\n",
              "      <th id=\"T_69e68_level0_col5\" class=\"col_heading level0 col5\" >Tech Lead</th>\n",
              "      <th id=\"T_69e68_level0_col6\" class=\"col_heading level0 col6\" >Team Lead</th>\n",
              "      <th id=\"T_69e68_level0_col7\" class=\"col_heading level0 col7\" >Architect</th>\n",
              "      <th id=\"T_69e68_level0_col8\" class=\"col_heading level0 col8\" >Head</th>\n",
              "      <th id=\"T_69e68_level0_col9\" class=\"col_heading level0 col9\" >Manager</th>\n",
              "    </tr>\n",
              "    <tr>\n",
              "      <th class=\"index_name level0\" >Знання англійської мови</th>\n",
              "      <th class=\"blank col0\" >&nbsp;</th>\n",
              "      <th class=\"blank col1\" >&nbsp;</th>\n",
              "      <th class=\"blank col2\" >&nbsp;</th>\n",
              "      <th class=\"blank col3\" >&nbsp;</th>\n",
              "      <th class=\"blank col4\" >&nbsp;</th>\n",
              "      <th class=\"blank col5\" >&nbsp;</th>\n",
              "      <th class=\"blank col6\" >&nbsp;</th>\n",
              "      <th class=\"blank col7\" >&nbsp;</th>\n",
              "      <th class=\"blank col8\" >&nbsp;</th>\n",
              "      <th class=\"blank col9\" >&nbsp;</th>\n",
              "    </tr>\n",
              "  </thead>\n",
              "  <tbody>\n",
              "    <tr>\n",
              "      <th id=\"T_69e68_level0_row0\" class=\"row_heading level0 row0\" >Elementary</th>\n",
              "      <td id=\"T_69e68_row0_col0\" class=\"data row0 col0\" >500</td>\n",
              "      <td id=\"T_69e68_row0_col1\" class=\"data row0 col1\" >600</td>\n",
              "      <td id=\"T_69e68_row0_col2\" class=\"data row0 col2\" >550</td>\n",
              "      <td id=\"T_69e68_row0_col3\" class=\"data row0 col3\" >1,500</td>\n",
              "      <td id=\"T_69e68_row0_col4\" class=\"data row0 col4\" >2,500</td>\n",
              "      <td id=\"T_69e68_row0_col5\" class=\"data row0 col5\" >5,000</td>\n",
              "      <td id=\"T_69e68_row0_col6\" class=\"data row0 col6\" >2,100</td>\n",
              "      <td id=\"T_69e68_row0_col7\" class=\"data row0 col7\" >nan</td>\n",
              "      <td id=\"T_69e68_row0_col8\" class=\"data row0 col8\" >1,500</td>\n",
              "      <td id=\"T_69e68_row0_col9\" class=\"data row0 col9\" >1,120</td>\n",
              "    </tr>\n",
              "    <tr>\n",
              "      <th id=\"T_69e68_level0_row1\" class=\"row_heading level0 row1\" >Pre-Intermediate</th>\n",
              "      <td id=\"T_69e68_row1_col0\" class=\"data row1 col0\" >400</td>\n",
              "      <td id=\"T_69e68_row1_col1\" class=\"data row1 col1\" >800</td>\n",
              "      <td id=\"T_69e68_row1_col2\" class=\"data row1 col2\" >934</td>\n",
              "      <td id=\"T_69e68_row1_col3\" class=\"data row1 col3\" >1,825</td>\n",
              "      <td id=\"T_69e68_row1_col4\" class=\"data row1 col4\" >3,500</td>\n",
              "      <td id=\"T_69e68_row1_col5\" class=\"data row1 col5\" >4,000</td>\n",
              "      <td id=\"T_69e68_row1_col6\" class=\"data row1 col6\" >2,850</td>\n",
              "      <td id=\"T_69e68_row1_col7\" class=\"data row1 col7\" >2,900</td>\n",
              "      <td id=\"T_69e68_row1_col8\" class=\"data row1 col8\" >2,400</td>\n",
              "      <td id=\"T_69e68_row1_col9\" class=\"data row1 col9\" >1,225</td>\n",
              "    </tr>\n",
              "    <tr>\n",
              "      <th id=\"T_69e68_level0_row2\" class=\"row_heading level0 row2\" >Intermediate</th>\n",
              "      <td id=\"T_69e68_row2_col0\" class=\"data row2 col0\" >400</td>\n",
              "      <td id=\"T_69e68_row2_col1\" class=\"data row2 col1\" >900</td>\n",
              "      <td id=\"T_69e68_row2_col2\" class=\"data row2 col2\" >1,300</td>\n",
              "      <td id=\"T_69e68_row2_col3\" class=\"data row2 col3\" >2,200</td>\n",
              "      <td id=\"T_69e68_row2_col4\" class=\"data row2 col4\" >4,100</td>\n",
              "      <td id=\"T_69e68_row2_col5\" class=\"data row2 col5\" >5,000</td>\n",
              "      <td id=\"T_69e68_row2_col6\" class=\"data row2 col6\" >3,800</td>\n",
              "      <td id=\"T_69e68_row2_col7\" class=\"data row2 col7\" >5,450</td>\n",
              "      <td id=\"T_69e68_row2_col8\" class=\"data row2 col8\" >3,500</td>\n",
              "      <td id=\"T_69e68_row2_col9\" class=\"data row2 col9\" >2,100</td>\n",
              "    </tr>\n",
              "    <tr>\n",
              "      <th id=\"T_69e68_level0_row3\" class=\"row_heading level0 row3\" >Upper-Intermediate</th>\n",
              "      <td id=\"T_69e68_row3_col0\" class=\"data row3 col0\" >485</td>\n",
              "      <td id=\"T_69e68_row3_col1\" class=\"data row3 col1\" >1,000</td>\n",
              "      <td id=\"T_69e68_row3_col2\" class=\"data row3 col2\" >1,600</td>\n",
              "      <td id=\"T_69e68_row3_col3\" class=\"data row3 col3\" >2,500</td>\n",
              "      <td id=\"T_69e68_row3_col4\" class=\"data row3 col4\" >4,750</td>\n",
              "      <td id=\"T_69e68_row3_col5\" class=\"data row3 col5\" >5,650</td>\n",
              "      <td id=\"T_69e68_row3_col6\" class=\"data row3 col6\" >4,655</td>\n",
              "      <td id=\"T_69e68_row3_col7\" class=\"data row3 col7\" >6,400</td>\n",
              "      <td id=\"T_69e68_row3_col8\" class=\"data row3 col8\" >4,000</td>\n",
              "      <td id=\"T_69e68_row3_col9\" class=\"data row3 col9\" >3,600</td>\n",
              "    </tr>\n",
              "    <tr>\n",
              "      <th id=\"T_69e68_level0_row4\" class=\"row_heading level0 row4\" >Advanced</th>\n",
              "      <td id=\"T_69e68_row4_col0\" class=\"data row4 col0\" >500</td>\n",
              "      <td id=\"T_69e68_row4_col1\" class=\"data row4 col1\" >1,000</td>\n",
              "      <td id=\"T_69e68_row4_col2\" class=\"data row4 col2\" >2,075</td>\n",
              "      <td id=\"T_69e68_row4_col3\" class=\"data row4 col3\" >2,500</td>\n",
              "      <td id=\"T_69e68_row4_col4\" class=\"data row4 col4\" >4,750</td>\n",
              "      <td id=\"T_69e68_row4_col5\" class=\"data row4 col5\" >6,000</td>\n",
              "      <td id=\"T_69e68_row4_col6\" class=\"data row4 col6\" >5,000</td>\n",
              "      <td id=\"T_69e68_row4_col7\" class=\"data row4 col7\" >7,000</td>\n",
              "      <td id=\"T_69e68_row4_col8\" class=\"data row4 col8\" >5,000</td>\n",
              "      <td id=\"T_69e68_row4_col9\" class=\"data row4 col9\" >4,000</td>\n",
              "    </tr>\n",
              "  </tbody>\n",
              "</table>\n"
            ]
          },
          "metadata": {},
          "execution_count": 35
        }
      ],
      "source": [
        "import pandas as pd\n",
        "\n",
        "# Створюю зведену таблицю\n",
        "pivot_salary = pd.pivot_table(\n",
        "    df,\n",
        "    index='Знання англійської мови',\n",
        "    columns='Ваш тайтл',\n",
        "    values='Зарплата у $$$ за місяць, лише ставка після сплати податків',\n",
        "    aggfunc='median'\n",
        ")\n",
        "\n",
        "# Даю візуалізацію з градієнтом\n",
        "pivot_salary.style.background_gradient(cmap='YlGnBu').format(\"{:,.0f}\")\n"
      ]
    },
    {
      "cell_type": "markdown",
      "source": [
        "Чим вищий рівень англійської, тим більша медіанна зарплата для більшості тайтлів. Middle чи Senior з Advanced англійською  отримують значно більше, ніж ті ж тайтли з Intermediate."
      ],
      "metadata": {
        "id": "fYwQBbwUIABc"
      },
      "id": "fYwQBbwUIABc"
    },
    {
      "cell_type": "markdown",
      "id": "edbb7046",
      "metadata": {
        "id": "edbb7046"
      },
      "source": [
        "13. Виведіть результат методу describe() по колонцы розміру ЗП для топ 5 за частотою зустрічання в даних областей (В якій області ви зараз живете?). Зробіть висновки, де вигідніше жити з точки зору ЗП і чи суттєва різниця на Ваш погляд для прийняття рішення про переїзд?"
      ]
    },
    {
      "cell_type": "code",
      "execution_count": 36,
      "id": "96f7d7d9",
      "metadata": {
        "id": "96f7d7d9",
        "colab": {
          "base_uri": "https://localhost:8080/"
        },
        "outputId": "78c8ef07-52df-45ab-b461-05cb233970b6"
      },
      "outputs": [
        {
          "output_type": "stream",
          "name": "stdout",
          "text": [
            "Топ-5 областей за частотою респондентів: ['Київ чи область', 'Львів чи область', 'Дніпро чи область', 'Івано-Франківськ чи область', 'Вінниця чи область']\n",
            "\n",
            "--- Область: Київ чи область ---\n",
            "count     4409.000000\n",
            "mean      3142.334997\n",
            "std       2039.949490\n",
            "min         80.000000\n",
            "25%       1500.000000\n",
            "50%       2800.000000\n",
            "75%       4500.000000\n",
            "max      16000.000000\n",
            "Name: Зарплата у $$$ за місяць, лише ставка після сплати податків, dtype: float64\n",
            "\n",
            "--- Область: Львів чи область ---\n",
            "count     2351.000000\n",
            "mean      3122.163760\n",
            "std       2103.362239\n",
            "min        150.000000\n",
            "25%       1375.000000\n",
            "50%       2700.000000\n",
            "75%       4500.000000\n",
            "max      14000.000000\n",
            "Name: Зарплата у $$$ за місяць, лише ставка після сплати податків, dtype: float64\n",
            "\n",
            "--- Область: Дніпро чи область ---\n",
            "count      751.000000\n",
            "mean      2582.584554\n",
            "std       1864.711284\n",
            "min        100.000000\n",
            "25%       1025.000000\n",
            "50%       2000.000000\n",
            "75%       3600.000000\n",
            "max      12000.000000\n",
            "Name: Зарплата у $$$ за місяць, лише ставка після сплати податків, dtype: float64\n",
            "\n",
            "--- Область: Івано-Франківськ чи область ---\n",
            "count      478.000000\n",
            "mean      2705.257322\n",
            "std       1905.673385\n",
            "min        200.000000\n",
            "25%       1200.000000\n",
            "50%       2372.500000\n",
            "75%       3775.000000\n",
            "max      12436.000000\n",
            "Name: Зарплата у $$$ за місяць, лише ставка після сплати податків, dtype: float64\n",
            "\n",
            "--- Область: Вінниця чи область ---\n",
            "count      446.000000\n",
            "mean      2878.973094\n",
            "std       1894.533883\n",
            "min        100.000000\n",
            "25%       1300.000000\n",
            "50%       2606.000000\n",
            "75%       4087.500000\n",
            "max      11675.000000\n",
            "Name: Зарплата у $$$ за місяць, лише ставка після сплати податків, dtype: float64\n"
          ]
        }
      ],
      "source": [
        "\n",
        "# Виводжу Топ-5 областей за частотою\n",
        "top5_regions = df['В якій області ви зараз живете?'].value_counts().head(5).index.tolist()\n",
        "print(\"Топ-5 областей за частотою респондентів:\", top5_regions)\n",
        "\n",
        "# describe по ЗП для кожної з топ-5 областей\n",
        "for region in top5_regions:\n",
        "    print(f\"\\n--- Область: {region} ---\")\n",
        "    print(df.loc[df['В якій області ви зараз живете?'] == region,\n",
        "                 'Зарплата у $$$ за місяць, лише ставка після сплати податків'].describe())\n"
      ]
    },
    {
      "cell_type": "markdown",
      "source": [
        "Якщо головний критерій - зарплата, то Київ та Львів - топові вибори.\n",
        "Якщо враховувати баланс ЗП та витрат на життя, варто детальніше порівнювати регіони, можливо Вінниця або Івано-Франківськ будуть більш комфортними при помірних зарплатах."
      ],
      "metadata": {
        "id": "TnCSDL8jIcBk"
      },
      "id": "TnCSDL8jIcBk"
    },
    {
      "cell_type": "markdown",
      "id": "3bc4a018",
      "metadata": {
        "id": "3bc4a018"
      },
      "source": [
        "14. Як зростає зарплата з роками? Для цього нам треба відформатувати колонку \"Загальний стаж роботи за спеціальністю\" аналогічно до того, як ми це робили для колонки 'Знання англійської мови' і потім вивести медіанні значення для кількості років стажу."
      ]
    },
    {
      "cell_type": "code",
      "execution_count": 38,
      "id": "20c1b2eb",
      "metadata": {
        "id": "20c1b2eb",
        "colab": {
          "base_uri": "https://localhost:8080/"
        },
        "outputId": "9b139e47-328f-471a-eabc-ee62a4a5618a"
      },
      "outputs": [
        {
          "output_type": "stream",
          "name": "stdout",
          "text": [
            "Загальний стаж роботи за спеціальністю\n",
            "1 рік                 950.0\n",
            "1,5 року             1200.0\n",
            "2 роки               1700.0\n",
            "3 роки               2450.0\n",
            "4 роки               3000.0\n",
            "5 років              3500.0\n",
            "6 років              4000.0\n",
            "7 років              4250.0\n",
            "10 років             4600.0\n",
            "15 і більше років    4500.0\n",
            "Name: Зарплата у $$$ за місяць, лише ставка після сплати податків, dtype: float64\n"
          ]
        },
        {
          "output_type": "stream",
          "name": "stderr",
          "text": [
            "/tmp/ipython-input-3343658299.py:30: FutureWarning: The default of observed=False is deprecated and will be changed to True in a future version of pandas. Pass observed=False to retain current behavior or observed=True to adopt the future default and silence this warning.\n",
            "  median_salary_by_experience = df.groupby('Загальний стаж роботи за спеціальністю')[\n"
          ]
        }
      ],
      "source": [
        "import pandas as pd\n",
        "\n",
        "# Створюю порядок для категоріальної змінної\n",
        "experience_order = [\n",
        "    \"1 рік\",\n",
        "    \"1,5 року\",\n",
        "    \"2 роки\",\n",
        "    \"3 роки\",\n",
        "    \"4 роки\",\n",
        "    \"5 років\",\n",
        "    \"6 років\",\n",
        "    \"7 років\",\n",
        "    \"10 років\",\n",
        "    \"15 і більше років\"\n",
        "]\n",
        "\n",
        "# Перетворюю колонку на категоріальний тип з порядком\n",
        "df['Загальний стаж роботи за спеціальністю'] = pd.Categorical(\n",
        "    df['Загальний стаж роботи за спеціальністю'],\n",
        "    categories=experience_order,\n",
        "    ordered=True\n",
        ")\n",
        "\n",
        "# Перетворюю зарплату на числовий формат\n",
        "df['Зарплата у $$$ за місяць, лише ставка після сплати податків'] = pd.to_numeric(\n",
        "    df['Зарплата у $$$ за місяць, лише ставка після сплати податків'], errors='coerce'\n",
        ")\n",
        "\n",
        "# Групую за стажем та обчислюємо медіану зарплати\n",
        "median_salary_by_experience = df.groupby('Загальний стаж роботи за спеціальністю')[\n",
        "    'Зарплата у $$$ за місяць, лише ставка після сплати податків'\n",
        "].median()\n",
        "\n",
        "print(median_salary_by_experience)\n",
        "\n"
      ]
    },
    {
      "cell_type": "markdown",
      "source": [
        "Основне зростання зарплати відбувається у перші 5–10 років.\n",
        "\n",
        "Для прийняття рішення про переїзд або зміну роботи враховувати стаж важливо: топові спеціалісти мають стабільно високі доходи, а новачки - суттєво нижчі. Цікаво, що для 15+ років медіанна зарплата трохи нижча, ніж у 10 років (4500 $), можливо через меншу вибірку або кар’єрні зміни (наприклад, перехід у менеджмент, фріланс тощо)."
      ],
      "metadata": {
        "id": "Clgk10YqJARY"
      },
      "id": "Clgk10YqJARY"
    },
    {
      "cell_type": "markdown",
      "id": "b14a10ee",
      "metadata": {
        "id": "b14a10ee"
      },
      "source": [
        "Далі тут можна зробити багато аналогічних агрегацій, проаналізувати, в який час люди заповнювали форму, хто більше отримує, Business Analyst, чи Data Analyst. Я вас заохочувати не стримувати свій інтерес і покапати ці дані далі :)"
      ]
    },
    {
      "cell_type": "markdown",
      "source": [
        "Вирішив вияснити хто більше заробляє Business Analyst, чи Data Analyst?"
      ],
      "metadata": {
        "id": "O63MFF3oJaxE"
      },
      "id": "O63MFF3oJaxE"
    },
    {
      "cell_type": "code",
      "source": [
        "# Фільтрую по посаді\n",
        "ba_salaries = df[df['Ваша посада4'] == 'Business Analyst']['Зарплата у $$$ за місяць, лише ставка після сплати податків']\n",
        "da_salaries = df[df['Ваша посада4'] == 'Data Analyst']['Зарплата у $$$ за місяць, лише ставка після сплати податків']\n",
        "\n",
        "# Обчислюю середнє та медіану\n",
        "comparison = pd.DataFrame({\n",
        "    'Середнє ЗП': [ba_salaries.mean(), da_salaries.mean()],\n",
        "    'Медіана ЗП': [ba_salaries.median(), da_salaries.median()]\n",
        "}, index=['Business Analyst', 'Data Analyst'])\n",
        "\n",
        "print(comparison)\n"
      ],
      "metadata": {
        "colab": {
          "base_uri": "https://localhost:8080/"
        },
        "id": "Qv9xMquHInb1",
        "outputId": "7f946be2-d819-4b81-8993-6124a3539f8b"
      },
      "id": "Qv9xMquHInb1",
      "execution_count": 39,
      "outputs": [
        {
          "output_type": "stream",
          "name": "stdout",
          "text": [
            "                   Середнє ЗП  Медіана ЗП\n",
            "Business Analyst  2510.325260      2250.0\n",
            "Data Analyst      1770.660377      1500.0\n"
          ]
        }
      ]
    },
    {
      "cell_type": "markdown",
      "source": [
        "Business Analyst в середньому отримує значно більше ніж Data Analyst. Але треба з чогось починати в ІТ"
      ],
      "metadata": {
        "id": "bfEAJ0XEJqfC"
      },
      "id": "bfEAJ0XEJqfC"
    },
    {
      "cell_type": "code",
      "source": [
        "import pandas as pd\n",
        "import seaborn as sns\n",
        "import matplotlib.pyplot as plt\n",
        "\n",
        "# Вибираю потрібні рядки з DataFrame\n",
        "analysts_df = df[df['Ваша посада4'].isin(['Business Analyst', 'Data Analyst'])]\n",
        "\n",
        "# Малюю графік розподілу зарплат\n",
        "plt.figure(figsize=(10,6))\n",
        "sns.boxplot(x='Ваша посада4', y='Зарплата у $$$ за місяць, лише ставка після сплати податків', data=analysts_df)\n",
        "sns.stripplot(x='Ваша посада4', y='Зарплата у $$$ за місяць, лише ставка після сплати податків', data=analysts_df,\n",
        "              color='orange', alpha=0.3, jitter=True)\n",
        "\n",
        "plt.title('Порівняння зарплат Business Analyst та Data Analyst')\n",
        "plt.ylabel('Зарплата, $')\n",
        "plt.xlabel('Посада')\n",
        "plt.show()\n"
      ],
      "metadata": {
        "colab": {
          "base_uri": "https://localhost:8080/",
          "height": 564
        },
        "id": "apiM2KW3J24S",
        "outputId": "37e575c2-98ed-4e65-d3d9-fe2272ca1e4c"
      },
      "id": "apiM2KW3J24S",
      "execution_count": 40,
      "outputs": [
        {
          "output_type": "display_data",
          "data": {
            "text/plain": [
              "<Figure size 1000x600 with 1 Axes>"
            ],
            "image/png": "[encoded data removed]"
          },
          "metadata": {}
        }
      ]
    },
    {
      "cell_type": "markdown",
      "source": [
        "Тішить, що є аналітики даних з зарплатами понад 4000$ - буду до цього рівня тягнутися!"
      ],
      "metadata": {
        "id": "rNpiT5M-KCIG"
      },
      "id": "rNpiT5M-KCIG"
    }
  ],
  "metadata": {
    "kernelspec": {
      "display_name": "Python 3 (ipykernel)",
      "language": "python",
      "name": "python3"
    },
    "language_info": {
      "codemirror_mode": {
        "name": "ipython",
        "version": 3
      },
      "file_extension": ".py",
      "mimetype": "text/x-python",
      "name": "python",
      "nbconvert_exporter": "python",
      "pygments_lexer": "ipython3",
      "version": "3.10.4"
    },
    "toc": {
      "base_numbering": 1,
      "nav_menu": {},
      "number_sections": true,
      "sideBar": true,
      "skip_h1_title": false,
      "title_cell": "Table of Contents",
      "title_sidebar": "Contents",
      "toc_cell": false,
      "toc_position": {},
      "toc_section_display": true,
      "toc_window_display": false
    },
    "colab": {
      "provenance": [],
      "include_colab_link": true
    }
  },
  "nbformat": 4,
  "nbformat_minor": 5
}