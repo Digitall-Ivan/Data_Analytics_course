{
  "cells": [
    {
      "cell_type": "markdown",
      "metadata": {
        "id": "view-in-github",
        "colab_type": "text"
      },
      "source": [
        "<a href=\"https://colab.research.google.com/github/Digitall-Ivan/Data_Analytics_course/blob/main/Ivan_Zakorchevnyi_HW_14_3_Tests_for_small_samples.ipynb\" target=\"_parent\"><img src=\"https://colab.research.google.com/assets/colab-badge.svg\" alt=\"Open In Colab\"/></a>"
      ]
    },
    {
      "cell_type": "markdown",
      "id": "e152f6d6",
      "metadata": {
        "ExecuteTime": {
          "end_time": "2022-12-10T14:29:24.703416Z",
          "start_time": "2022-12-10T14:29:24.688485Z"
        },
        "id": "e152f6d6"
      },
      "source": [
        "# Тести для малих вибірок та пропорцій\n",
        "\n"
      ]
    },
    {
      "cell_type": "markdown",
      "id": "abdcef5d",
      "metadata": {
        "id": "abdcef5d"
      },
      "source": [
        "**Завдання 1**. E-commerce компанія після редизайну сайту підозрює, що **середній час до покупки (time-to-purchase)** користувачів **збільшився**.\n",
        "Історично середній час від першого заходу на сайт до покупки становив $\\mu_0 = 123.7$ хвилин.\n",
        "\n",
        "Команда аналітиків випадково обрала дані **7 покупців після редизайну**:\n",
        "`128, 135, 121, 142, 126, 151, 123`\n",
        "\n",
        "З допомогою наявних даних зʼясуйте, чи збільшився середній час покупки після редизайну.\n",
        "\n",
        "Для цього виконайте наступні 6 кроків. Правильне виконання кожного з кроків оцінюється в 1 бал.\n",
        "\n",
        "1. Запишіть нульову та альтернативну гіпотези і визначте тип тесту.\n",
        "2. Обчисліть вибіркові статистики: $\\bar x$, $s$, $n$.\n",
        "3. Оберіть тип тесту та виконайте його (знайдіть критичне значення тесту, статистику тесту та р-значення) будь-яким пасуючим способом, щоб перевірити гіпотезу на рівні значущості $\\alpha = 0.10$.\n",
        "4. Прийміть рішення, чи відхиляєте ви гіпотезу $H_0$ використовуючи p-value.\n",
        "5. Напишіть висновок: чи справді редизайн сайту подовжив час до покупки?\n",
        "6. Чи зміниться ваше рішення при зміні рівня значущості на $\\alpha = 0.05$.\n"
      ]
    },
    {
      "cell_type": "code",
      "source": [
        "import numpy as np\n",
        "from scipy import stats\n",
        "\n",
        "# Дані вибірки (хвилини)\n",
        "x = np.array([128, 135, 121, 142, 126, 151, 123], dtype=float)\n",
        "\n",
        "mu0 = 123.7           # історичне середнє\n",
        "alpha1 = 0.10         # рівень значущості 1\n",
        "alpha2 = 0.05         # альтернативний рівень\n",
        "\n",
        "# Вибіркові статистики\n",
        "xbar = x.mean()\n",
        "s = x.std(ddof=1)\n",
        "n = x.size\n",
        "df = n - 1\n",
        "SE = s / np.sqrt(n)\n",
        "\n",
        "# t-статистика (правосторонній тест, Ha: μ > μ0)\n",
        "t_stat = (xbar - mu0) / SE\n",
        "\n",
        "# Критичні значення для правостороннього тесту\n",
        "tcrit_a1 = stats.t.ppf(1 - alpha1, df)\n",
        "tcrit_a2 = stats.t.ppf(1 - alpha2, df)\n",
        "\n",
        "# p-value (right-tail)\n",
        "p_value = 1 - stats.t.cdf(t_stat, df)\n",
        "\n",
        "# Повернемо результати\n",
        "{\n",
        "    \"xbar\": round(float(xbar), 4),\n",
        "    \"s\": round(float(s), 4),\n",
        "    \"n\": int(n),\n",
        "    \"SE\": round(float(SE), 4),\n",
        "    \"df\": int(df),\n",
        "    \"t_stat\": round(float(t_stat), 4),\n",
        "    \"tcrit_alpha_0_10\": round(float(tcrit_a1), 4),\n",
        "    \"tcrit_alpha_0_05\": round(float(tcrit_a2), 4),\n",
        "    \"p_value\": round(float(p_value), 4)\n",
        "}\n"
      ],
      "metadata": {
        "colab": {
          "base_uri": "https://localhost:8080/"
        },
        "id": "yzltUyh-Ozkc",
        "outputId": "af2f023e-c796-405d-d82c-a63117231a61"
      },
      "id": "yzltUyh-Ozkc",
      "execution_count": 1,
      "outputs": [
        {
          "output_type": "execute_result",
          "data": {
            "text/plain": [
              "{'xbar': 132.2857,\n",
              " 's': 10.9805,\n",
              " 'n': 7,\n",
              " 'SE': 4.1502,\n",
              " 'df': 6,\n",
              " 't_stat': 2.0687,\n",
              " 'tcrit_alpha_0_10': 1.4398,\n",
              " 'tcrit_alpha_0_05': 1.9432,\n",
              " 'p_value': 0.042}"
            ]
          },
          "metadata": {},
          "execution_count": 1
        }
      ]
    },
    {
      "cell_type": "markdown",
      "source": [
        "Крок 1 Гіпотези та тип тесту\n",
        "\n",
        "H₀: μ = 123.7 (час не збільшився)\n",
        "\n",
        "H₁: μ > 123.7 (час збільшився після редизайну)\n",
        "\n",
        "Тест: правосторонній t-test (n менше 30, σ невідома)."
      ],
      "metadata": {
        "id": "KGI8c-wKK5J9"
      },
      "id": "KGI8c-wKK5J9"
    },
    {
      "cell_type": "markdown",
      "source": [
        "Крок 2 Вибіркові статистики\n",
        "\n",
        "*   𝑥(сер) = 132.2857\n",
        "*   s = 10.9805\n",
        "*   𝑛 = 7\n",
        "*   𝑆𝐸 = 4.1502\n",
        "*   𝑑𝑓 = 6"
      ],
      "metadata": {
        "id": "rkm4YqR4MkB7"
      },
      "id": "rkm4YqR4MkB7"
    },
    {
      "cell_type": "markdown",
      "source": [
        "Крок 3 Розрахунок тесту\n",
        "\n",
        "\n",
        "*   𝑡 = (𝑥(сер)-𝜇0)/𝑆𝐸 = 2.0687\n",
        "*   Критичні значення (правий хвіст):\n",
        "при α = 0.10:\n",
        "𝑡(крит) = 1.4398,\n",
        "при α = 0.05:\n",
        "𝑡(крит) = 1.9432,\n",
        "*   p-value (right-tail) = 0.0420"
      ],
      "metadata": {
        "id": "x_Upvc9JNCml"
      },
      "id": "x_Upvc9JNCml"
    },
    {
      "cell_type": "markdown",
      "source": [
        "Крок 4 Рішення за p-value (α = 0.10) : p=0.042<0.10 → відхиляємо H₀"
      ],
      "metadata": {
        "id": "Faq4H9ryOOtA"
      },
      "id": "Faq4H9ryOOtA"
    },
    {
      "cell_type": "markdown",
      "source": [
        "Крок 5 Висновок : Є статистично значущі докази, що середній час до покупки збільшився після редизайну."
      ],
      "metadata": {
        "id": "bYug_WubOVyo"
      },
      "id": "bYug_WubOVyo"
    },
    {
      "cell_type": "markdown",
      "source": [
        "Крок 6 Якщо α = 0.05, то p=0.042<0.05 → рішення не змінюється: також відхиляємо H₀ і робимо той самий висновок про збільшення часу"
      ],
      "metadata": {
        "id": "oMqZ3qpPObSm"
      },
      "id": "oMqZ3qpPObSm"
    },
    {
      "cell_type": "markdown",
      "source": [
        "**Завдання 2.**\n",
        "\n",
        "До спеціальної рекламної кампанії **23%** дорослих упізнавали логотип компанії. Після завершення кампанії відділ маркетингу провів опитування: з **1200** випадково відібраних дорослих **311** упізнали логотип.\n",
        "\n",
        "Перевірте на рівні значущості **3%** ($\\alpha=0.03$), чи дають ці дані достатні підстави стверджувати, що **тепер більше ніж 23%** дорослих упізнають логотип компанії. Для розвʼязку використовуйте бібліотеку `statsmodels`.\n",
        "\n",
        "Зробіть висновок, чи зросла впізнаваність логотипу.\n",
        "\n",
        "Додатково, обчисліть довірчий інтревал на заданому рівні значущості і проінтерпретуйте текстом - як він додатково пояснює прийняте нами рішення?"
      ],
      "metadata": {
        "id": "5govLcx8FPSl"
      },
      "id": "5govLcx8FPSl"
    },
    {
      "cell_type": "code",
      "source": [
        "import numpy as np\n",
        "from statsmodels.stats.proportion import proportions_ztest, proportion_confint\n",
        "\n",
        "# Вхідні дані\n",
        "p0 = 0.23           # історична пропорція\n",
        "successes = 311\n",
        "n = 1200\n",
        "alpha = 0.03\n",
        "\n",
        "# z-тест для пропорцій (Ha: p > p0)\n",
        "z_stat, p_value = proportions_ztest(successes, n, value=p0, alternative=\"larger\")\n",
        "\n",
        "# Довірчий інтервал для пропорції (1 - alpha)\n",
        "confint_low, confint_high = proportion_confint(successes, n, alpha=alpha, method=\"normal\")\n",
        "\n",
        "{\n",
        "    \"sample_proportion\": round(successes/n, 4),\n",
        "    \"z_stat\": round(float(z_stat), 4),\n",
        "    \"p_value\": round(float(p_value), 4),\n",
        "    \"confint_low\": round(float(confint_low), 4),\n",
        "    \"confint_high\": round(float(confint_high), 4)\n",
        "}\n"
      ],
      "metadata": {
        "id": "rcplRfotId51",
        "colab": {
          "base_uri": "https://localhost:8080/"
        },
        "outputId": "e096dddb-9d66-48dd-fe37-0ad0eeeea9b5"
      },
      "id": "rcplRfotId51",
      "execution_count": 2,
      "outputs": [
        {
          "output_type": "execute_result",
          "data": {
            "text/plain": [
              "{'sample_proportion': 0.2592,\n",
              " 'z_stat': 2.3058,\n",
              " 'p_value': 0.0106,\n",
              " 'confint_low': 0.2317,\n",
              " 'confint_high': 0.2866}"
            ]
          },
          "metadata": {},
          "execution_count": 2
        }
      ]
    },
    {
      "cell_type": "markdown",
      "source": [
        "Крок 1 Вихідні дані задачі\n",
        "\n",
        "\n",
        "*   Початкова частка (до кампанії): 𝑝0 = 0.23\n",
        "*   Вибіркова частка після кампанії: 𝑝^ = 311/1200 = 0.2592\n",
        "*   Розмір вибірки: 𝑛 = 1200\n",
        "*   Рівень значущості: α= 0.03"
      ],
      "metadata": {
        "id": "aPMmB3jNPD8c"
      },
      "id": "aPMmB3jNPD8c"
    },
    {
      "cell_type": "markdown",
      "source": [
        "Крок 2 Розрахунки\n",
        "\n",
        "*   𝑧 = 2.3058\n",
        "*   Р-value=0.0106\n",
        "*   Довірчий інтервал (97%): [0.2317; 0.2866]"
      ],
      "metadata": {
        "id": "2pang_lQRSQs"
      },
      "id": "2pang_lQRSQs"
    },
    {
      "cell_type": "markdown",
      "source": [
        "Крок 3 Висновок : Оскільки 𝑝-value = 0.0106 < 𝛼 = 0.03, ми відхиляємо H₀ та приймаємо альтернативну гіпотезу, тобто, після кампанії частка людей, які впізнають логотип, статистично значуще більша за 23%."
      ],
      "metadata": {
        "id": "HvBDpU_PRixq"
      },
      "id": "HvBDpU_PRixq"
    },
    {
      "cell_type": "markdown",
      "source": [
        "Крок 4 - Інтерпретація довірчого інтервалу : 97%-й довірчий інтервал для частки становить від 23.17% до 28.66%. Це означає, що з ймовірністю 97% істинне значення нової частки впізнаваності знаходиться у цьому діапазоні.Оскільки вся нижня межа (0.2317) трохи перевищує 𝑝0 = 0.23, це додатково підтверджує зростання впізнаваності."
      ],
      "metadata": {
        "id": "eU5DVQWmRzia"
      },
      "id": "eU5DVQWmRzia"
    }
  ],
  "metadata": {
    "hide_input": false,
    "kernelspec": {
      "display_name": "Python 3 (ipykernel)",
      "language": "python",
      "name": "python3"
    },
    "language_info": {
      "codemirror_mode": {
        "name": "ipython",
        "version": 3
      },
      "file_extension": ".py",
      "mimetype": "text/x-python",
      "name": "python",
      "nbconvert_exporter": "python",
      "pygments_lexer": "ipython3",
      "version": "3.11.3"
    },
    "toc": {
      "base_numbering": 1,
      "nav_menu": {},
      "number_sections": true,
      "sideBar": true,
      "skip_h1_title": false,
      "title_cell": "Table of Contents",
      "title_sidebar": "Contents",
      "toc_cell": false,
      "toc_position": {},
      "toc_section_display": true,
      "toc_window_display": false
    },
    "varInspector": {
      "cols": {
        "lenName": 16,
        "lenType": 16,
        "lenVar": 40
      },
      "kernels_config": {
        "python": {
          "delete_cmd_postfix": "",
          "delete_cmd_prefix": "del ",
          "library": "var_list.py",
          "varRefreshCmd": "print(var_dic_list())"
        },
        "r": {
          "delete_cmd_postfix": ") ",
          "delete_cmd_prefix": "rm(",
          "library": "var_list.r",
          "varRefreshCmd": "cat(var_dic_list()) "
        }
      },
      "types_to_exclude": [
        "module",
        "function",
        "builtin_function_or_method",
        "instance",
        "_Feature"
      ],
      "window_display": false
    },
    "colab": {
      "provenance": [],
      "include_colab_link": true
    }
  },
  "nbformat": 4,
  "nbformat_minor": 5
}