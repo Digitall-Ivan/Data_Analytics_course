{
  "cells": [
    {
      "cell_type": "markdown",
      "metadata": {
        "id": "view-in-github",
        "colab_type": "text"
      },
      "source": [
        "<a href=\"https://colab.research.google.com/github/Digitall-Ivan/Data_Analytics_course/blob/main/Copy_Ivan_Zakorchevnyi_HW_17__Clear_code.ipynb\" target=\"_parent\"><img src=\"https://colab.research.google.com/assets/colab-badge.svg\" alt=\"Open In Colab\"/></a>"
      ]
    },
    {
      "cell_type": "markdown",
      "id": "aed503f1",
      "metadata": {
        "ExecuteTime": {
          "end_time": "2023-07-27T20:14:32.871852Z",
          "start_time": "2023-07-27T20:14:31.036121Z"
        },
        "id": "aed503f1"
      },
      "source": [
        "У завданнях 1-4. Вам наданий простий код на Python, який не відповідає вказівкам PEP8. Ваше завдання — відредагувати код так, аби він відповідав PEP8. Напишіть після редагуванню коду, дотримання яких правил з pep8 ви досягли в відредагованій версі, наприклад\n",
        "```\n",
        "- додала пробіли навколо бінарного оператора\n",
        "- додала два порожні рядки між визначеннями функцій\n",
        "і тд\n",
        "```\n",
        "Також можна зазанчити використані правила коментарями по коду, а не окремим повідомленням.\n",
        "\n",
        "Відредагований код має виконувати весь той самий функціонал, але бути написаний відповідно до вимог до гарного коду на Python! Не забудьте запустити відредагований код, він має бути робочим."
      ]
    },
    {
      "cell_type": "markdown",
      "id": "e7fea147",
      "metadata": {
        "id": "e7fea147"
      },
      "source": [
        "Завдання 1."
      ]
    },
    {
      "cell_type": "code",
      "execution_count": null,
      "id": "f63d84d7",
      "metadata": {
        "ExecuteTime": {
          "end_time": "2023-07-29T17:02:37.075783Z",
          "start_time": "2023-07-29T17:02:37.035259Z"
        },
        "id": "f63d84d7"
      },
      "outputs": [],
      "source": [
        "def greet(name):print(f\"Hello, {name}\")\n",
        "def add(n1,n2):return n1+n2\n",
        "\n",
        "x = 5;y = 3\n",
        "display(greet(\"John\"),add(x,y))\n"
      ]
    },
    {
      "cell_type": "code",
      "execution_count": null,
      "id": "41b7e672",
      "metadata": {
        "id": "41b7e672",
        "colab": {
          "base_uri": "https://localhost:8080/"
        },
        "outputId": "67423833-25e3-45af-9dda-84e612dddfc5"
      },
      "outputs": [
        {
          "output_type": "stream",
          "name": "stdout",
          "text": [
            "Hello, John\n",
            "8\n"
          ]
        }
      ],
      "source": [
        "# Відформатував код відповідно до PEP8:\n",
        "# Додав два порожні рядки між визначеннями функцій\n",
        "# Додав пробіли після ком і навколо операторів =\n",
        "# Розбив код на кілька рядків для кращої читабельності\n",
        "# Використано функцію print замість display (оскільки display немає у стандартному Python)\n",
        "\n",
        "def greet(name):\n",
        "    \"\"\"Повертає рядок-привітання з ім'ям\"\"\"\n",
        "    return f\"Hello, {name}\"\n",
        "\n",
        "\n",
        "def add(n1, n2):\n",
        "    \"\"\"Повертає суму двох чисел\"\"\"\n",
        "    return n1 + n2\n",
        "\n",
        "\n",
        "x = 5\n",
        "y = 3\n",
        "\n",
        "print(greet(\"John\"))\n",
        "print(add(x, y))\n"
      ]
    },
    {
      "cell_type": "markdown",
      "id": "cea88baf",
      "metadata": {
        "id": "cea88baf"
      },
      "source": [
        "Завдання 2."
      ]
    },
    {
      "cell_type": "code",
      "execution_count": null,
      "id": "dfb6d2b5",
      "metadata": {
        "ExecuteTime": {
          "end_time": "2023-07-29T17:05:49.706098Z",
          "start_time": "2023-07-29T17:05:49.688255Z"
        },
        "id": "dfb6d2b5"
      },
      "outputs": [],
      "source": [
        "from math import *\n",
        "def calcArea(r):return pi*r**2\n",
        "def calcCircumference(r):return 2*pi*r\n",
        "\n",
        "radius=5\n",
        "print(\"Area:\",calcArea(radius),\"Circumference:\",calcCircumference(radius))"
      ]
    },
    {
      "cell_type": "code",
      "execution_count": null,
      "id": "df263672",
      "metadata": {
        "id": "df263672",
        "colab": {
          "base_uri": "https://localhost:8080/"
        },
        "outputId": "21ee1d45-38f8-43b1-eb36-712a76184fa2"
      },
      "outputs": [
        {
          "output_type": "stream",
          "name": "stdout",
          "text": [
            "Area: 78.53981633974483\n",
            "Circumference: 31.41592653589793\n"
          ]
        }
      ],
      "source": [
        "# Відформатував код згідно з PEP8:\n",
        "# Імпортував тільки потрібні елементи замість \"import *\"\n",
        "# Додав 2 порожні рядки між визначеннями функцій\n",
        "# Додав пробіли після ком і навколо операторів\n",
        "# Імена функцій навів у snake_case\n",
        "# Максимальна довжина рядка дотримав < 79 символів\n",
        "\n",
        "from math import pi\n",
        "\n",
        "\n",
        "def calc_area(r):\n",
        "    \"\"\"Повертає площу кола з радіусом r.\"\"\"\n",
        "    return pi * r ** 2\n",
        "\n",
        "\n",
        "def calc_circumference(r):\n",
        "    \"\"\"Повертає довжину кола з радіусом r.\"\"\"\n",
        "    return 2 * pi * r\n",
        "\n",
        "\n",
        "radius = 5\n",
        "\n",
        "print(\"Area:\", calc_area(radius))\n",
        "print(\"Circumference:\", calc_circumference(radius))\n"
      ]
    },
    {
      "cell_type": "markdown",
      "id": "1fd691b7",
      "metadata": {
        "id": "1fd691b7"
      },
      "source": [
        "Завдання 3."
      ]
    },
    {
      "cell_type": "code",
      "execution_count": null,
      "id": "1d5acb2d",
      "metadata": {
        "ExecuteTime": {
          "end_time": "2023-07-29T17:06:18.612622Z",
          "start_time": "2023-07-29T17:06:18.598477Z"
        },
        "id": "1d5acb2d"
      },
      "outputs": [],
      "source": [
        "class animal: pass\n",
        "class dog(animal):\n",
        "    def __init__(self,name):\n",
        "        self.name=name\n",
        "        self.type='Dog'"
      ]
    },
    {
      "cell_type": "code",
      "execution_count": null,
      "id": "0d4b2b8a",
      "metadata": {
        "id": "0d4b2b8a"
      },
      "outputs": [],
      "source": [
        "# Відформатував код згідно з PEP8:\n",
        "# Імена класів навів у CamelCase\n",
        "# Додав два порожні рядки перед визначеннями класів\n",
        "# Додав пробіли після ком та навколо =\n",
        "# Вирівняв відступи у 4 пробіли\n",
        "# Додав докстрінги для класів та методів\n",
        "\n",
        "class Animal:\n",
        "    \"\"\"Базовий клас для тварин\"\"\"\n",
        "    pass\n",
        "\n",
        "\n",
        "class Dog(Animal):\n",
        "    \"\"\"Клас для представлення собаки\"\"\"\n",
        "\n",
        "    def __init__(self, name):\n",
        "        \"\"\"Ініціалізує собаку з ім'ям та типом\"\"\"\n",
        "        self.name = name\n",
        "        self.type = \"Dog\""
      ]
    },
    {
      "cell_type": "markdown",
      "id": "7d1d4f5d",
      "metadata": {
        "id": "7d1d4f5d"
      },
      "source": [
        "Завдання 4."
      ]
    },
    {
      "cell_type": "code",
      "execution_count": null,
      "id": "a91c1cc4",
      "metadata": {
        "ExecuteTime": {
          "end_time": "2023-07-29T17:06:47.180263Z",
          "start_time": "2023-07-29T17:06:47.173617Z"
        },
        "id": "a91c1cc4"
      },
      "outputs": [],
      "source": [
        "list=[1,2,3,4,5]\n",
        "for i in range(len(list)):print(list[i])"
      ]
    },
    {
      "cell_type": "code",
      "execution_count": null,
      "id": "c0f9541a",
      "metadata": {
        "id": "c0f9541a",
        "colab": {
          "base_uri": "https://localhost:8080/"
        },
        "outputId": "33a32d95-dc14-4ab6-8c56-07fd6b3087b2"
      },
      "outputs": [
        {
          "output_type": "stream",
          "name": "stdout",
          "text": [
            "1\n",
            "2\n",
            "3\n",
            "4\n",
            "5\n"
          ]
        }
      ],
      "source": [
        "# Відформатував код згідно з PEP8:\n",
        "# Прибрав використання зарезервованого імені list як змінної\n",
        "# Додав пробіли після ком\n",
        "# Розбив код на кілька рядків для кращої читабельності\n",
        "# Використав ітерацію напряму по списку (Pythonic way)\n",
        "\n",
        "numbers = [1, 2, 3, 4, 5]\n",
        "\n",
        "for number in numbers:\n",
        "    print(number)\n"
      ]
    },
    {
      "cell_type": "markdown",
      "id": "8b0487e6",
      "metadata": {
        "id": "8b0487e6"
      },
      "source": [
        "5.У вас є DataFrame df, що представляє результати тестів студентів з математики, англійської мови та історії. Поточний код обчислює середній бал для кожного студента шляхом ітерації за рядками DataFrame за допомогою iterrows().\n",
        "\n",
        "Ваше завдання полягає в тому, щоб змінити код так, аби уникнути використання iterrows() і замість цього застосувати більш ефективне та читабельне рішення відповідно до правил, озвучених у лекції. Рефакторинг треба зробити лише частині, де рахуються середні, імпорт і визначення датафрейму лишаємо без змін."
      ]
    },
    {
      "cell_type": "code",
      "execution_count": null,
      "id": "5b3cc648",
      "metadata": {
        "ExecuteTime": {
          "end_time": "2023-07-29T17:15:55.926882Z",
          "start_time": "2023-07-29T17:15:55.686415Z"
        },
        "id": "5b3cc648"
      },
      "outputs": [],
      "source": [
        "import pandas as pd\n",
        "\n",
        "df = pd.DataFrame({\n",
        "    'student': ['Alice', 'Bob', 'Charlie', 'David'],\n",
        "    'math_score': [89, 94, 77, 85],\n",
        "    'english_score': [92, 88, 79, 85],\n",
        "    'history_score': [84, 92, 81, 89]\n",
        "})"
      ]
    },
    {
      "cell_type": "code",
      "execution_count": null,
      "id": "f5858889",
      "metadata": {
        "ExecuteTime": {
          "end_time": "2023-07-29T17:15:55.926882Z",
          "start_time": "2023-07-29T17:15:55.686415Z"
        },
        "id": "f5858889"
      },
      "outputs": [],
      "source": [
        "averages = []\n",
        "for _, row in df.iterrows():\n",
        "    averages.append((row['math_score'] + row['english_score'] + row['history_score']) / 3)\n",
        "\n",
        "df['average_score'] = averages"
      ]
    },
    {
      "cell_type": "code",
      "execution_count": null,
      "id": "74cea4fc",
      "metadata": {
        "id": "74cea4fc",
        "colab": {
          "base_uri": "https://localhost:8080/"
        },
        "outputId": "689e3b42-b94e-4cd9-fab4-8b5123882be8"
      },
      "outputs": [
        {
          "output_type": "stream",
          "name": "stdout",
          "text": [
            "   student  math_score  english_score  history_score  average_score\n",
            "0    Alice          89             92             84      88.333333\n",
            "1      Bob          94             88             92      91.333333\n",
            "2  Charlie          77             79             81      79.000000\n",
            "3    David          85             85             89      86.333333\n"
          ]
        }
      ],
      "source": [
        "# Використав векторизовані операції Pandas замість iterrows\n",
        "df = df.assign(\n",
        "    average_score=df[[\"math_score\", \"english_score\", \"history_score\"]].mean(axis=1)\n",
        ")\n",
        "\n",
        "print(df)"
      ]
    },
    {
      "cell_type": "markdown",
      "id": "34fb1db9",
      "metadata": {
        "id": "34fb1db9"
      },
      "source": [
        "6.У Вас є великий DataFrame df, що представляє транзакції продажу в магазині. Цей DataFrame містить понад 1 мільйон рядків і кілька стовпців, зокрема «product_name», «product_category», «product_price» і «transaction_date».\n",
        "\n",
        "І «product_name», і «product_category» є рядками, що представляють численні, але обмежені унікальні назви продуктів і категорії відповідно.\n",
        "\n",
        "Напишіть код для ефективного перетворення стовпців «product_name» і «product_category» на категорійний тип для ефективного використання пам’яті.\n",
        "Спробуйте вирішити це завдання, мінімізуючи використання пам'яті та зберігаючи читабельність коду. Крім того, виміряйте використання пам’яті до та після перетворення, щоб продемонструвати підвищення ефективності.\n",
        "\n",
        "Порівняйте кількість памʼяті, яку займає наданий набір даних і новий, створений Вами. В лекції був приклад. В скільки разів менше памʼяті займає новий датафрейм?"
      ]
    },
    {
      "cell_type": "code",
      "execution_count": null,
      "id": "d4926909",
      "metadata": {
        "ExecuteTime": {
          "end_time": "2023-07-29T21:19:30.009527Z",
          "start_time": "2023-07-29T21:19:29.595210Z"
        },
        "id": "d4926909"
      },
      "outputs": [],
      "source": [
        "import pandas as pd\n",
        "import numpy as np\n",
        "\n",
        "np.random.seed(0)\n",
        "\n",
        "products = ['apple', 'banana', 'cherry', 'dates', 'elderberry']\n",
        "categories = ['fruit', 'fruit', 'fruit', 'fruit', 'fruit']\n",
        "\n",
        "N_ROWS = 10**6\n",
        "df = pd.DataFrame({\n",
        "    'product_name': np.random.choice(products, N_ROWS),\n",
        "    'product_category': np.random.choice(categories, N_ROWS),\n",
        "    'product_price': np.random.uniform(1, 10, N_ROWS),\n",
        "    'transaction_date': pd.date_range(start='1/1/2000', periods=N_ROWS, freq='h')\n",
        "})"
      ]
    },
    {
      "cell_type": "code",
      "source": [
        "import pandas as pd\n",
        "import numpy as np\n",
        "\n",
        "np.random.seed(0)\n",
        "\n",
        "products = ['apple', 'banana', 'cherry', 'dates', 'elderberry']\n",
        "categories = ['fruit', 'fruit', 'fruit', 'fruit', 'fruit']\n",
        "\n",
        "N_ROWS = 10**6\n",
        "df = pd.DataFrame({\n",
        "    'product_name': np.random.choice(products, N_ROWS),\n",
        "    'product_category': np.random.choice(categories, N_ROWS),\n",
        "    'product_price': np.random.uniform(1, 10, N_ROWS),\n",
        "    'transaction_date': pd.date_range(start='1/1/2000', periods=N_ROWS, freq='h')\n",
        "})\n",
        "\n",
        "# Пам'ять до перетворення\n",
        "mem_before = df.memory_usage(deep=True).sum() / (1024 ** 2)\n",
        "print(f\"Memory usage before: {mem_before:.2f} MB\")\n",
        "\n",
        "# Перетворення рядкових колонок на категорійні\n",
        "df['product_name'] = df['product_name'].astype('category')\n",
        "df['product_category'] = df['product_category'].astype('category')\n",
        "\n",
        "# Пам'ять після перетворення\n",
        "mem_after = df.memory_usage(deep=True).sum() / (1024 ** 2)\n",
        "print(f\"Memory usage after: {mem_after:.2f} MB\")\n",
        "\n",
        "# Скільки разів менше пам'яті використовує новий DataFrame\n",
        "reduction_ratio = mem_before / mem_after\n",
        "print(f\"Memory reduction: {reduction_ratio:.2f}x\")\n"
      ],
      "metadata": {
        "colab": {
          "base_uri": "https://localhost:8080/"
        },
        "id": "Ta0JtinuWIHX",
        "outputId": "cee8e4a2-86ea-46f4-f3e7-cb51b7649e29"
      },
      "id": "Ta0JtinuWIHX",
      "execution_count": null,
      "outputs": [
        {
          "output_type": "stream",
          "name": "stdout",
          "text": [
            "Memory usage before: 119.59 MB\n",
            "Memory usage after: 17.17 MB\n",
            "Memory reduction: 6.97x\n"
          ]
        }
      ]
    },
    {
      "cell_type": "markdown",
      "source": [
        "Висновок:\n",
        "* memory_usage(deep=True) дає точну оцінку пам’яті, враховуючи рядкові дані.\n",
        "* astype('category') перетворює колонки на категорійний тип, що значно економить пам’ять, особливо якщо багато повторюваних значень.\n",
        "* показав використання пам’яті до та після, а також множник економії, що склав майже 7х.\n",
        "Для цього прикладу економія дуже суттєва, бо обидві колонки мають дуже мало унікальних значень порівняно з мільйоном рядків."
      ],
      "metadata": {
        "id": "zVrFX3bDXaAf"
      },
      "id": "zVrFX3bDXaAf"
    },
    {
      "cell_type": "markdown",
      "id": "131cc08d",
      "metadata": {
        "id": "131cc08d"
      },
      "source": [
        "7.В цьому завданні кілька пунктів. Треба виконати усі послідовно.   \n",
        "    7.1. Завантажте дані у pandas dataframe з файла `ecommerce_data.csv`. Обовʼязково при завантаженні вкажіть параметр `encoding = 'ISO-8859-1'`, без нього буде помилка.  \n",
        "    7.2. Заповніть пропущені значення в колонці CustomerID на -1 та перетворіть тип цієї колонки на str, адже зараз вона типу float, а це не правильний тип даних для ідентифікатора клієнта.  \n",
        "    7.3. З допомогою бібліотеки sweetviz побудуйте html звіт, який порівнює дані для країни \"Germany\" і країни \"France\". У Вас можуть виникнути багато попереджень (Warning), їх рекомендую вимкнути наступним шматком коду   \n",
        "    \n",
        "   \n",
        "    import warnings\n",
        "\n",
        "    with warnings.catch_warnings(record=True):\n",
        "        # your code\n",
        "    \n",
        "    \n",
        "   7.4.Напишіть 5 відмінностей для двох зазначених країн на основі побудованого звіту, без виконання додаткового аналізу іншими інструментами."
      ]
    },
    {
      "cell_type": "code",
      "source": [
        "from google.colab import drive\n",
        "drive.mount('/content/drive')"
      ],
      "metadata": {
        "colab": {
          "base_uri": "https://localhost:8080/"
        },
        "id": "JzLkE8TGZUIV",
        "outputId": "b354b94e-a2cb-48a1-9468-6c3170013e24"
      },
      "id": "JzLkE8TGZUIV",
      "execution_count": null,
      "outputs": [
        {
          "output_type": "stream",
          "name": "stdout",
          "text": [
            "Mounted at /content/drive\n"
          ]
        }
      ]
    },
    {
      "cell_type": "code",
      "execution_count": null,
      "id": "17200e77",
      "metadata": {
        "id": "17200e77",
        "colab": {
          "base_uri": "https://localhost:8080/",
          "height": 206
        },
        "outputId": "5bd0f523-b6be-43d7-82d8-b425fa874ad6"
      },
      "outputs": [
        {
          "output_type": "execute_result",
          "data": {
            "text/plain": [
              "  InvoiceNo StockCode                          Description  Quantity  \\\n",
              "0    536365    85123A   WHITE HANGING HEART T-LIGHT HOLDER         6   \n",
              "1    536365     71053                  WHITE METAL LANTERN         6   \n",
              "2    536365    84406B       CREAM CUPID HEARTS COAT HANGER         8   \n",
              "3    536365    84029G  KNITTED UNION FLAG HOT WATER BOTTLE         6   \n",
              "4    536365    84029E       RED WOOLLY HOTTIE WHITE HEART.         6   \n",
              "\n",
              "      InvoiceDate  UnitPrice  CustomerID         Country  \n",
              "0  12/1/2010 8:26       2.55     17850.0  United Kingdom  \n",
              "1  12/1/2010 8:26       3.39     17850.0  United Kingdom  \n",
              "2  12/1/2010 8:26       2.75     17850.0  United Kingdom  \n",
              "3  12/1/2010 8:26       3.39     17850.0  United Kingdom  \n",
              "4  12/1/2010 8:26       3.39     17850.0  United Kingdom  "
            ],
            "text/html": [
              "\n",
              "  <div id=\"df-f9b241e1-0a2a-4d80-b015-ac5179a68b7e\" class=\"colab-df-container\">\n",
              "    <div>\n",
              "<style scoped>\n",
              "    .dataframe tbody tr th:only-of-type {\n",
              "        vertical-align: middle;\n",
              "    }\n",
              "\n",
              "    .dataframe tbody tr th {\n",
              "        vertical-align: top;\n",
              "    }\n",
              "\n",
              "    .dataframe thead th {\n",
              "        text-align: right;\n",
              "    }\n",
              "</style>\n",
              "<table border=\"1\" class=\"dataframe\">\n",
              "  <thead>\n",
              "    <tr style=\"text-align: right;\">\n",
              "      <th></th>\n",
              "      <th>InvoiceNo</th>\n",
              "      <th>StockCode</th>\n",
              "      <th>Description</th>\n",
              "      <th>Quantity</th>\n",
              "      <th>InvoiceDate</th>\n",
              "      <th>UnitPrice</th>\n",
              "      <th>CustomerID</th>\n",
              "      <th>Country</th>\n",
              "    </tr>\n",
              "  </thead>\n",
              "  <tbody>\n",
              "    <tr>\n",
              "      <th>0</th>\n",
              "      <td>536365</td>\n",
              "      <td>85123A</td>\n",
              "      <td>WHITE HANGING HEART T-LIGHT HOLDER</td>\n",
              "      <td>6</td>\n",
              "      <td>12/1/2010 8:26</td>\n",
              "      <td>2.55</td>\n",
              "      <td>17850.0</td>\n",
              "      <td>United Kingdom</td>\n",
              "    </tr>\n",
              "    <tr>\n",
              "      <th>1</th>\n",
              "      <td>536365</td>\n",
              "      <td>71053</td>\n",
              "      <td>WHITE METAL LANTERN</td>\n",
              "      <td>6</td>\n",
              "      <td>12/1/2010 8:26</td>\n",
              "      <td>3.39</td>\n",
              "      <td>17850.0</td>\n",
              "      <td>United Kingdom</td>\n",
              "    </tr>\n",
              "    <tr>\n",
              "      <th>2</th>\n",
              "      <td>536365</td>\n",
              "      <td>84406B</td>\n",
              "      <td>CREAM CUPID HEARTS COAT HANGER</td>\n",
              "      <td>8</td>\n",
              "      <td>12/1/2010 8:26</td>\n",
              "      <td>2.75</td>\n",
              "      <td>17850.0</td>\n",
              "      <td>United Kingdom</td>\n",
              "    </tr>\n",
              "    <tr>\n",
              "      <th>3</th>\n",
              "      <td>536365</td>\n",
              "      <td>84029G</td>\n",
              "      <td>KNITTED UNION FLAG HOT WATER BOTTLE</td>\n",
              "      <td>6</td>\n",
              "      <td>12/1/2010 8:26</td>\n",
              "      <td>3.39</td>\n",
              "      <td>17850.0</td>\n",
              "      <td>United Kingdom</td>\n",
              "    </tr>\n",
              "    <tr>\n",
              "      <th>4</th>\n",
              "      <td>536365</td>\n",
              "      <td>84029E</td>\n",
              "      <td>RED WOOLLY HOTTIE WHITE HEART.</td>\n",
              "      <td>6</td>\n",
              "      <td>12/1/2010 8:26</td>\n",
              "      <td>3.39</td>\n",
              "      <td>17850.0</td>\n",
              "      <td>United Kingdom</td>\n",
              "    </tr>\n",
              "  </tbody>\n",
              "</table>\n",
              "</div>\n",
              "    <div class=\"colab-df-buttons\">\n",
              "\n",
              "  <div class=\"colab-df-container\">\n",
              "    <button class=\"colab-df-convert\" onclick=\"convertToInteractive('df-f9b241e1-0a2a-4d80-b015-ac5179a68b7e')\"\n",
              "            title=\"Convert this dataframe to an interactive table.\"\n",
              "            style=\"display:none;\">\n",
              "\n",
              "  <svg xmlns=\"http://www.w3.org/2000/svg\" height=\"24px\" viewBox=\"0 -960 960 960\">\n",
              "    <path d=\"M120-120v-720h720v720H120Zm60-500h600v-160H180v160Zm220 220h160v-160H400v160Zm0 220h160v-160H400v160ZM180-400h160v-160H180v160Zm440 0h160v-160H620v160ZM180-180h160v-160H180v160Zm440 0h160v-160H620v160Z\"/>\n",
              "  </svg>\n",
              "    </button>\n",
              "\n",
              "  <style>\n",
              "    .colab-df-container {\n",
              "      display:flex;\n",
              "      gap: 12px;\n",
              "    }\n",
              "\n",
              "    .colab-df-convert {\n",
              "      background-color: #E8F0FE;\n",
              "      border: none;\n",
              "      border-radius: 50%;\n",
              "      cursor: pointer;\n",
              "      display: none;\n",
              "      fill: #1967D2;\n",
              "      height: 32px;\n",
              "      padding: 0 0 0 0;\n",
              "      width: 32px;\n",
              "    }\n",
              "\n",
              "    .colab-df-convert:hover {\n",
              "      background-color: #E2EBFA;\n",
              "      box-shadow: 0px 1px 2px rgba(60, 64, 67, 0.3), 0px 1px 3px 1px rgba(60, 64, 67, 0.15);\n",
              "      fill: #174EA6;\n",
              "    }\n",
              "\n",
              "    .colab-df-buttons div {\n",
              "      margin-bottom: 4px;\n",
              "    }\n",
              "\n",
              "    [theme=dark] .colab-df-convert {\n",
              "      background-color: #3B4455;\n",
              "      fill: #D2E3FC;\n",
              "    }\n",
              "\n",
              "    [theme=dark] .colab-df-convert:hover {\n",
              "      background-color: #434B5C;\n",
              "      box-shadow: 0px 1px 3px 1px rgba(0, 0, 0, 0.15);\n",
              "      filter: drop-shadow(0px 1px 2px rgba(0, 0, 0, 0.3));\n",
              "      fill: #FFFFFF;\n",
              "    }\n",
              "  </style>\n",
              "\n",
              "    <script>\n",
              "      const buttonEl =\n",
              "        document.querySelector('#df-f9b241e1-0a2a-4d80-b015-ac5179a68b7e button.colab-df-convert');\n",
              "      buttonEl.style.display =\n",
              "        google.colab.kernel.accessAllowed ? 'block' : 'none';\n",
              "\n",
              "      async function convertToInteractive(key) {\n",
              "        const element = document.querySelector('#df-f9b241e1-0a2a-4d80-b015-ac5179a68b7e');\n",
              "        const dataTable =\n",
              "          await google.colab.kernel.invokeFunction('convertToInteractive',\n",
              "                                                    [key], {});\n",
              "        if (!dataTable) return;\n",
              "\n",
              "        const docLinkHtml = 'Like what you see? Visit the ' +\n",
              "          '<a target=\"_blank\" href=https://colab.research.google.com/notebooks/data_table.ipynb>data table notebook</a>'\n",
              "          + ' to learn more about interactive tables.';\n",
              "        element.innerHTML = '';\n",
              "        dataTable['output_type'] = 'display_data';\n",
              "        await google.colab.output.renderOutput(dataTable, element);\n",
              "        const docLink = document.createElement('div');\n",
              "        docLink.innerHTML = docLinkHtml;\n",
              "        element.appendChild(docLink);\n",
              "      }\n",
              "    </script>\n",
              "  </div>\n",
              "\n",
              "\n",
              "    <div id=\"df-3e764b7d-f418-438d-a538-8222adacb655\">\n",
              "      <button class=\"colab-df-quickchart\" onclick=\"quickchart('df-3e764b7d-f418-438d-a538-8222adacb655')\"\n",
              "                title=\"Suggest charts\"\n",
              "                style=\"display:none;\">\n",
              "\n",
              "<svg xmlns=\"http://www.w3.org/2000/svg\" height=\"24px\"viewBox=\"0 0 24 24\"\n",
              "     width=\"24px\">\n",
              "    <g>\n",
              "        <path d=\"M19 3H5c-1.1 0-2 .9-2 2v14c0 1.1.9 2 2 2h14c1.1 0 2-.9 2-2V5c0-1.1-.9-2-2-2zM9 17H7v-7h2v7zm4 0h-2V7h2v10zm4 0h-2v-4h2v4z\"/>\n",
              "    </g>\n",
              "</svg>\n",
              "      </button>\n",
              "\n",
              "<style>\n",
              "  .colab-df-quickchart {\n",
              "      --bg-color: #E8F0FE;\n",
              "      --fill-color: #1967D2;\n",
              "      --hover-bg-color: #E2EBFA;\n",
              "      --hover-fill-color: #174EA6;\n",
              "      --disabled-fill-color: #AAA;\n",
              "      --disabled-bg-color: #DDD;\n",
              "  }\n",
              "\n",
              "  [theme=dark] .colab-df-quickchart {\n",
              "      --bg-color: #3B4455;\n",
              "      --fill-color: #D2E3FC;\n",
              "      --hover-bg-color: #434B5C;\n",
              "      --hover-fill-color: #FFFFFF;\n",
              "      --disabled-bg-color: #3B4455;\n",
              "      --disabled-fill-color: #666;\n",
              "  }\n",
              "\n",
              "  .colab-df-quickchart {\n",
              "    background-color: var(--bg-color);\n",
              "    border: none;\n",
              "    border-radius: 50%;\n",
              "    cursor: pointer;\n",
              "    display: none;\n",
              "    fill: var(--fill-color);\n",
              "    height: 32px;\n",
              "    padding: 0;\n",
              "    width: 32px;\n",
              "  }\n",
              "\n",
              "  .colab-df-quickchart:hover {\n",
              "    background-color: var(--hover-bg-color);\n",
              "    box-shadow: 0 1px 2px rgba(60, 64, 67, 0.3), 0 1px 3px 1px rgba(60, 64, 67, 0.15);\n",
              "    fill: var(--button-hover-fill-color);\n",
              "  }\n",
              "\n",
              "  .colab-df-quickchart-complete:disabled,\n",
              "  .colab-df-quickchart-complete:disabled:hover {\n",
              "    background-color: var(--disabled-bg-color);\n",
              "    fill: var(--disabled-fill-color);\n",
              "    box-shadow: none;\n",
              "  }\n",
              "\n",
              "  .colab-df-spinner {\n",
              "    border: 2px solid var(--fill-color);\n",
              "    border-color: transparent;\n",
              "    border-bottom-color: var(--fill-color);\n",
              "    animation:\n",
              "      spin 1s steps(1) infinite;\n",
              "  }\n",
              "\n",
              "  @keyframes spin {\n",
              "    0% {\n",
              "      border-color: transparent;\n",
              "      border-bottom-color: var(--fill-color);\n",
              "      border-left-color: var(--fill-color);\n",
              "    }\n",
              "    20% {\n",
              "      border-color: transparent;\n",
              "      border-left-color: var(--fill-color);\n",
              "      border-top-color: var(--fill-color);\n",
              "    }\n",
              "    30% {\n",
              "      border-color: transparent;\n",
              "      border-left-color: var(--fill-color);\n",
              "      border-top-color: var(--fill-color);\n",
              "      border-right-color: var(--fill-color);\n",
              "    }\n",
              "    40% {\n",
              "      border-color: transparent;\n",
              "      border-right-color: var(--fill-color);\n",
              "      border-top-color: var(--fill-color);\n",
              "    }\n",
              "    60% {\n",
              "      border-color: transparent;\n",
              "      border-right-color: var(--fill-color);\n",
              "    }\n",
              "    80% {\n",
              "      border-color: transparent;\n",
              "      border-right-color: var(--fill-color);\n",
              "      border-bottom-color: var(--fill-color);\n",
              "    }\n",
              "    90% {\n",
              "      border-color: transparent;\n",
              "      border-bottom-color: var(--fill-color);\n",
              "    }\n",
              "  }\n",
              "</style>\n",
              "\n",
              "      <script>\n",
              "        async function quickchart(key) {\n",
              "          const quickchartButtonEl =\n",
              "            document.querySelector('#' + key + ' button');\n",
              "          quickchartButtonEl.disabled = true;  // To prevent multiple clicks.\n",
              "          quickchartButtonEl.classList.add('colab-df-spinner');\n",
              "          try {\n",
              "            const charts = await google.colab.kernel.invokeFunction(\n",
              "                'suggestCharts', [key], {});\n",
              "          } catch (error) {\n",
              "            console.error('Error during call to suggestCharts:', error);\n",
              "          }\n",
              "          quickchartButtonEl.classList.remove('colab-df-spinner');\n",
              "          quickchartButtonEl.classList.add('colab-df-quickchart-complete');\n",
              "        }\n",
              "        (() => {\n",
              "          let quickchartButtonEl =\n",
              "            document.querySelector('#df-3e764b7d-f418-438d-a538-8222adacb655 button');\n",
              "          quickchartButtonEl.style.display =\n",
              "            google.colab.kernel.accessAllowed ? 'block' : 'none';\n",
              "        })();\n",
              "      </script>\n",
              "    </div>\n",
              "    </div>\n",
              "  </div>\n"
            ],
            "application/vnd.google.colaboratory.intrinsic+json": {
              "type": "dataframe",
              "variable_name": "df"
            }
          },
          "metadata": {},
          "execution_count": 14
        }
      ],
      "source": [
        "import pandas as pd\n",
        "\n",
        "# Завантажив CSV з правильним кодуванням\n",
        "df = pd.read_csv('/content/drive/MyDrive/I LOVE DATA EDU COURSE/RAWDATA/ecommerce_data.csv', encoding='ISO-8859-1')\n",
        "\n",
        "# Перевірив датафрейм по першим рядкам\n",
        "df.head()\n"
      ]
    },
    {
      "cell_type": "code",
      "source": [
        "# Заповнив пропуску та змінив тип на str\n",
        "df['CustomerID'] = df['CustomerID'].fillna(-1).astype(str)\n",
        "\n",
        "# Перевірив дані\n",
        "df['CustomerID'].dtype, df['CustomerID'].isna().sum()\n"
      ],
      "metadata": {
        "colab": {
          "base_uri": "https://localhost:8080/"
        },
        "id": "FuHJDWwtaIi0",
        "outputId": "555c49b9-31a1-479d-cc2b-8fa78f43bffa"
      },
      "id": "FuHJDWwtaIi0",
      "execution_count": null,
      "outputs": [
        {
          "output_type": "execute_result",
          "data": {
            "text/plain": [
              "(dtype('O'), np.int64(0))"
            ]
          },
          "metadata": {},
          "execution_count": 15
        }
      ]
    },
    {
      "cell_type": "code",
      "source": [
        "import pandas as pd\n",
        "import warnings\n",
        "import numpy as np\n",
        "\n",
        "# 7.1\n",
        "df = pd.read_csv('/content/drive/MyDrive/I LOVE DATA EDU COURSE/RAWDATA/ecommerce_data.csv', encoding='ISO-8859-1')\n",
        "\n",
        "# 7.2\n",
        "df['CustomerID'] = df['CustomerID'].fillna(-1).astype(int).astype(str)\n",
        "\n",
        "# Патч для сумісності NumPy ↔ sweetviz\n",
        "if not hasattr(np, 'VisibleDeprecationWarning'):\n",
        "    np.VisibleDeprecationWarning = DeprecationWarning  # тимчасове рішення\n",
        "\n",
        "# 7.3\n",
        "with warnings.catch_warnings(record=True):\n",
        "    import sweetviz as sv\n",
        "    report = sv.compare([df[df['Country']=='Germany'], 'Germany'],\n",
        "                        [df[df['Country']=='France'], 'France'])\n",
        "    report.show_html('sweetviz_report_germany_vs_france.html')\n",
        "\n"
      ],
      "metadata": {
        "colab": {
          "base_uri": "https://localhost:8080/",
          "height": 87,
          "referenced_widgets": [
            "eec40eaff5744b0f9941810883ba9145",
            "87c3c977b216459da2e61e605fd7baf1",
            "10eeb71c18a4464fbe62c27eba0de840",
            "eb5c7dfb35fd4b7b818a817c9441f2c2",
            "400443b52e5a4ecea018f5ab97813c37",
            "a698414f014f43e7b5ef578e5d5219d5",
            "fd2ab8ecfe194a378f8cd3bd3a87ed29",
            "2ec5e24e8e4146b494a504079e759726",
            "688d6d87316e457aac20627eb14b548f",
            "f54a8b189c794dcf80fb571284b24081",
            "742985d295d349fa86016fc9f5a26bc2"
          ]
        },
        "id": "d_twsXsdaz8f",
        "outputId": "eafcc7e9-0c06-4ab3-b3e6-5d4e37ba886a"
      },
      "id": "d_twsXsdaz8f",
      "execution_count": null,
      "outputs": [
        {
          "output_type": "display_data",
          "data": {
            "text/plain": [
              "                                             |          | [  0%]   00:00 -> (? left)"
            ],
            "application/vnd.jupyter.widget-view+json": {
              "version_major": 2,
              "version_minor": 0,
              "model_id": "eec40eaff5744b0f9941810883ba9145"
            }
          },
          "metadata": {}
        },
        {
          "output_type": "stream",
          "name": "stdout",
          "text": [
            "Report sweetviz_report_germany_vs_france.html was generated! NOTEBOOK/COLAB USERS: the web browser MAY not pop up, regardless, the report IS saved in your notebook/colab files.\n"
          ]
        }
      ]
    },
    {
      "cell_type": "markdown",
      "source": [
        "На жаль, виявив несумісність версій Sweetviz і NumPy, оновлення та відккат версій не дало результату. Тому використав альтернативу - тимчасовий обхід перед імпортом sweetviz створивши відсутній атрибут у NumPy, після чого запустив compare."
      ],
      "metadata": {
        "id": "vXgJnCz4cugp"
      },
      "id": "vXgJnCz4cugp"
    },
    {
      "cell_type": "code",
      "source": [
        "from google.colab import files\n",
        "files.download(\"sweetviz_report_germany_vs_france.html\")\n"
      ],
      "metadata": {
        "colab": {
          "base_uri": "https://localhost:8080/",
          "height": 17
        },
        "id": "MGbRS7oAdfRZ",
        "outputId": "865c9b07-528b-4c58-f1ed-07e29d5dc4a1"
      },
      "id": "MGbRS7oAdfRZ",
      "execution_count": null,
      "outputs": [
        {
          "output_type": "display_data",
          "data": {
            "text/plain": [
              "<IPython.core.display.Javascript object>"
            ],
            "application/javascript": [
              "\n",
              "    async function download(id, filename, size) {\n",
              "      if (!google.colab.kernel.accessAllowed) {\n",
              "        return;\n",
              "      }\n",
              "      const div = document.createElement('div');\n",
              "      const label = document.createElement('label');\n",
              "      label.textContent = `Downloading \"${filename}\": `;\n",
              "      div.appendChild(label);\n",
              "      const progress = document.createElement('progress');\n",
              "      progress.max = size;\n",
              "      div.appendChild(progress);\n",
              "      document.body.appendChild(div);\n",
              "\n",
              "      const buffers = [];\n",
              "      let downloaded = 0;\n",
              "\n",
              "      const channel = await google.colab.kernel.comms.open(id);\n",
              "      // Send a message to notify the kernel that we're ready.\n",
              "      channel.send({})\n",
              "\n",
              "      for await (const message of channel.messages) {\n",
              "        // Send a message to notify the kernel that we're ready.\n",
              "        channel.send({})\n",
              "        if (message.buffers) {\n",
              "          for (const buffer of message.buffers) {\n",
              "            buffers.push(buffer);\n",
              "            downloaded += buffer.byteLength;\n",
              "            progress.value = downloaded;\n",
              "          }\n",
              "        }\n",
              "      }\n",
              "      const blob = new Blob(buffers, {type: 'application/binary'});\n",
              "      const a = document.createElement('a');\n",
              "      a.href = window.URL.createObjectURL(blob);\n",
              "      a.download = filename;\n",
              "      div.appendChild(a);\n",
              "      a.click();\n",
              "      div.remove();\n",
              "    }\n",
              "  "
            ]
          },
          "metadata": {}
        },
        {
          "output_type": "display_data",
          "data": {
            "text/plain": [
              "<IPython.core.display.Javascript object>"
            ],
            "application/javascript": [
              "download(\"download_914ab3df-f40f-46df-b919-9161234909ec\", \"sweetviz_report_germany_vs_france.html\", 906647)"
            ]
          },
          "metadata": {}
        }
      ]
    },
    {
      "cell_type": "markdown",
      "source": [
        "Висновки:\n",
        "П’ять основних відмінностей\n",
        "Вибірка: у Germany 9 495 рядків проти 8 557 у France, тобто в даних більше транзакцій з Німеччини.\n",
        "\n",
        "Унікальні клієнти: Germany має 95 унікальних CustomerID, France - 88, що вказує на ширшу базу покупців у Німеччині в цьому наборі даних.\n",
        "\n",
        "Кількість інвойсів: у Germany 603 унікальні інвойси проти 461 у France, що узгоджується з більшою транзакційною активністю в Німеччині.\n",
        "\n",
        "Середня ціна за одиницю: середній UnitPrice нижчий у Germany (близько 3.97) ніж у France (близько 5.03), тобто французькі замовлення мають дорожчі позиції в середньому.\n",
        "\n",
        "Середня кількість одиниць: середній Quantity трохи менший у Germany ( близько 12.37) порівняно з France ( близько 12.91), що свідчить про трохи більші обсяги позицій у французьких замовленнях."
      ],
      "metadata": {
        "id": "dtlgrgSegWF0"
      },
      "id": "dtlgrgSegWF0"
    },
    {
      "cell_type": "markdown",
      "id": "07ae375a",
      "metadata": {
        "ExecuteTime": {
          "end_time": "2023-07-30T18:55:42.650457Z",
          "start_time": "2023-07-30T18:55:42.635729Z"
        },
        "id": "07ae375a"
      },
      "source": [
        "8.З допомогою ChatGPT виявіть, чи є та які помилки в наступному коді.  \n",
        "Попросіть після цього переписати код із дотриманням PEP8. Проаналізуйте результат. Чи справді ChatGPT виправив всі стилістичні помилки? Якщо ні, напишіть йому ще кілька запитів, аби код відповідав вимогам PEP8.  \n",
        "Вставте фінальну версію коду з чату у ноутбук та запустіть на заданому списку. Має вертатись 50.  \n",
        "Напишіть, які промпти (інструкції) при зверненні до ChatGPT ви застосували та додайте скріншот(-и) з промптами та відповідями чата.  \n",
        "Якщо зробили висновки при виконанні цього завдання, то діліться також :)\n",
        "\n",
        "**ЯК ВСТАВИТИ СКРІНШОТ в Jupyter Notebook** :\n",
        "1. Створіть нову Markdown клітинку\n",
        "2. В новоствореній клітинці обираєте в меню Jupyter Notebook Edit -> Insert Image\n",
        "3. Обираєте картинку\n",
        "4. В клітинці має зʼявитись текст, який містить картинку. Запустіть клітинку.\n",
        "\n",
        "Або можна просто перетягнути картинку в Markdown клітинку."
      ]
    },
    {
      "cell_type": "code",
      "execution_count": null,
      "id": "a5c010c4",
      "metadata": {
        "ExecuteTime": {
          "end_time": "2023-07-30T19:16:20.977219Z",
          "start_time": "2023-07-30T19:16:20.973688Z"
        },
        "id": "a5c010c4"
      },
      "outputs": [],
      "source": [
        "def CalculateVariance(nl):\n",
        "    sum_list = 0\n",
        "    for n in nl:\n",
        "        sum_list = sum_list + n\n",
        "    mean = sum_list / len(nl)\n",
        "    sum_squares = 0\n",
        "    for n in nl:\n",
        "        sum_squares = sum_squares + n**2\n",
        "    mean_squares = sum_squares / len(nl)\n",
        "    return mean_squares"
      ]
    },
    {
      "cell_type": "code",
      "execution_count": null,
      "id": "24bb3f81",
      "metadata": {
        "ExecuteTime": {
          "end_time": "2023-07-30T19:16:09.201841Z",
          "start_time": "2023-07-30T19:16:09.199174Z"
        },
        "id": "24bb3f81"
      },
      "outputs": [],
      "source": [
        "input_list = [75, 80, 85, 90, 95]"
      ]
    },
    {
      "cell_type": "code",
      "source": [
        "def calculate_variance(numbers):\n",
        "    \"\"\"Calculate variance of a list of numbers.\"\"\"\n",
        "    mean = sum(numbers) / len(numbers)\n",
        "    mean_squares = sum(n ** 2 for n in numbers) / len(numbers)\n",
        "    variance = mean_squares - mean ** 2\n",
        "    return variance\n",
        "\n",
        "\n",
        "input_list = [75, 80, 85, 90, 95]\n",
        "result = calculate_variance(input_list)\n",
        "print(result)\n"
      ],
      "metadata": {
        "colab": {
          "base_uri": "https://localhost:8080/"
        },
        "id": "I-8eR7rWikV9",
        "outputId": "6997fb93-d1b4-4a6d-f664-129d7b093007"
      },
      "id": "I-8eR7rWikV9",
      "execution_count": null,
      "outputs": [
        {
          "output_type": "stream",
          "name": "stdout",
          "text": [
            "50.0\n"
          ]
        }
      ]
    },
    {
      "cell_type": "markdown",
      "source": [
        "Висновки:\n",
        "\n",
        "ChatGPT непогано справляється з базовими стилістичними правками та зміною назв.\n",
        "\n",
        "Для повного дотримання PEP8 потрібно додавати башато уточнень: пробіли, довгі рядки, коментарі.\n",
        "\n",
        "Фінальна версія коду надана ChatGPT працює правильно і повертає 50 для заданого списку.Промпт написав за методикою RTF для ефективних запитів (Role - роль, Task - завдання, Format - формат)."
      ],
      "metadata": {
        "id": "hBB1CRa7pdXd"
      },
      "id": "hBB1CRa7pdXd"
    }
  ],
  "metadata": {
    "kernelspec": {
      "display_name": "Python 3 (ipykernel)",
      "language": "python",
      "name": "python3"
    },
    "language_info": {
      "codemirror_mode": {
        "name": "ipython",
        "version": 3
      },
      "file_extension": ".py",
      "mimetype": "text/x-python",
      "name": "python",
      "nbconvert_exporter": "python",
      "pygments_lexer": "ipython3",
      "version": "3.10.4"
    },
    "toc": {
      "base_numbering": 1,
      "nav_menu": {},
      "number_sections": true,
      "sideBar": true,
      "skip_h1_title": false,
      "title_cell": "Table of Contents",
      "title_sidebar": "Contents",
      "toc_cell": false,
      "toc_position": {},
      "toc_section_display": true,
      "toc_window_display": false
    },
    "colab": {
      "provenance": [],
      "include_colab_link": true
    },
    "widgets": {
      "application/vnd.jupyter.widget-state+json": {
        "eec40eaff5744b0f9941810883ba9145": {
          "model_module": "@jupyter-widgets/controls",
          "model_name": "HBoxModel",
          "model_module_version": "1.5.0",
          "state": {
            "_dom_classes": [],
            "_model_module": "@jupyter-widgets/controls",
            "_model_module_version": "1.5.0",
            "_model_name": "HBoxModel",
            "_view_count": null,
            "_view_module": "@jupyter-widgets/controls",
            "_view_module_version": "1.5.0",
            "_view_name": "HBoxView",
            "box_style": "",
            "children": [
              "IPY_MODEL_87c3c977b216459da2e61e605fd7baf1",
              "IPY_MODEL_10eeb71c18a4464fbe62c27eba0de840",
              "IPY_MODEL_eb5c7dfb35fd4b7b818a817c9441f2c2"
            ],
            "layout": "IPY_MODEL_400443b52e5a4ecea018f5ab97813c37"
          }
        },
        "87c3c977b216459da2e61e605fd7baf1": {
          "model_module": "@jupyter-widgets/controls",
          "model_name": "HTMLModel",
          "model_module_version": "1.5.0",
          "state": {
            "_dom_classes": [],
            "_model_module": "@jupyter-widgets/controls",
            "_model_module_version": "1.5.0",
            "_model_name": "HTMLModel",
            "_view_count": null,
            "_view_module": "@jupyter-widgets/controls",
            "_view_module_version": "1.5.0",
            "_view_name": "HTMLView",
            "description": "",
            "description_tooltip": null,
            "layout": "IPY_MODEL_a698414f014f43e7b5ef578e5d5219d5",
            "placeholder": "​",
            "style": "IPY_MODEL_fd2ab8ecfe194a378f8cd3bd3a87ed29",
            "value": "Done! Use &#x27;show&#x27; commands to display/save.   "
          }
        },
        "10eeb71c18a4464fbe62c27eba0de840": {
          "model_module": "@jupyter-widgets/controls",
          "model_name": "FloatProgressModel",
          "model_module_version": "1.5.0",
          "state": {
            "_dom_classes": [],
            "_model_module": "@jupyter-widgets/controls",
            "_model_module_version": "1.5.0",
            "_model_name": "FloatProgressModel",
            "_view_count": null,
            "_view_module": "@jupyter-widgets/controls",
            "_view_module_version": "1.5.0",
            "_view_name": "ProgressView",
            "bar_style": "success",
            "description": "",
            "description_tooltip": null,
            "layout": "IPY_MODEL_2ec5e24e8e4146b494a504079e759726",
            "max": 1,
            "min": 0,
            "orientation": "horizontal",
            "style": "IPY_MODEL_688d6d87316e457aac20627eb14b548f",
            "value": 1
          }
        },
        "eb5c7dfb35fd4b7b818a817c9441f2c2": {
          "model_module": "@jupyter-widgets/controls",
          "model_name": "HTMLModel",
          "model_module_version": "1.5.0",
          "state": {
            "_dom_classes": [],
            "_model_module": "@jupyter-widgets/controls",
            "_model_module_version": "1.5.0",
            "_model_name": "HTMLModel",
            "_view_count": null,
            "_view_module": "@jupyter-widgets/controls",
            "_view_module_version": "1.5.0",
            "_view_name": "HTMLView",
            "description": "",
            "description_tooltip": null,
            "layout": "IPY_MODEL_f54a8b189c794dcf80fb571284b24081",
            "placeholder": "​",
            "style": "IPY_MODEL_742985d295d349fa86016fc9f5a26bc2",
            "value": " [100%]   00:01 -&gt; (00:00 left)"
          }
        },
        "400443b52e5a4ecea018f5ab97813c37": {
          "model_module": "@jupyter-widgets/base",
          "model_name": "LayoutModel",
          "model_module_version": "1.2.0",
          "state": {
            "_model_module": "@jupyter-widgets/base",
            "_model_module_version": "1.2.0",
            "_model_name": "LayoutModel",
            "_view_count": null,
            "_view_module": "@jupyter-widgets/base",
            "_view_module_version": "1.2.0",
            "_view_name": "LayoutView",
            "align_content": null,
            "align_items": null,
            "align_self": null,
            "border": null,
            "bottom": null,
            "display": "inline-flex",
            "flex": null,
            "flex_flow": "row wrap",
            "grid_area": null,
            "grid_auto_columns": null,
            "grid_auto_flow": null,
            "grid_auto_rows": null,
            "grid_column": null,
            "grid_gap": null,
            "grid_row": null,
            "grid_template_areas": null,
            "grid_template_columns": null,
            "grid_template_rows": null,
            "height": null,
            "justify_content": null,
            "justify_items": null,
            "left": null,
            "margin": null,
            "max_height": null,
            "max_width": null,
            "min_height": null,
            "min_width": null,
            "object_fit": null,
            "object_position": null,
            "order": null,
            "overflow": null,
            "overflow_x": null,
            "overflow_y": null,
            "padding": null,
            "right": null,
            "top": null,
            "visibility": null,
            "width": "100%"
          }
        },
        "a698414f014f43e7b5ef578e5d5219d5": {
          "model_module": "@jupyter-widgets/base",
          "model_name": "LayoutModel",
          "model_module_version": "1.2.0",
          "state": {
            "_model_module": "@jupyter-widgets/base",
            "_model_module_version": "1.2.0",
            "_model_name": "LayoutModel",
            "_view_count": null,
            "_view_module": "@jupyter-widgets/base",
            "_view_module_version": "1.2.0",
            "_view_name": "LayoutView",
            "align_content": null,
            "align_items": null,
            "align_self": null,
            "border": null,
            "bottom": null,
            "display": null,
            "flex": null,
            "flex_flow": null,
            "grid_area": null,
            "grid_auto_columns": null,
            "grid_auto_flow": null,
            "grid_auto_rows": null,
            "grid_column": null,
            "grid_gap": null,
            "grid_row": null,
            "grid_template_areas": null,
            "grid_template_columns": null,
            "grid_template_rows": null,
            "height": null,
            "justify_content": null,
            "justify_items": null,
            "left": null,
            "margin": null,
            "max_height": null,
            "max_width": null,
            "min_height": null,
            "min_width": null,
            "object_fit": null,
            "object_position": null,
            "order": null,
            "overflow": null,
            "overflow_x": null,
            "overflow_y": null,
            "padding": null,
            "right": null,
            "top": null,
            "visibility": null,
            "width": null
          }
        },
        "fd2ab8ecfe194a378f8cd3bd3a87ed29": {
          "model_module": "@jupyter-widgets/controls",
          "model_name": "DescriptionStyleModel",
          "model_module_version": "1.5.0",
          "state": {
            "_model_module": "@jupyter-widgets/controls",
            "_model_module_version": "1.5.0",
            "_model_name": "DescriptionStyleModel",
            "_view_count": null,
            "_view_module": "@jupyter-widgets/base",
            "_view_module_version": "1.2.0",
            "_view_name": "StyleView",
            "description_width": ""
          }
        },
        "2ec5e24e8e4146b494a504079e759726": {
          "model_module": "@jupyter-widgets/base",
          "model_name": "LayoutModel",
          "model_module_version": "1.2.0",
          "state": {
            "_model_module": "@jupyter-widgets/base",
            "_model_module_version": "1.2.0",
            "_model_name": "LayoutModel",
            "_view_count": null,
            "_view_module": "@jupyter-widgets/base",
            "_view_module_version": "1.2.0",
            "_view_name": "LayoutView",
            "align_content": null,
            "align_items": null,
            "align_self": null,
            "border": null,
            "bottom": null,
            "display": null,
            "flex": "2",
            "flex_flow": null,
            "grid_area": null,
            "grid_auto_columns": null,
            "grid_auto_flow": null,
            "grid_auto_rows": null,
            "grid_column": null,
            "grid_gap": null,
            "grid_row": null,
            "grid_template_areas": null,
            "grid_template_columns": null,
            "grid_template_rows": null,
            "height": null,
            "justify_content": null,
            "justify_items": null,
            "left": null,
            "margin": null,
            "max_height": null,
            "max_width": null,
            "min_height": null,
            "min_width": null,
            "object_fit": null,
            "object_position": null,
            "order": null,
            "overflow": null,
            "overflow_x": null,
            "overflow_y": null,
            "padding": null,
            "right": null,
            "top": null,
            "visibility": null,
            "width": null
          }
        },
        "688d6d87316e457aac20627eb14b548f": {
          "model_module": "@jupyter-widgets/controls",
          "model_name": "ProgressStyleModel",
          "model_module_version": "1.5.0",
          "state": {
            "_model_module": "@jupyter-widgets/controls",
            "_model_module_version": "1.5.0",
            "_model_name": "ProgressStyleModel",
            "_view_count": null,
            "_view_module": "@jupyter-widgets/base",
            "_view_module_version": "1.2.0",
            "_view_name": "StyleView",
            "bar_color": null,
            "description_width": ""
          }
        },
        "f54a8b189c794dcf80fb571284b24081": {
          "model_module": "@jupyter-widgets/base",
          "model_name": "LayoutModel",
          "model_module_version": "1.2.0",
          "state": {
            "_model_module": "@jupyter-widgets/base",
            "_model_module_version": "1.2.0",
            "_model_name": "LayoutModel",
            "_view_count": null,
            "_view_module": "@jupyter-widgets/base",
            "_view_module_version": "1.2.0",
            "_view_name": "LayoutView",
            "align_content": null,
            "align_items": null,
            "align_self": null,
            "border": null,
            "bottom": null,
            "display": null,
            "flex": null,
            "flex_flow": null,
            "grid_area": null,
            "grid_auto_columns": null,
            "grid_auto_flow": null,
            "grid_auto_rows": null,
            "grid_column": null,
            "grid_gap": null,
            "grid_row": null,
            "grid_template_areas": null,
            "grid_template_columns": null,
            "grid_template_rows": null,
            "height": null,
            "justify_content": null,
            "justify_items": null,
            "left": null,
            "margin": null,
            "max_height": null,
            "max_width": null,
            "min_height": null,
            "min_width": null,
            "object_fit": null,
            "object_position": null,
            "order": null,
            "overflow": null,
            "overflow_x": null,
            "overflow_y": null,
            "padding": null,
            "right": null,
            "top": null,
            "visibility": null,
            "width": null
          }
        },
        "742985d295d349fa86016fc9f5a26bc2": {
          "model_module": "@jupyter-widgets/controls",
          "model_name": "DescriptionStyleModel",
          "model_module_version": "1.5.0",
          "state": {
            "_model_module": "@jupyter-widgets/controls",
            "_model_module_version": "1.5.0",
            "_model_name": "DescriptionStyleModel",
            "_view_count": null,
            "_view_module": "@jupyter-widgets/base",
            "_view_module_version": "1.2.0",
            "_view_name": "StyleView",
            "description_width": ""
          }
        }
      }
    }
  },
  "nbformat": 4,
  "nbformat_minor": 5
}