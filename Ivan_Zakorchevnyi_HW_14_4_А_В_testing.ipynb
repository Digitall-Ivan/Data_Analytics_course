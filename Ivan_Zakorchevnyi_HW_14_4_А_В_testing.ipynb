{
  "nbformat": 4,
  "nbformat_minor": 0,
  "metadata": {
    "colab": {
      "provenance": [],
      "include_colab_link": true
    },
    "kernelspec": {
      "name": "python3",
      "display_name": "Python 3"
    },
    "language_info": {
      "name": "python"
    }
  },
  "cells": [
    {
      "cell_type": "markdown",
      "metadata": {
        "id": "view-in-github",
        "colab_type": "text"
      },
      "source": [
        "<a href=\"https://colab.research.google.com/github/Digitall-Ivan/Data_Analytics_course/blob/main/Ivan_Zakorchevnyi_HW_14_4_%D0%90_%D0%92_testing.ipynb\" target=\"_parent\"><img src=\"https://colab.research.google.com/assets/colab-badge.svg\" alt=\"Open In Colab\"/></a>"
      ]
    },
    {
      "cell_type": "markdown",
      "metadata": {
        "ExecuteTime": {
          "end_time": "2022-12-10T17:43:42.137588Z",
          "start_time": "2022-12-10T17:43:42.124712Z"
        },
        "id": "f41183ed"
      },
      "source": [
        "## Аналіз A/B-тестів\n",
        "\n",
        "Ви - аналітик даних в ІТ-компанії і до вас надійшла задача проаналізувати дані A/B тесту в популярній [грі Cookie Cats](https://www.facebook.com/cookiecatsgame). Це - гра-головоломка в стилі «з’єднай три», де гравець повинен з’єднати плитки одного кольору, щоб очистити дошку та виграти рівень. На дошці також зображені співаючі котики :)\n",
        "\n",
        "Під час проходження гри гравці стикаються з воротами, які змушують їх чекати деякий час, перш ніж вони зможуть прогресувати або зробити покупку в додатку.\n",
        "\n",
        "У цьому блоці завдань ми проаналізуємо результати A/B тесту, коли перші ворота в Cookie Cats було переміщено з рівня 30 на рівень 40. Зокрема, ми хочемо зрозуміти, як це вплинуло на утримання (retention) гравців. Тобто хочемо зрозуміти, чи переміщення воріт на 10 рівнів пізніше якимось чином вплинуло на те, що користувачі перестають грати в гру раніше чи пізніше з точки зору кількості їх днів з моменту встановлення гри.\n",
        "\n",
        "Будемо працювати з даними з файлу `cookie_cats.csv`. Колонки в даних наступні:\n",
        "\n",
        "- `userid` - унікальний номер, який ідентифікує кожного гравця.\n",
        "- `version` - чи потрапив гравець в контрольну групу (gate_30 - ворота на 30 рівні) чи тестову групу (gate_40 - ворота на 40 рівні).\n",
        "- `sum_gamerounds` - кількість ігрових раундів, зіграних гравцем протягом першого тижня після встановлення\n",
        "- `retention_1` - чи через 1 день після встановлення гравець повернувся і почав грати?\n",
        "- `retention_7` - чи через 7 днів після встановлення гравець повернувся і почав грати?\n",
        "\n",
        "Коли гравець встановлював гру, його випадковим чином призначали до групи gate_30 або gate_40."
      ]
    },
    {
      "cell_type": "code",
      "source": [
        "from google.colab import drive\n",
        "drive.mount('/content/drive')"
      ],
      "metadata": {
        "colab": {
          "base_uri": "https://localhost:8080/"
        },
        "id": "wExYU_R091Tl",
        "outputId": "4b3d070b-1de5-4719-bdd3-b029ea7dc4b4"
      },
      "execution_count": 1,
      "outputs": [
        {
          "output_type": "stream",
          "name": "stdout",
          "text": [
            "Mounted at /content/drive\n"
          ]
        }
      ]
    },
    {
      "cell_type": "markdown",
      "source": [
        "1. Для початку, уявімо, що ми тільки плануємо проведення зазначеного А/B-тесту і хочемо зрозуміти, дані про скількох користувачів нам треба зібрати, аби досягнути відчутного ефекту. Відчутним ефектом ми вважатимемо збільшення утримання на 1% після внесення зміни. Обчисліть, скільки користувачів сумарно нам треба аби досягнути такого ефекту, якщо продакт менеджер нам повідомив, що базове утримання є 19%."
      ],
      "metadata": {
        "id": "XKhHA3eiueo0"
      }
    },
    {
      "cell_type": "code",
      "source": [
        "import numpy as np\n",
        "from scipy.stats import norm\n",
        "\n",
        "# Визначив вхідні дані\n",
        "p1 = 0.19   # базове утримання\n",
        "p2 = 0.20   # після змін (+1%)\n",
        "alpha = 0.05\n",
        "power = 0.8\n",
        "beta = 1 - power\n",
        "\n",
        "# Отримав Z-значення\n",
        "z_alpha = norm.ppf(1 - alpha/2)   # двосторонній тест\n",
        "z_beta = norm.ppf(power)\n",
        "\n",
        "# Порахував середню пропорцію\n",
        "p = (p1 + p2) / 2\n",
        "\n",
        "# Зробив розрахунок по формулі для розміру вибірки\n",
        "num = (z_alpha * np.sqrt(2 * p * (1 - p)) + z_beta * np.sqrt(p1 * (1 - p1) + p2 * (1 - p2))) ** 2\n",
        "den = (p2 - p1) ** 2\n",
        "n_per_group = int(np.ceil(num / den))\n",
        "total_n = n_per_group * 2\n",
        "\n",
        "{\"n_per_group\": n_per_group, \"total_n\": total_n}\n"
      ],
      "metadata": {
        "id": "TcZ32BcIufKU",
        "colab": {
          "base_uri": "https://localhost:8080/"
        },
        "outputId": "4679dc1c-8a2e-4401-83d8-f28caef28a6d"
      },
      "execution_count": 2,
      "outputs": [
        {
          "output_type": "execute_result",
          "data": {
            "text/plain": [
              "{'n_per_group': 24641, 'total_n': 49282}"
            ]
          },
          "metadata": {},
          "execution_count": 2
        }
      ]
    },
    {
      "cell_type": "markdown",
      "source": [
        "Висновок: Мінімальна кількість користувачів у кожній групі: 24 641 або сумарно для проведення A/B тесту - не менше 49 282 користувачів. Тобто, щоб оцінити ефект у +1% утримання при базі 19% з потужністю 80% та    α=0.05, потрібно буде зібрати дані приблизно 50 тисяч користувачів."
      ],
      "metadata": {
        "id": "YMKBh5_B-vVk"
      }
    },
    {
      "cell_type": "markdown",
      "metadata": {
        "id": "22f03df4"
      },
      "source": [
        "2. Зчитайте дані АВ тесту у змінну `df` та виведіть середнє значення показника показник `retention_7` (утримання на 7 день) по версіям гри. Сформулюйте гіпотезу: яка версія дає краще утримання через 7 днів після встановлення гри?"
      ]
    },
    {
      "cell_type": "code",
      "source": [
        "import pandas as pd\n",
        "\n",
        "# Зчитав дані з файлу\n",
        "df = pd.read_csv(\"/content/drive/MyDrive/I LOVE DATA EDU COURSE/RAWDATA/cookie_cats.csv\")\n",
        "\n",
        "# Визначив середнє значення retention_7 по версіях гри\n",
        "retention_means = df.groupby(\"version\")[\"retention_7\"].mean()\n",
        "\n",
        "# Вивів результат та записав в словник\n",
        "retention_means.to_dict()"
      ],
      "metadata": {
        "id": "MVzMTs-jh22b",
        "colab": {
          "base_uri": "https://localhost:8080/"
        },
        "outputId": "0ce44650-fc4b-47eb-f17c-50e06ac28c13"
      },
      "execution_count": 3,
      "outputs": [
        {
          "output_type": "execute_result",
          "data": {
            "text/plain": [
              "{'gate_30': 0.19020134228187918, 'gate_40': 0.18200004396667327}"
            ]
          },
          "metadata": {},
          "execution_count": 3
        }
      ]
    },
    {
      "cell_type": "markdown",
      "source": [
        "Висновок: Середні значення утримання на 7-й день (retention_7) по версіях гри:\n",
        "\n",
        "*   gate_30 → 19.02%\n",
        "*   gate_40 → 18.20%"
      ],
      "metadata": {
        "id": "qvH8uHd0_9yE"
      }
    },
    {
      "cell_type": "markdown",
      "source": [
        "Формулювання гіпотез\n",
        "\n",
        "H₀: Утримання на 7-й день однакове в обох версіях (нема статистично значущої різниці).\n",
        "\n",
        "H₁: Версія з воротами на рівні 30 (gate_30) дає краще утримання через 7 днів, ніж версія з воротами на рівні 40 (gate_40)."
      ],
      "metadata": {
        "id": "tFOYD8DLAKlH"
      }
    },
    {
      "cell_type": "markdown",
      "metadata": {
        "id": "74e9c6ca"
      },
      "source": [
        "3. Перевірте з допомогою пасуючого варіанту z-тесту, чи дає якась з версій гри кращий показник `retention_7` на рівні значущості 0.05. Обчисліть також довірчі інтервали для варіантів до переміщення воріт і після. Виведіть результат у форматі:\n",
        "\n",
        "    ```\n",
        "    z statistic: ...\n",
        "    p-value: ...\n",
        "    Довірчий інтервал 95% для групи control: [..., ...]\n",
        "    Довірчий інтервал 95% для групи treatment: [..., ...]\n",
        "    ```\n",
        "\n",
        "    де замість `...` - обчислені значення.\n",
        "    \n",
        "    В якості висновку дайте відповідь на два питання:  \n",
        "\n",
        "      1. Чи є статистична значущою різниця між поведінкою користувачів у різних версіях гри?   \n",
        "      2. Чи перетинаються довірчі інтервали утримання користувачів з різних версій гри? Про що це каже?  \n"
      ]
    },
    {
      "cell_type": "code",
      "source": [
        "import csv\n",
        "from collections import Counter\n",
        "from statsmodels.stats.proportion import proportions_ztest, proportion_confint\n",
        "\n",
        "# Зробив підрахунок успіхів (TRUE) та розмірів вибірки по версіях\n",
        "successes = Counter()\n",
        "totals = Counter()\n",
        "\n",
        "with open(\"/content/drive/MyDrive/I LOVE DATA EDU COURSE/RAWDATA/cookie_cats.csv\", \"r\") as f:\n",
        "    reader = csv.DictReader(f)\n",
        "    for row in reader:\n",
        "        version = row[\"version\"]\n",
        "        val = row[\"retention_7\"].strip().upper()\n",
        "        if val in [\"TRUE\", \"FALSE\"]:\n",
        "            successes[version] += (val == \"TRUE\")\n",
        "            totals[version] += 1\n",
        "\n",
        "# Зібрав дані для тесту\n",
        "count = [successes[\"gate_30\"], successes[\"gate_40\"]]\n",
        "nobs = [totals[\"gate_30\"], totals[\"gate_40\"]]\n",
        "\n",
        "# Визначив Z-тест (двосторонній)\n",
        "z_stat, p_value = proportions_ztest(count, nobs, alternative=\"two-sided\")\n",
        "\n",
        "# Розрахував довірчі інтервали для кожної групи\n",
        "ci_30 = proportion_confint(successes[\"gate_30\"], totals[\"gate_30\"], alpha=0.05, method=\"normal\")\n",
        "ci_40 = proportion_confint(successes[\"gate_40\"], totals[\"gate_40\"], alpha=0.05, method=\"normal\")\n",
        "\n",
        "{\n",
        "    \"z_stat\": round(float(z_stat), 4),\n",
        "    \"p_value\": round(float(p_value), 4),\n",
        "    \"CI_gate_30\": (round(ci_30[0], 4), round(ci_30[1], 4)),\n",
        "    \"CI_gate_40\": (round(ci_40[0], 4), round(ci_40[1], 4))\n",
        "}"
      ],
      "metadata": {
        "id": "kXQE4gyjh5MS",
        "colab": {
          "base_uri": "https://localhost:8080/"
        },
        "outputId": "d4c05a7a-38e3-4da2-8846-70ff079cf8f9"
      },
      "execution_count": 6,
      "outputs": [
        {
          "output_type": "execute_result",
          "data": {
            "text/plain": [
              "{'z_stat': 3.1644,\n",
              " 'p_value': 0.0016,\n",
              " 'CI_gate_30': (0.1866, 0.1938),\n",
              " 'CI_gate_40': (0.1785, 0.1855)}"
            ]
          },
          "metadata": {},
          "execution_count": 6
        }
      ]
    },
    {
      "cell_type": "markdown",
      "source": [
        "Висновок: Оскільки 𝑝-𝑣𝑎𝑙𝑢𝑒 = 0.0016 < 0.05, ми відхиляємо H₀. Це означає, що є статистично значуща різниця між утриманням у групах.Довірчі інтервали для gate_30 та gate_40 не перетинаються:\n",
        "\n",
        "\n",
        "*   gate_30 ≈ 18.7% – 19.4%\n",
        "*   gate_40 ≈ 17.9% – 18.6%\n",
        "\n",
        "Це додатково може підтверджувати, що різниця стабільна, а не випадкова.\n",
        "\n",
        "Отже, версія з воротами на рівні 30 (gate_30) показує краще 7-денне утримання, ніж версія з воротами на рівні 40. Відповідно, переміщення воріт з рівня 30 на рівень 40 негативно відзначилось на поведінці гравців."
      ],
      "metadata": {
        "id": "FVCGlkdLCnya"
      }
    },
    {
      "cell_type": "markdown",
      "metadata": {
        "ExecuteTime": {
          "end_time": "2022-12-10T20:50:10.709766Z",
          "start_time": "2022-12-10T20:50:10.639999Z"
        },
        "id": "076cd867"
      },
      "source": [
        "4. Виконайте тест Хі-квадрат на рівні значущості 5% аби визначити, чи є залежність між версією гри та утриманням гравця на 7ий день після реєстрації.\n",
        "\n",
        "    - Напишіть, як для цього тесту будуть сформульовані гіпотези.\n",
        "    - Проведіть обчислення, виведіть p-значення і напишіть висновок за результатами тесту.\n"
      ]
    },
    {
      "cell_type": "markdown",
      "source": [
        "Крок 1. Формулювання гіпотез\n",
        "\n",
        "*   H₀ (нульова гіпотеза): Версія гри (gate_30 чи gate_40) та утримання на 7-й день незалежні (різниці в утриманні немає).\n",
        "*   H₁ (альтернативна гіпотеза): Версія гри та утримання на 7-й день залежні (різниця є)."
      ],
      "metadata": {
        "id": "1FsWOJhIEJ6Z"
      }
    },
    {
      "cell_type": "markdown",
      "source": [
        "Крок 2 Обчислення значень Хі-квадрат:"
      ],
      "metadata": {
        "id": "gYKWc_iAG7aX"
      }
    },
    {
      "cell_type": "code",
      "source": [
        "import numpy as np\n",
        "from scipy.stats import chi2_contingency\n",
        "\n",
        "# Введи кількість успіхів і загальний розмір вибірки для обох груп\n",
        "success_gate30 = 1931   # TRUE у gate_30\n",
        "n_gate30 = 10155\n",
        "success_gate40 = 1820   # TRUE у gate_40\n",
        "n_gate40 = 10000\n",
        "\n",
        "# Формуємо таблицю спостережень\n",
        "table = np.array([\n",
        "    [success_gate30, n_gate30 - success_gate30],\n",
        "    [success_gate40, n_gate40 - success_gate40]\n",
        "])\n",
        "\n",
        "chi2, p, dof, expected = chi2_contingency(table, correction=False)\n",
        "\n",
        "print(f\"Chi2 statistic: {chi2:.4f}\")\n",
        "print(f\"p-value: {p:.4f}\")\n"
      ],
      "metadata": {
        "id": "kcwD-91Fh84n",
        "colab": {
          "base_uri": "https://localhost:8080/"
        },
        "outputId": "022acbb6-19b8-4ab9-e966-64b82a0ff2cb"
      },
      "execution_count": 7,
      "outputs": [
        {
          "output_type": "stream",
          "name": "stdout",
          "text": [
            "Chi2 statistic: 2.2109\n",
            "p-value: 0.1370\n"
          ]
        }
      ]
    },
    {
      "cell_type": "markdown",
      "source": [
        "Інтерпретація даних та загальний висновок:\n",
        "при рівню значущості: α = 0.05, оскільки p = 0.1370>0.05, ми не можемо відхилити нульову гіпотезу. Це означає, що немає статистично значущої залежності між версією гри (gate_30 чи gate_40) та ймовірністю утримання гравця на 7-й день. Отже, результати суперечливі: можлива невелика різниця, але за Хі-квадрат тестом доказів недостатньо, щоб стверджувати про наявну залежність. З іншого боку, за результатами z-тесту ми бачили різницю в середніх пропорціях, тоді як тест Хі-квадрат показав, що ця різниця не є статистично значущою на рівні 5%. Таким чином, такий фактор як рівень воріт для даної гри можна вважати не надто сильним фактором, що сприяє утриманню. На мій погляд, є сенс тестувати інші фактори та знаходити більш значущі фактори для утримання гравців."
      ],
      "metadata": {
        "id": "37qUY8_UIW_L"
      }
    }
  ]
}